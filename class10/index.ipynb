{
 "cells": [
  {
   "cell_type": "markdown",
   "metadata": {},
   "source": [
    "## Function\n",
    "  * predefined functions -> print, len, id, execute, ord, chr, dir\n",
    "    * provided by in language\n",
    "  * user-defined functions\n",
    "    *custom functions\n",
    "## return and none-return\n",
    "    * return -> function output can be assigned an any variable\n",
    "    * none-return -> function output cannot be assigned an any variable\n",
    "## components\n",
    "* function declaration\n",
    "* function body\n",
    "* function calling\n",
    "## syntax function\n",
    "```\n",
    "def func_name (param1:type,param2:type,...)->return_type: # declaration\n",
    "  func_body # body\n",
    "```\n",
    "```\n",
    "fun_name(afg1,arg2) # calling\n",
    "```"
   ]
  },
  {
   "cell_type": "code",
   "execution_count": 1,
   "metadata": {},
   "outputs": [
    {
     "name": "stdout",
     "output_type": "stream",
     "text": [
      "Pak\n"
     ]
    }
   ],
   "source": [
    "# none return function\n",
    "# a : str = print(\"Pak\")\n",
    "# print(a)"
   ]
  },
  {
   "cell_type": "code",
   "execution_count": 3,
   "metadata": {},
   "outputs": [
    {
     "name": "stdout",
     "output_type": "stream",
     "text": [
      "3\n"
     ]
    }
   ],
   "source": [
    "# return function\n",
    "a : str = str(len(\"Pak\"))\n",
    "print(a)"
   ]
  },
  {
   "cell_type": "markdown",
   "metadata": {},
   "source": [
    "* method -> variable_name.method_name(variable)\n",
    "* function -> func(variable)"
   ]
  },
  {
   "cell_type": "code",
   "execution_count": 14,
   "metadata": {},
   "outputs": [
    {
     "name": "stdout",
     "output_type": "stream",
     "text": [
      "PIAIC\n",
      "Generative A.I\n"
     ]
    }
   ],
   "source": [
    "def piaic()->None:\n",
    "    print(\"PIAIC\")\n",
    "    print(\"Generative A.I\")\n",
    "piaic()"
   ]
  }
 ],
 "metadata": {
  "kernelspec": {
   "display_name": "python11",
   "language": "python",
   "name": "python3"
  },
  "language_info": {
   "codemirror_mode": {
    "name": "ipython",
    "version": 3
   },
   "file_extension": ".py",
   "mimetype": "text/x-python",
   "name": "python",
   "nbconvert_exporter": "python",
   "pygments_lexer": "ipython3",
   "version": "3.12.0"
  }
 },
 "nbformat": 4,
 "nbformat_minor": 2
}
