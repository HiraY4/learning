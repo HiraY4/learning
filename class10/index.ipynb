{
 "cells": [
  {
   "cell_type": "markdown",
   "metadata": {},
   "source": [
    "## Function\n",
    "  * predefined functions -> print, len, id, execute, ord, chr, dir\n",
    "    * provided by in language\n",
    "  * user-defined functions\n",
    "    *custom functions\n",
    "## return and none-return\n",
    "    * return -> function output can be assigned an any variable\n",
    "    * none-return -> function output cannot be assigned an any variable\n",
    "## components\n",
    "* function declaration\n",
    "  * func_name\n",
    "  * parameters\n",
    "    * param_type\n",
    "* function body\n",
    "  * write any business logic\n",
    "* function calling\n",
    "  * func(arg1,arg2....)\n",
    "## syntax function\n",
    "```\n",
    "def func_name (param1:type,param2:type,...)->return_type: # declaration\n",
    "  func_body # body\n",
    "```\n",
    "```\n",
    "fun_name(afg1,arg2) # calling\n",
    "```"
   ]
  },
  {
   "cell_type": "code",
   "execution_count": 1,
   "metadata": {},
   "outputs": [
    {
     "name": "stdout",
     "output_type": "stream",
     "text": [
      "Pak\n"
     ]
    }
   ],
   "source": [
    "# none return function\n",
    "# a : str = print(\"Pak\")\n",
    "# print(a)"
   ]
  },
  {
   "cell_type": "code",
   "execution_count": 3,
   "metadata": {},
   "outputs": [
    {
     "name": "stdout",
     "output_type": "stream",
     "text": [
      "3\n"
     ]
    }
   ],
   "source": [
    "# return function\n",
    "a : str = str(len(\"Pak\"))\n",
    "print(a)"
   ]
  },
  {
   "cell_type": "markdown",
   "metadata": {},
   "source": [
    "* method -> variable_name.method_name(variable)\n",
    "* function -> func(variable)"
   ]
  },
  {
   "cell_type": "code",
   "execution_count": 14,
   "metadata": {},
   "outputs": [
    {
     "name": "stdout",
     "output_type": "stream",
     "text": [
      "PIAIC\n",
      "Generative A.I\n"
     ]
    }
   ],
   "source": [
    "def piaic()->None: #declaration or func signature\n",
    "    # body\n",
    "    print(\"PIAIC\")\n",
    "    print(\"Generative A.I\") # func can be modified anytime\n",
    "    # body\n",
    "piaic() # calling"
   ]
  },
  {
   "cell_type": "code",
   "execution_count": 15,
   "metadata": {},
   "outputs": [
    {
     "data": {
      "text/plain": [
       "2"
      ]
     },
     "execution_count": 15,
     "metadata": {},
     "output_type": "execute_result"
    }
   ],
   "source": [
    "def add (num1:int, num2:int)->int:\n",
    "  return num1 + num2\n",
    "\n",
    "add(1,1)"
   ]
  },
  {
   "cell_type": "markdown",
   "metadata": {},
   "source": [
    "optional parameter"
   ]
  },
  {
   "cell_type": "code",
   "execution_count": 17,
   "metadata": {},
   "outputs": [
    {
     "name": "stdout",
     "output_type": "stream",
     "text": [
      "7 0\n"
     ]
    },
    {
     "data": {
      "text/plain": [
       "0"
      ]
     },
     "execution_count": 17,
     "metadata": {},
     "output_type": "execute_result"
    }
   ],
   "source": [
    "def multiply (num1:int, num2:int=0)->int: #default paramter\n",
    "  # print(num1,num2) num2:int=0 '0 is default value here'\n",
    "  return num1 * num2 \n",
    "multiply(7, 3) # '3 overrided 0 which was default here otherwise' "
   ]
  },
  {
   "cell_type": "code",
   "execution_count": 79,
   "metadata": {},
   "outputs": [
    {
     "name": "stdout",
     "output_type": "stream",
     "text": [
      "num1 value: 7, num2 value: 3\n"
     ]
    },
    {
     "data": {
      "text/plain": [
       "4"
      ]
     },
     "execution_count": 79,
     "metadata": {},
     "output_type": "execute_result"
    }
   ],
   "source": [
    "def subtract (num1:int, num2:int)->int:\n",
    "  print(f\"num1 value: {num1}, num2 value: {num2}\") # returns 7 on num1, 3 on num2\n",
    "  return num1 - num2 \n",
    "subtract(7, 3) # positional arguments -> arg1 value on placeholder num1 & arg2 value on placeholder num2 in print"
   ]
  },
  {
   "cell_type": "code",
   "execution_count": 80,
   "metadata": {},
   "outputs": [
    {
     "name": "stdout",
     "output_type": "stream",
     "text": [
      "num1value: 7, num2 value: 3\n"
     ]
    },
    {
     "data": {
      "text/plain": [
       "4"
      ]
     },
     "execution_count": 80,
     "metadata": {},
     "output_type": "execute_result"
    }
   ],
   "source": [
    "def subtract (num1:int, num2:int)->int:\n",
    "  print(f\"num1 value: {num1}, num2 value: {num2}\") # returns 7 on num1, 3 on num2\n",
    "  return num1 - num2 \n",
    "subtract(num2=7, num1=3) # keyword arguments"
   ]
  },
  {
   "cell_type": "markdown",
   "metadata": {},
   "source": [
    "## lambda function syntax\n",
    "* anonymous function\n",
    "```\n",
    "lambda param1,param2: function_body\n",
    "```"
   ]
  },
  {
   "cell_type": "code",
   "execution_count": 18,
   "metadata": {},
   "outputs": [
    {
     "data": {
      "text/plain": [
       "102"
      ]
     },
     "execution_count": 18,
     "metadata": {},
     "output_type": "execute_result"
    }
   ],
   "source": [
    "a = lambda num1, num2 : num1 + num2\n",
    "a(3,99)"
   ]
  },
  {
   "cell_type": "code",
   "execution_count": 96,
   "metadata": {},
   "outputs": [
    {
     "data": {
      "text/plain": [
       "[9, 25, 49, 81]"
      ]
     },
     "execution_count": 96,
     "metadata": {},
     "output_type": "execute_result"
    }
   ],
   "source": [
    "a : list[int] = [3,5,7,9] # map is a generative function\n",
    "a = list(map(lambda x:x**2, a)) # function then iterated data_type\n",
    "a"
   ]
  },
  {
   "cell_type": "code",
   "execution_count": 63,
   "metadata": {},
   "outputs": [
    {
     "data": {
      "text/plain": [
       "[34, 22]"
      ]
     },
     "execution_count": 63,
     "metadata": {},
     "output_type": "execute_result"
    }
   ],
   "source": [
    "a : list[int] = [34,22,3,5,7,9] # filter is a generative function\n",
    "a = list(filter(lambda x:x%2==0, a)) # function then iterated data_type\n",
    "a"
   ]
  },
  {
   "cell_type": "code",
   "execution_count": 38,
   "metadata": {},
   "outputs": [
    {
     "name": "stdout",
     "output_type": "stream",
     "text": [
      "True\n"
     ]
    }
   ],
   "source": [
    "from typing import Callable # defined types in lambda through Callable \n",
    "\n",
    "add : Callable[[int,int],int] = lambda x,y=0 : x%y==0\n",
    "result = add(44,44)\n",
    "print(result)"
   ]
  },
  {
   "cell_type": "markdown",
   "metadata": {},
   "source": [
    "# Generator Function\n",
    "* iterate on element one by one\n",
    "* stop after each iteration\n",
    "* remembers last value of iteration\n",
    "* next iteration\n",
    "  * go forward from last iterated value\n",
    "* generator is more efficient \n",
    "* consumes less memory\n",
    "* generator is sub-type of iterator\n"
   ]
  },
  {
   "cell_type": "code",
   "execution_count": 49,
   "metadata": {},
   "outputs": [
    {
     "name": "stdout",
     "output_type": "stream",
     "text": [
      "<generator object my_range at 0x000001FA3996BE20>\n",
      "1\n",
      "2\n",
      "iterates\n",
      "3\n"
     ]
    }
   ],
   "source": [
    "def my_range(start:int,end:int,stop:int=0):\n",
    "  for i in range(start,end+1,stop):\n",
    "    yield i\n",
    "iterator_variable = my_range(1,10,1)\n",
    "print(iterator_variable)\n",
    "# print(list(iterator_variable))\n",
    "print(next(iterator_variable))\n",
    "print(next(iterator_variable))\n",
    "print(\"iterates\")\n",
    "print(next(iterator_variable))"
   ]
  },
  {
   "cell_type": "markdown",
   "metadata": {},
   "source": [
    "* from _collections_abc import Iterator # abc-> collection of abstract based classes"
   ]
  },
  {
   "cell_type": "code",
   "execution_count": null,
   "metadata": {},
   "outputs": [],
   "source": [
    "from collections.abc import Iterator\n",
    "\n",
    "mydict = dict[str, object]\n",
    "\n",
    "def yieldFunction() -> Iterator[mydict]:\n",
    "  a: mydict = {}\n",
    "  b: mydict = {}\n",
    "  ...\n",
    "  yield a\n",
    "  yield b"
   ]
  },
  {
   "cell_type": "code",
   "execution_count": 55,
   "metadata": {},
   "outputs": [
    {
     "name": "stdout",
     "output_type": "stream",
     "text": [
      "1\n",
      "2\n",
      "3\n",
      "<class 'generator'>\n"
     ]
    }
   ],
   "source": [
    "from collections.abc import Iterator\n",
    "\n",
    "def my_range(start:int,end:int,stop:int=0) -> Iterator[int]:\n",
    "  for i in range(start,end+1,stop):\n",
    "    yield i\n",
    "iterator_variable : Iterator[int] = my_range(1,10,1)\n",
    "print(next(iterator_variable))\n",
    "print(next(iterator_variable)) \n",
    "print(next(iterator_variable)) # 'next' works step by step which is implemented on iterated data type or run loop to do the same\n",
    "print(type(iterator_variable))\n"
   ]
  },
  {
   "cell_type": "code",
   "execution_count": 56,
   "metadata": {},
   "outputs": [
    {
     "name": "stdout",
     "output_type": "stream",
     "text": [
      "4\n",
      "5\n",
      "6\n",
      "7\n",
      "8\n",
      "9\n",
      "10\n"
     ]
    }
   ],
   "source": [
    "for index in iterator_variable:\n",
    "  print(index)"
   ]
  },
  {
   "cell_type": "code",
   "execution_count": 68,
   "metadata": {},
   "outputs": [
    {
     "data": {
      "text/plain": [
       "['__class__',\n",
       " '__del__',\n",
       " '__delattr__',\n",
       " '__dir__',\n",
       " '__doc__',\n",
       " '__eq__',\n",
       " '__format__',\n",
       " '__ge__',\n",
       " '__getattribute__',\n",
       " '__getstate__',\n",
       " '__gt__',\n",
       " '__hash__',\n",
       " '__init__',\n",
       " '__init_subclass__',\n",
       " '__iter__',\n",
       " '__le__',\n",
       " '__lt__',\n",
       " '__name__',\n",
       " '__ne__',\n",
       " '__new__',\n",
       " '__next__',\n",
       " '__qualname__',\n",
       " '__reduce__',\n",
       " '__reduce_ex__',\n",
       " '__repr__',\n",
       " '__setattr__',\n",
       " '__sizeof__',\n",
       " '__str__',\n",
       " '__subclasshook__',\n",
       " 'close',\n",
       " 'gi_code',\n",
       " 'gi_frame',\n",
       " 'gi_running',\n",
       " 'gi_suspended',\n",
       " 'gi_yieldfrom',\n",
       " 'send',\n",
       " 'throw']"
      ]
     },
     "execution_count": 68,
     "metadata": {},
     "output_type": "execute_result"
    }
   ],
   "source": [
    "dir(iterator_variable)"
   ]
  },
  {
   "cell_type": "code",
   "execution_count": 60,
   "metadata": {},
   "outputs": [
    {
     "name": "stdout",
     "output_type": "stream",
     "text": [
      "Hira welcome back\n"
     ]
    }
   ],
   "source": [
    "def greet(name:str, msg:str=\"welcome back\")->None:\n",
    "  print(name + ' ' + msg)\n",
    "greet(\"Hira\")"
   ]
  },
  {
   "cell_type": "code",
   "execution_count": 67,
   "metadata": {},
   "outputs": [
    {
     "data": {
      "text/plain": [
       "[11,\n",
       " 22,\n",
       " 33,\n",
       " 44,\n",
       " 55,\n",
       " 66,\n",
       " 77,\n",
       " 88,\n",
       " 99,\n",
       " 110,\n",
       " 121,\n",
       " 132,\n",
       " 143,\n",
       " 154,\n",
       " 165,\n",
       " 176,\n",
       " 187,\n",
       " 198,\n",
       " 209,\n",
       " 220,\n",
       " 231,\n",
       " 242,\n",
       " 253,\n",
       " 264,\n",
       " 275,\n",
       " 286,\n",
       " 297,\n",
       " 308,\n",
       " 319,\n",
       " 330,\n",
       " 341,\n",
       " 352,\n",
       " 363,\n",
       " 374,\n",
       " 385,\n",
       " 396,\n",
       " 407,\n",
       " 418,\n",
       " 429,\n",
       " 440,\n",
       " 451,\n",
       " 462,\n",
       " 473,\n",
       " 484,\n",
       " 495,\n",
       " 506,\n",
       " 517,\n",
       " 528,\n",
       " 539,\n",
       " 550,\n",
       " 561,\n",
       " 572,\n",
       " 583,\n",
       " 594,\n",
       " 605,\n",
       " 616,\n",
       " 627,\n",
       " 638,\n",
       " 649,\n",
       " 660,\n",
       " 671,\n",
       " 682,\n",
       " 693,\n",
       " 704,\n",
       " 715,\n",
       " 726,\n",
       " 737,\n",
       " 748,\n",
       " 759,\n",
       " 770,\n",
       " 781,\n",
       " 792,\n",
       " 803,\n",
       " 814,\n",
       " 825,\n",
       " 836,\n",
       " 847,\n",
       " 858,\n",
       " 869,\n",
       " 880,\n",
       " 891,\n",
       " 902,\n",
       " 913,\n",
       " 924,\n",
       " 935,\n",
       " 946,\n",
       " 957,\n",
       " 968,\n",
       " 979,\n",
       " 990,\n",
       " 1001,\n",
       " 1012,\n",
       " 1023,\n",
       " 1034,\n",
       " 1045,\n",
       " 1056,\n",
       " 1067,\n",
       " 1078,\n",
       " 1089,\n",
       " 1100]"
      ]
     },
     "execution_count": 67,
     "metadata": {},
     "output_type": "execute_result"
    }
   ],
   "source": [
    "a : list[int] = list(filter(lambda x:x%11==0, range(1,1111)))\n",
    "a\n"
   ]
  },
  {
   "cell_type": "code",
   "execution_count": 72,
   "metadata": {},
   "outputs": [
    {
     "name": "stdout",
     "output_type": "stream",
     "text": [
      "11\n",
      "22\n",
      "33\n"
     ]
    }
   ],
   "source": [
    "a : list[int] = filter(lambda x:x%11==0, range(1,1111))\n",
    "print(next(a))\n",
    "print(next(a))\n",
    "print(next(a))\n"
   ]
  },
  {
   "cell_type": "markdown",
   "metadata": {},
   "source": [
    "# pass unlimited arguments\n",
    "```\n",
    "def variable_name(*arg:int) \n",
    "# '*' for multiple args \n",
    "# '**' for Dictionary eg-> key:value set (unlimited keywords args)\n",
    "```\n",
    "* unlimited values/args can be passed in tuple form"
   ]
  },
  {
   "cell_type": "code",
   "execution_count": 77,
   "metadata": {},
   "outputs": [
    {
     "name": "stdout",
     "output_type": "stream",
     "text": [
      "(1, 2, 3, 4, 5, 6)\n"
     ]
    },
    {
     "data": {
      "text/plain": [
       "21"
      ]
     },
     "execution_count": 77,
     "metadata": {},
     "output_type": "execute_result"
    }
   ],
   "source": [
    "def abc(*num:int):\n",
    "  print(num)\n",
    "  total = 0\n",
    "  for n in num:\n",
    "    total += n\n",
    "  return total\n",
    "abc(1,2,3,4,5,6)"
   ]
  },
  {
   "cell_type": "code",
   "execution_count": 81,
   "metadata": {},
   "outputs": [
    {
     "name": "stdout",
     "output_type": "stream",
     "text": [
      "{'a': 3, 'b': 4, 'c': 'Pakistan'} <class 'dict'>\n"
     ]
    }
   ],
   "source": [
    "def xyz(**kargs):\n",
    "  print(kargs, type(kargs))\n",
    "xyz(a=3,b=4,c=\"Pakistan\")"
   ]
  },
  {
   "cell_type": "code",
   "execution_count": 82,
   "metadata": {},
   "outputs": [
    {
     "name": "stdout",
     "output_type": "stream",
     "text": [
      "1 3 (5, 6, 6, 6, 9) {'x': 3, 'y': 5, 'z': 99}\n"
     ]
    }
   ],
   "source": [
    "def call_all(a:int,b:int,*args:int,**kargs:int):\n",
    "  print(a,b,args,kargs)\n",
    "\n",
    "call_all(1,3, 5,6,6,6,9, x=3,y=5,z=99)"
   ]
  },
  {
   "cell_type": "code",
   "execution_count": 84,
   "metadata": {},
   "outputs": [
    {
     "name": "stdout",
     "output_type": "stream",
     "text": [
      "Hello sir qasim\n",
      "Hello sir zia\n",
      "Hello sauleh\n"
     ]
    }
   ],
   "source": [
    "from typing import Tuple\n",
    "\n",
    "def greet(*names:str) -> None:\n",
    "  for name in names:\n",
    "    print(\"Hello\", name)\n",
    "\n",
    "greet(\"sir qasim\",\"sir zia\",\"sauleh\")"
   ]
  },
  {
   "cell_type": "code",
   "execution_count": 86,
   "metadata": {},
   "outputs": [
    {
     "name": "stdout",
     "output_type": "stream",
     "text": [
      "{'a': 'Pak', 'b': 'cheen'}\n"
     ]
    }
   ],
   "source": [
    "from typing import Dict\n",
    "def greet(**names:str) -> None:\n",
    "  # for name in names:\n",
    "    print(names)\n",
    "\n",
    "greet(a=\"Pak\", b=\"cheen\")"
   ]
  },
  {
   "cell_type": "markdown",
   "metadata": {},
   "source": [
    "# decorator\n",
    "* business logic/wrapper can have 4-5 fucntions\n",
    "* decorator func -> whenever custom logic is called, decorator fucntion must be called\n",
    "* wrapper wrapes the two functions\n",
    "* a general business logic will always run when custom function is called\n",
    "\n",
    "## flask\n",
    "* with every function, a url is linked.\n",
    "* whenever url(web page) is defined through decorator func, then function itself go through wrapper, func itself  HTML and displays it"
   ]
  },
  {
   "cell_type": "code",
   "execution_count": 88,
   "metadata": {},
   "outputs": [
    {
     "name": "stdout",
     "output_type": "stream",
     "text": [
      "decorator -> whenever custom logic a general business logic can be \n",
      "Hello\n",
      "print something\n"
     ]
    }
   ],
   "source": [
    "# simple decorator\n",
    "\n",
    "from typing import Callable\n",
    "\n",
    "def my_decorator(say_hello): # defined 'variable_types'\n",
    "  def wrapper(): # parameter say_hello received by wrapper\n",
    "    print(\"my_decorator is a business logic inside wrapper func, say_hello func must be called\")\n",
    "    say_hello() # paramter say_hello being called here\n",
    "    print(\"print something\")\n",
    "  return wrapper\n",
    "@my_decorator\n",
    "def say_hello():\n",
    "  print(\"say_hello func will go to my_decorator func\")\n",
    "  #if any argument is passed in say_hello, same arg will be passed in wrapper func\n",
    "say_hello()"
   ]
  },
  {
   "cell_type": "code",
   "execution_count": null,
   "metadata": {},
   "outputs": [],
   "source": [
    "# complex decorator \n",
    "from typing import Callable\n",
    "\n",
    "def my_decorator(func: Callable[[int], None]) -> Callable[[int], None]:\n",
    "  def wrapper(num1:int) -> None:\n",
    "    print(\"bla\")\n",
    "    func(num1)\n",
    "    print(\"bla\")\n",
    "  return wrapper\n",
    "\n",
    "@my_decorator\n",
    "def say_hello(num1:int) -> None:\n",
    "  print(num1)\n",
    "\n",
    "say_hello(10)"
   ]
  }
 ],
 "metadata": {
  "kernelspec": {
   "display_name": "python11",
   "language": "python",
   "name": "python3"
  },
  "language_info": {
   "codemirror_mode": {
    "name": "ipython",
    "version": 3
   },
   "file_extension": ".py",
   "mimetype": "text/x-python",
   "name": "python",
   "nbconvert_exporter": "python",
   "pygments_lexer": "ipython3",
   "version": "3.12.0"
  }
 },
 "nbformat": 4,
 "nbformat_minor": 2
}
