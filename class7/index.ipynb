{
 "cells": [
  {
   "cell_type": "markdown",
   "metadata": {},
   "source": [
    "* problem in list and tuple;\n",
    "* value was stored on index basis\n",
    "* difficult to evaluate set information on different indexes in a list or tuple\n",
    "# Dictionary resolved the above problem\n",
    "* data basis can be made\n",
    "* language can be made according to new structure such as SQL(structural query lang) used to extract information\n",
    "* thus data structure is important"
   ]
  },
  {
   "cell_type": "markdown",
   "metadata": {},
   "source": [
    "# Dictionary\n",
    "* key:value(items) ---> key is replacement of indexes\n",
    "* {body}\n",
    "* Dict structure is like object in javascript\n",
    "* information extraction method ---> Dict_variable[key_name]\n",
    "* Dict_variable[new_key_name] = new_value OR update value as per choice"
   ]
  },
  {
   "cell_type": "code",
   "execution_count": 23,
   "metadata": {},
   "outputs": [
    {
     "name": "stdout",
     "output_type": "stream",
     "text": [
      "'Sauleh'\n",
      "'0 is key here NOT INDEX NUMBER'\n",
      "420\n"
     ]
    }
   ],
   "source": [
    "from typing import Dict, Union, Optional\n",
    "import pprint\n",
    "\n",
    "Key = Union[str,int]\n",
    "Value = Union[str,int,list, dict,tuple,set]\n",
    "data : Dict[Key,Value] = {\n",
    "                        \"fname\":\"Sauleh\", # colon is used as seperater\n",
    "                        \"lname\":\"Yousuf\",\n",
    "                        \"age\":1,\n",
    "                        \"course\":(\"Python\",\"Typescript\"),\n",
    "                        0:\"0 is key here NOT INDEX NUMBER\",\n",
    "                        \"set\":{\"a\":111,\"b\":420}\n",
    "                        }\n",
    "# display(data)\n",
    "pprint.pprint(data[\"fname\"]) # key is used instead of index to extract information\n",
    "pprint.pprint(data[0]) #0 is key here NOT INDEX NUMBER\n",
    "pprint.pprint(data[\"set\"][\"b\"]) # extractin information from set"
   ]
  },
  {
   "cell_type": "code",
   "execution_count": 26,
   "metadata": {},
   "outputs": [
    {
     "name": "stdout",
     "output_type": "stream",
     "text": [
      "{'name': 'Hira', 'age': 12, 'onsite': 'True'}\n"
     ]
    }
   ],
   "source": [
    "from typing import Dict, Union, Optional\n",
    "import pprint\n",
    "\n",
    "Key = Union[str,int]\n",
    "Value = Union[str,int,list, dict,tuple,set]\n",
    "data : Dict[Key,Value] = {} #empty Dict filled with new values\n",
    "\n",
    "data[\"name\"] = \"Hira\"\n",
    "data[\"age\"] = 12\n",
    "data[\"onsite\"] = \"True\" # new value edit \n",
    "\n",
    "print(data)"
   ]
  },
  {
   "cell_type": "code",
   "execution_count": 28,
   "metadata": {},
   "outputs": [
    {
     "data": {
      "text/plain": [
       "{'fname': 'Mr.Sauleh', 'khala_name': 'Yousuf khala', 'age': 11}"
      ]
     },
     "metadata": {},
     "output_type": "display_data"
    }
   ],
   "source": [
    "from typing import Dict, Union, Optional\n",
    "import pprint\n",
    "\n",
    "Key = Union[str,int]\n",
    "Value = Union[str,int,list, dict,tuple,set]\n",
    "data : Dict[Key,Value] = {\n",
    "                        \"fname\":\"Sauleh\", # colon is used as seperater\n",
    "                        \"khala_name\":\"Yousuf khala\",\n",
    "                        \"age\":11,\n",
    "}\n",
    "\n",
    "data[\"fname\"] = \"Mr.Sauleh\" #updated value\n",
    "display(data)"
   ]
  },
  {
   "cell_type": "markdown",
   "metadata": {},
   "source": [
    "# SET (data type)\n",
    "* {}\n",
    "* hashable\n",
    "* returns unique information in order eg ---> {5,7,1,1,4,1,1,2,3,5} will return {1,2,3,4,5,7}\n",
    "* index does not work\n",
    "* has its own method"
   ]
  },
  {
   "cell_type": "code",
   "execution_count": 13,
   "metadata": {},
   "outputs": [
    {
     "data": {
      "text/plain": [
       "['add',\n",
       " 'clear',\n",
       " 'copy',\n",
       " 'difference',\n",
       " 'difference_update',\n",
       " 'discard',\n",
       " 'intersection',\n",
       " 'intersection_update',\n",
       " 'isdisjoint',\n",
       " 'issubset',\n",
       " 'issuperset',\n",
       " 'pop',\n",
       " 'remove',\n",
       " 'symmetric_difference',\n",
       " 'symmetric_difference_update',\n",
       " 'union',\n",
       " 'update']"
      ]
     },
     "execution_count": 13,
     "metadata": {},
     "output_type": "execute_result"
    }
   ],
   "source": [
    "# method and atributes of 'SET'\n",
    "\n",
    "[i for i in dir(set) if \"__\" not in i]"
   ]
  },
  {
   "cell_type": "code",
   "execution_count": 18,
   "metadata": {},
   "outputs": [
    {
     "name": "stdout",
     "output_type": "stream",
     "text": [
      "{1, 3, 4, 9}\n",
      "[1, 3, 4, 9]\n"
     ]
    }
   ],
   "source": [
    "abc : set = {4,1,9,3,3}\n",
    "print(abc)\n",
    "xyz : list[int] = list(abc)\n",
    "print(xyz)\n"
   ]
  },
  {
   "cell_type": "code",
   "execution_count": 21,
   "metadata": {},
   "outputs": [
    {
     "name": "stdout",
     "output_type": "stream",
     "text": [
      "[1, 2, 4, 7]\n",
      "{1, 2, 4, 7}\n"
     ]
    }
   ],
   "source": [
    "abc : list[int] = [1,2,4,7]\n",
    "print(abc)\n",
    "xyz : set = set(abc)\n",
    "print(xyz)"
   ]
  },
  {
   "cell_type": "code",
   "execution_count": 31,
   "metadata": {},
   "outputs": [
    {
     "data": {
      "text/plain": [
       "['clear',\n",
       " 'copy',\n",
       " 'fromkeys',\n",
       " 'get',\n",
       " 'items',\n",
       " 'keys',\n",
       " 'pop',\n",
       " 'popitem',\n",
       " 'setdefault',\n",
       " 'update',\n",
       " 'values']"
      ]
     },
     "execution_count": 31,
     "metadata": {},
     "output_type": "execute_result"
    }
   ],
   "source": [
    "from typing import Dict, Union, Optional\n",
    "import pprint\n",
    "\n",
    "Key = Union[str,int]\n",
    "Value = Union[str,int,list, dict,tuple,set]\n",
    "data : Dict[Key,Value] = {\n",
    "                        \"fname\":\"Sauleh\", # colon is used as seperater\n",
    "                        \"khala_name\":\"Yousuf khala\",\n",
    "                        \"age\":11,\n",
    "                        }\n",
    "[i for i in dir(data) if \"__\" not in i] #prints information of variable data type i.e \"Dict\""
   ]
  },
  {
   "cell_type": "markdown",
   "metadata": {},
   "source": [
    "get"
   ]
  },
  {
   "cell_type": "code",
   "execution_count": 34,
   "metadata": {},
   "outputs": [
    {
     "name": "stdout",
     "output_type": "stream",
     "text": [
      "None\n",
      "NA\n",
      "11\n"
     ]
    }
   ],
   "source": [
    "from typing import Dict, Union, Optional\n",
    "import pprint\n",
    "\n",
    "Key = Union[str,int]\n",
    "Value = Union[str,int,list, dict,tuple,set]\n",
    "data : Dict[Key,Value] = {\n",
    "                        \"fname\":\"Sauleh\", # colon is used as seperater\n",
    "                        \"khala_name\":\"Yousuf khala\",\n",
    "                        \"age\":11,\n",
    "                        }\n",
    "# print(data(\"Pakistan\")) # will crash whole program\n",
    "print(data.get(\"Pakistan\"))\n",
    "print(data.get(\"Pakistan\", \"NA\")) #'NA' is a msg which can be provided by developer\n",
    "print(data.get(\"age\")) #works as 'age' key is there\n"
   ]
  },
  {
   "cell_type": "markdown",
   "metadata": {},
   "source": [
    "keys, values, items methods"
   ]
  },
  {
   "cell_type": "code",
   "execution_count": 55,
   "metadata": {},
   "outputs": [
    {
     "name": "stdout",
     "output_type": "stream",
     "text": [
      "fname\n",
      "lname\n",
      "age\n",
      "dict_keys(['fname', 'lname', 'age'])\n",
      "dict_values(['Sauleh', 'Yousuf', 11])\n",
      "dict_items([('fname', 'Sauleh'), ('lname', 'Yousuf'), ('age', 11)])\n",
      "fname\n",
      "lname\n",
      "age\n",
      "Sauleh\n",
      "Yousuf\n",
      "11\n",
      "fname Sauleh\n",
      "lname Yousuf\n",
      "age 11\n"
     ]
    }
   ],
   "source": [
    "Key = Union[str,int]\n",
    "Value = Union[str,int,list, dict,tuple,set]\n",
    "data : Dict[Key,Value] = {\n",
    "                        \"fname\":\"Sauleh\", # colon is used as seperater\n",
    "                        \"lname\":\"Yousuf\",\n",
    "                        \"age\":11\n",
    "                        }\n",
    "for d in data:\n",
    "  print(d)\n",
    "\n",
    "print(data.keys()) # keys\n",
    "print(data.values()) # values\n",
    "print(data.items()) # items provides list of tuple\n",
    "\n",
    "for k in data.keys():\n",
    "  # print(k, data[k])\n",
    "  print(k)\n",
    "# [k for k in data.keys()] # comprehensive style\n",
    "\n",
    "for v in data.values():\n",
    "  print(v)\n",
    "# [v for v in data.values()] # comprehensive style\n",
    "\n",
    "# for k,v in data.items():\n",
    "#   print(k,v)\n",
    "[k,v for k,v in data.items()] # comprehensive style\n",
    "[v,k for k,v in data.items()] # shuffle 'k' - 'v'\n"
   ]
  },
  {
   "cell_type": "markdown",
   "metadata": {},
   "source": [
    "fromkeys method"
   ]
  },
  {
   "cell_type": "code",
   "execution_count": 63,
   "metadata": {},
   "outputs": [
    {
     "name": "stdout",
     "output_type": "stream",
     "text": [
      "{}\n",
      "{'id': None, 'name': None, 'course': None}\n"
     ]
    }
   ],
   "source": [
    "key : list[str] = [\"id\",\"name\",\"course\"]\n",
    "data : Dict[Key, Value] = {}\n",
    "\n",
    "print(data)\n",
    "data = data.fromkeys(key) # data.fromkeys(key) -> inline \n",
    "print(data)"
   ]
  }
 ],
 "metadata": {
  "kernelspec": {
   "display_name": "python11",
   "language": "python",
   "name": "python3"
  },
  "language_info": {
   "codemirror_mode": {
    "name": "ipython",
    "version": 3
   },
   "file_extension": ".py",
   "mimetype": "text/x-python",
   "name": "python",
   "nbconvert_exporter": "python",
   "pygments_lexer": "ipython3",
   "version": "3.12.0"
  }
 },
 "nbformat": 4,
 "nbformat_minor": 2
}
