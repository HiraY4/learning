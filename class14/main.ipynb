{
 "cells": [
  {
   "cell_type": "code",
   "execution_count": 15,
   "metadata": {},
   "outputs": [
    {
     "data": {
      "text/plain": [
       "'Mother speaking function python'"
      ]
     },
     "execution_count": 15,
     "metadata": {},
     "output_type": "execute_result"
    }
   ],
   "source": [
    "class Mother():\n",
    "  def __init__(self, name:str) -> None:\n",
    "    self.name : str = name\n",
    "    self.eye_color : str = \"blue\"\n",
    "\n",
    "  def speak(self, words) -> str:\n",
    "      # print(f\"Mother class function {words}\")\n",
    "    return f\"Mother speaking function {words}\"\n",
    "class Father():\n",
    "  def __init__(self, name:str) -> None:\n",
    "    self.name : str = name\n",
    "    self.height : str = \"6 feet\"\n",
    "  \n",
    "  def speak(self, words) -> str:\n",
    "    return f\"Father speaking function {words}\"\n",
    "\n",
    "class Child(Mother, Father): # or Father, Mother\n",
    "  def __init__ (self, mother_name:str, father_name:str, child_name:str) -> None:\n",
    "    Mother.__init__(self, mother_name)\n",
    "    Father.__init__(self, father_name)\n",
    "    self.child_name : str = child_name\n",
    "\n",
    "hira : Child = Child(\"Shaggy\", \"Yousuf\", \"Hira\")\n",
    "hira.speak(\"Typescript\")\n",
    "hira.speak(\"python\")"
   ]
  },
  {
   "cell_type": "markdown",
   "metadata": {},
   "source": [
    "## Function Overloading\n",
    "### Overloading\n",
    "* function overload\n",
    "* -> signature is different in every fucntion with same name/variable_name \""
   ]
  },
  {
   "cell_type": "code",
   "execution_count": 24,
   "metadata": {},
   "outputs": [
    {
     "name": "stdout",
     "output_type": "stream",
     "text": [
      "3\n"
     ]
    }
   ],
   "source": [
    "from typing import Union, overload # overload is decorator in wrapper function is used\n",
    "\n",
    "@overload\n",
    "def add(x:int, y:int) -> int: \n",
    "    ... # no body, just signature '...'\n",
    "@overload\n",
    "def add(x:float, y:float) -> float:\n",
    "    ...\n",
    "@overload\n",
    "def add(x:str, y:str) -> str:\n",
    "    ...\n",
    "\n",
    "def add(x:Union[int,float,str], y:Union[int,float,str])->Union[int,float,str]:\n",
    "    if isinstance(x,int) and isinstance(y,int):\n",
    "      return x + y\n",
    "    elif isinstance(x,float) and isinstance(y,float): \n",
    "      return x + y\n",
    "    elif isinstance(x,str) and isinstance(y,str):\n",
    "      return x + y\n",
    "    else:\n",
    "       raise TypeError(\"invalid input\")\n",
    "r1 = add(1,2)\n",
    "print(r1)"
   ]
  },
  {
   "cell_type": "code",
   "execution_count": 31,
   "metadata": {},
   "outputs": [
    {
     "name": "stdout",
     "output_type": "stream",
     "text": [
      "28\n"
     ]
    }
   ],
   "source": [
    "# Below is multiple arguments example;\n",
    "# its not overload because only one signature is used here -> int\n",
    "\n",
    "def sum(*num:int)->int:\n",
    "  total : int = 0\n",
    "  for n in num:\n",
    "    total += n\n",
    "  return total\n",
    "\n",
    "print(sum(2,12,2,4,8))"
   ]
  },
  {
   "cell_type": "markdown",
   "metadata": {},
   "source": [
    "## Method Overload / Class Method"
   ]
  },
  {
   "cell_type": "code",
   "execution_count": null,
   "metadata": {},
   "outputs": [],
   "source": [
    "from typing import Union, overload\n",
    "\n",
    "class Parent: # class method\n",
    "  @overload\n",
    "  def add(self, x:int, y:int) -> int: \n",
    "      ... # no body, just signature '...'\n",
    "  @overload\n",
    "  def add(self, x:float, y:float) -> float:\n",
    "      ...\n",
    "  @overload\n",
    "  def add(self, x:str, y:str) -> str:\n",
    "      ...\n",
    "\n",
    "  def add(self, x:Union[int,float,str], y:Union[int,float,str])->Union[int,float,str]:\n",
    "      if isinstance(x,int) and isinstance(y,int):\n",
    "        return x + y\n",
    "      elif isinstance(x,float) and isinstance(y,float): \n",
    "        return x + y\n",
    "      elif isinstance(x,str) and isinstance(y,str):\n",
    "        return x + y\n",
    "      else:\n",
    "        raise TypeError(\"invalid input\")\n",
    "r1 = add(1,2)\n",
    "print(r1)"
   ]
  },
  {
   "cell_type": "markdown",
   "metadata": {},
   "source": [
    "## Overriding\n",
    "* base technology to achieve Polymorphism\n",
    "* "
   ]
  },
  {
   "cell_type": "code",
   "execution_count": 35,
   "metadata": {},
   "outputs": [
    {
     "name": "stdout",
     "output_type": "stream",
     "text": [
      "Bird is eating warms\n",
      "Animal is eating grass\n",
      "Bird is eating grass\n"
     ]
    }
   ],
   "source": [
    "class Animal():\n",
    "  def eating(self, food:str) -> None:\n",
    "    print(f\"Animal is eating {food}\")\n",
    "\n",
    "class Bird():\n",
    "  def eating(self, food:str) -> None:\n",
    "    print(f\"Bird is eating {food}\")"
   ]
  },
  {
   "cell_type": "code",
   "execution_count": 37,
   "metadata": {},
   "outputs": [
    {
     "name": "stdout",
     "output_type": "stream",
     "text": [
      "Animal is eating grass\n"
     ]
    }
   ],
   "source": [
    "animal : Animal = Animal()\n",
    "animal.eating(\"grass\")"
   ]
  },
  {
   "cell_type": "code",
   "execution_count": 38,
   "metadata": {},
   "outputs": [
    {
     "name": "stdout",
     "output_type": "stream",
     "text": [
      "Bird is eating warms\n"
     ]
    }
   ],
   "source": [
    "bird : Bird = Bird()\n",
    "bird.eating(\"warms\")"
   ]
  },
  {
   "cell_type": "markdown",
   "metadata": {},
   "source": [
    "### Polymorphism \n",
    "* -> method performing more then one behavior"
   ]
  },
  {
   "cell_type": "markdown",
   "metadata": {},
   "source": [
    "## achieving Polymorphism using method overriding\n",
    "* overriding Parent class method into Child class as seen in example, below; "
   ]
  },
  {
   "cell_type": "code",
   "execution_count": 39,
   "metadata": {},
   "outputs": [
    {
     "name": "stdout",
     "output_type": "stream",
     "text": [
      "Bird is eating grass\n"
     ]
    }
   ],
   "source": [
    "animal : Animal = Bird() # overriding Animal class 'eating method' to Bird class  \n",
    "animal.eating(\"grass\") # object method is decided in runtime"
   ]
  },
  {
   "cell_type": "markdown",
   "metadata": {},
   "source": [
    "## Static Method"
   ]
  },
  {
   "cell_type": "code",
   "execution_count": 47,
   "metadata": {},
   "outputs": [
    {
     "name": "stdout",
     "output_type": "stream",
     "text": [
      "2\n",
      "748\n",
      "I am a student at PIAIC\n"
     ]
    }
   ],
   "source": [
    "class MathOperations():\n",
    "\n",
    "  counter : int = 100 # class variable1 / static variable\n",
    "  institute : str = \"PIAIC\" # class variable2 / static variable\n",
    "\n",
    "  @staticmethod\n",
    "  def add(x:int, y:int)->int:\n",
    "    return x+y # addition\n",
    "  \n",
    "  @staticmethod\n",
    "  def multiply(x:int, y:int)->int:\n",
    "    return x*y # multiply\n",
    "  \n",
    "result_add = MathOperations.add(1,1)\n",
    "print(result_add)\n",
    "\n",
    "result_multiply = MathOperations.multiply(34,22)\n",
    "print(result_multiply)\n",
    "\n",
    "print(f\"I am a student at {MathOperations.institute}\")"
   ]
  },
  {
   "cell_type": "code",
   "execution_count": 51,
   "metadata": {},
   "outputs": [
    {
     "name": "stdout",
     "output_type": "stream",
     "text": [
      "i am eating icecream\n"
     ]
    }
   ],
   "source": [
    "class Human():\n",
    "  def eating(self, food:str)->None:\n",
    "    print(f\"i am eating {food}\")\n",
    "\n",
    "obj1 : Human = Human()\n",
    "obj1.eating(\"icecream\")"
   ]
  },
  {
   "cell_type": "code",
   "execution_count": 50,
   "metadata": {},
   "outputs": [
    {
     "name": "stdout",
     "output_type": "stream",
     "text": [
      "i am eating icecream\n"
     ]
    }
   ],
   "source": [
    "class Human(object): # base class\n",
    "  def eating(self, food:str)->None:\n",
    "    print(f\"i am eating {food}\")\n",
    "\n",
    "obj1 : Human = Human()\n",
    "obj1.eating(\"icecream\")"
   ]
  },
  {
   "cell_type": "markdown",
   "metadata": {},
   "source": [
    "## Callable"
   ]
  },
  {
   "cell_type": "code",
   "execution_count": 58,
   "metadata": {},
   "outputs": [
    {
     "name": "stdout",
     "output_type": "stream",
     "text": [
      "i am eating Biryani\n",
      "i am eating Nehari\n"
     ]
    }
   ],
   "source": [
    "from typing import Any\n",
    "\n",
    "\n",
    "class Human1(object): # base class\n",
    "  def eating(self, food:str)->None:\n",
    "    print(f\"i am eating {food}\")\n",
    "\n",
    "  def __call__(self) -> Any:\n",
    "    self.eating(\"Nehari\")\n",
    "\n",
    "obj2 : Human1 = Human1()\n",
    "obj2.eating(\"Biryani\")\n",
    "\n",
    "obj2.__call__()"
   ]
  }
 ],
 "metadata": {
  "kernelspec": {
   "display_name": "python11",
   "language": "python",
   "name": "python3"
  },
  "language_info": {
   "codemirror_mode": {
    "name": "ipython",
    "version": 3
   },
   "file_extension": ".py",
   "mimetype": "text/x-python",
   "name": "python",
   "nbconvert_exporter": "python",
   "pygments_lexer": "ipython3",
   "version": "3.12.0"
  }
 },
 "nbformat": 4,
 "nbformat_minor": 2
}
