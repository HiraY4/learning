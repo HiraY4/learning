{
 "cells": [
  {
   "cell_type": "code",
   "execution_count": 1,
   "metadata": {},
   "outputs": [
    {
     "name": "stdout",
     "output_type": "stream",
     "text": [
      "The Zen of Python, by Tim Peters\n",
      "\n",
      "Beautiful is better than ugly.\n",
      "Explicit is better than implicit.\n",
      "Simple is better than complex.\n",
      "Complex is better than complicated.\n",
      "Flat is better than nested.\n",
      "Sparse is better than dense.\n",
      "Readability counts.\n",
      "Special cases aren't special enough to break the rules.\n",
      "Although practicality beats purity.\n",
      "Errors should never pass silently.\n",
      "Unless explicitly silenced.\n",
      "In the face of ambiguity, refuse the temptation to guess.\n",
      "There should be one-- and preferably only one --obvious way to do it.\n",
      "Although that way may not be obvious at first unless you're Dutch.\n",
      "Now is better than never.\n",
      "Although never is often better than *right* now.\n",
      "If the implementation is hard to explain, it's a bad idea.\n",
      "If the implementation is easy to explain, it may be a good idea.\n",
      "Namespaces are one honking great idea -- let's do more of those!\n"
     ]
    }
   ],
   "source": [
    "import this"
   ]
  },
  {
   "cell_type": "markdown",
   "metadata": {},
   "source": [
    "# Help\n",
    "* help(object)\n",
    "* object?\n",
    "* object??\n",
    "* ?object\n",
    "* ??object"
   ]
  },
  {
   "cell_type": "code",
   "execution_count": 44,
   "metadata": {},
   "outputs": [
    {
     "name": "stdout",
     "output_type": "stream",
     "text": [
      "\u001b[1;31mSignature:\u001b[0m \u001b[0mprint\u001b[0m\u001b[1;33m(\u001b[0m\u001b[1;33m*\u001b[0m\u001b[0margs\u001b[0m\u001b[1;33m,\u001b[0m \u001b[0msep\u001b[0m\u001b[1;33m=\u001b[0m\u001b[1;34m' '\u001b[0m\u001b[1;33m,\u001b[0m \u001b[0mend\u001b[0m\u001b[1;33m=\u001b[0m\u001b[1;34m'\\n'\u001b[0m\u001b[1;33m,\u001b[0m \u001b[0mfile\u001b[0m\u001b[1;33m=\u001b[0m\u001b[1;32mNone\u001b[0m\u001b[1;33m,\u001b[0m \u001b[0mflush\u001b[0m\u001b[1;33m=\u001b[0m\u001b[1;32mFalse\u001b[0m\u001b[1;33m)\u001b[0m\u001b[1;33m\u001b[0m\u001b[1;33m\u001b[0m\u001b[0m\n",
      "\u001b[1;31mDocstring:\u001b[0m\n",
      "Prints the values to a stream, or to sys.stdout by default.\n",
      "\n",
      "sep\n",
      "  string inserted between values, default a space.\n",
      "end\n",
      "  string appended after the last value, default a newline.\n",
      "file\n",
      "  a file-like object (stream); defaults to the current sys.stdout.\n",
      "flush\n",
      "  whether to forcibly flush the stream.\n",
      "\u001b[1;31mType:\u001b[0m      builtin_function_or_method"
     ]
    }
   ],
   "source": [
    "# help(print)\n",
    "# print?"
   ]
  },
  {
   "cell_type": "markdown",
   "metadata": {},
   "source": [
    "# LIST\n",
    "\n",
    "* dynamic length\n",
    "* heterogenous types\n",
    "* index: \n",
    "    * positive(0-n1'till list length') \n",
    "    * negative:(-1-length'till list length in negative/minus-')\n",
    "* slicing\n",
    "    * start: (int) include\n",
    "    * end: (int) n-1\n",
    "    * step: (int) sequence"
   ]
  },
  {
   "cell_type": "code",
   "execution_count": 2,
   "metadata": {},
   "outputs": [
    {
     "name": "stdout",
     "output_type": "stream",
     "text": [
      "a\n",
      "a\n"
     ]
    }
   ],
   "source": [
    "# ->     0    1     2 positive index\n",
    "name = [\"a\", \"b\", \"c\"] # total length minus 1 = last index\n",
    "# <-    -3   -2   -1 negative index\n",
    "print(name[0])\n",
    "print(name[-3])"
   ]
  },
  {
   "cell_type": "code",
   "execution_count": 6,
   "metadata": {},
   "outputs": [
    {
     "name": "stdout",
     "output_type": "stream",
     "text": [
      "Founder of PIAIC is SIR ZIA\n",
      "Typescript mentor is Sir Okasha\n",
      "11 year old student of Python is Sauleh\n"
     ]
    },
    {
     "data": {
      "text/plain": [
       "list"
      ]
     },
     "metadata": {},
     "output_type": "display_data"
    },
    {
     "data": {
      "text/plain": [
       "str"
      ]
     },
     "metadata": {},
     "output_type": "display_data"
    }
   ],
   "source": [
    "from typing import Any\n",
    "\n",
    "a: list[Any] = [\"Sauleh\", \"Sir Zia\", \"Sir Okasha\"]\n",
    "print(f'Founder of PIAIC is {a[-2].upper()}')\n",
    "print(f'Typescript mentor is {a[2]}')\n",
    "print(f'11 year old student of Python is {a[0]}')\n",
    "\n",
    "display(type(a))\n",
    "display(type(a[0]))\n"
   ]
  },
  {
   "cell_type": "code",
   "execution_count": 91,
   "metadata": {},
   "outputs": [
    {
     "name": "stdout",
     "output_type": "stream",
     "text": [
      "My next car is Cast\n"
     ]
    }
   ],
   "source": [
    "car : list[str] = [\"Civic\", \"cast\"]\n",
    "message = f\"My next car is {car[1].title()}\"\n",
    "print(message)"
   ]
  },
  {
   "cell_type": "code",
   "execution_count": 11,
   "metadata": {},
   "outputs": [
    {
     "name": "stdout",
     "output_type": "stream",
     "text": [
      "['A', 'B', 'C', 'D', 'E', 'F', 'G', 'H', 'I', 'J', 'K', 'L', 'M', 'N', 'O', 'P', 'Q', 'R', 'S', 'T', 'U', 'V', 'W', 'X', 'Y', 'Z']\n"
     ]
    }
   ],
   "source": [
    "#str is iterative data type in which iteration can be performed\n",
    "\n",
    "characters: list[str] = list (\"ABCDEFGHIJKLMNOPQRSTUVWXYZ\")\n",
    "print(characters)\n",
    "# display(characters)\n"
   ]
  },
  {
   "cell_type": "code",
   "execution_count": 12,
   "metadata": {},
   "outputs": [
    {
     "name": "stdout",
     "output_type": "stream",
     "text": [
      "['A', 'B', 'C', 'D', 'E', 'F', 'G', 'H', 'I', 'J', 'K', 'L', 'M', 'N', 'O', 'P', 'Q', 'R', 'S', 'T', 'U', 'V', 'W', 'X', 'Y', 'Z']\n"
     ]
    }
   ],
   "source": [
    "alphabets : list[str] = ['A', 'B', 'C', 'D', 'E', 'F', 'G', 'H', 'I', 'J', 'K', 'L', 'M', 'N', 'O', 'P', 'Q', 'R', 'S', 'T', 'U', 'V', 'W', 'X', 'Y', 'Z']\n",
    "print(alphabets)"
   ]
  },
  {
   "cell_type": "code",
   "execution_count": 13,
   "metadata": {},
   "outputs": [
    {
     "data": {
      "text/plain": [
       "['a', 'b', 'c', 'd']"
      ]
     },
     "execution_count": 13,
     "metadata": {},
     "output_type": "execute_result"
    }
   ],
   "source": [
    "list(\"abcd\")"
   ]
  },
  {
   "cell_type": "markdown",
   "metadata": {},
   "source": [
    "* SLICING\n",
    "    * start: (int) include : from where to start\n",
    "    * end: (int) n-1\n",
    "    * step: (int) sequence or step\n",
    "* slice (int:int:int)\n",
    "* default slicing (from left to right)\n",
    "* slice data prints in list type\n",
    "* slice is significant in numpy \n",
    "* because in AI and deep learning data is converted in numbers\n",
    "* and to manipulate the data, slicing technique (powerful tool).    "
   ]
  },
  {
   "cell_type": "code",
   "execution_count": 34,
   "metadata": {},
   "outputs": [
    {
     "name": "stdout",
     "output_type": "stream",
     "text": [
      "['a', 'c', 'e']\n",
      "['f', 'e', 'd', 'c', 'b', 'a']\n",
      "['a', 'b']\n",
      "['a', 'b']\n",
      "['a', 'b']\n",
      "['b', 'c']\n",
      "['a', 'c']\n",
      "['b', 'c']\n",
      "[]\n",
      "['f', 'e', 'd', 'c']\n"
     ]
    }
   ],
   "source": [
    "#                               0   1   2    3    4    5\n",
    "slicing_practice: list[str] = [\"a\",\"b\",\"c\", \"d\", \"e\", \"f\"]\n",
    "#                              -6  -5  -4   -3   -2    -1\n",
    "print(slicing_practice[::2]) #steps are defined here which is 2 each time.\n",
    "print(slicing_practice[::-1]) #right to left list display \n",
    "print(slicing_practice[:2]) \n",
    "print(slicing_practice[0:2]) #starting point: end point -1\n",
    "print(slicing_practice[-6:-4]) #starting point: end point -1\n",
    "print(slicing_practice[1:3:1])\n",
    "print(slicing_practice[0:4:2])\n",
    "print(slicing_practice[1:-3]) #will work \n",
    "print(slicing_practice[-1:-5]) # will not work because iteration works from left to right\n",
    "print(slicing_practice[-1:-5:-1]) # will work because iteration is directed from right to left"
   ]
  },
  {
   "cell_type": "markdown",
   "metadata": {},
   "source": [
    "DATA TYPE:\n",
    "* Mutable: lists, dictionaries, user-defined classes and sets: changable by nature\n",
    "* Immutable: int, float, decimal, bool, string, tuple, and range: static in nature"
   ]
  },
  {
   "cell_type": "code",
   "execution_count": 38,
   "metadata": {},
   "outputs": [
    {
     "name": "stdout",
     "output_type": "stream",
     "text": [
      "['Sauleh', 'Waseh', 'Sarah', 'Zia']\n",
      "Zia\n",
      "['Sauleh', 'Waseh', 'Sarah', 'Sir Zia']\n"
     ]
    }
   ],
   "source": [
    "a : list[Any] = [\"Sauleh\", \"Waseh\", \"Sarah\", \"Zia\"]\n",
    "print(a)\n",
    "print(a[3])\n",
    "\n",
    "a[3] = \"Sir Zia\" #list is mutable so value can be updated even after its creation. \n",
    "print(a)"
   ]
  },
  {
   "cell_type": "code",
   "execution_count": 41,
   "metadata": {},
   "outputs": [
    {
     "name": "stdout",
     "output_type": "stream",
     "text": [
      "Pakistan\n"
     ]
    },
    {
     "data": {
      "text/plain": [
       "None"
      ]
     },
     "metadata": {},
     "output_type": "display_data"
    }
   ],
   "source": [
    "a: str = print(\"Pakistan\") # will print \"Pakistan\"\n",
    "display(a) # will return \"None\" because #display() is a none-return function.\n",
    "\n",
    "a : str = id(a) # id() is a return function which can be stored in a variable.\n",
    "print(a) "
   ]
  },
  {
   "cell_type": "markdown",
   "metadata": {},
   "source": [
    "# LIST METHODS"
   ]
  },
  {
   "cell_type": "code",
   "execution_count": 42,
   "metadata": {},
   "outputs": [
    {
     "data": {
      "text/plain": [
       "['append',\n",
       " 'clear',\n",
       " 'copy',\n",
       " 'count',\n",
       " 'extend',\n",
       " 'index',\n",
       " 'insert',\n",
       " 'pop',\n",
       " 'remove',\n",
       " 'reverse',\n",
       " 'sort']"
      ]
     },
     "execution_count": 42,
     "metadata": {},
     "output_type": "execute_result"
    }
   ],
   "source": [
    "[i for i in dir(list) if \"__\" not in i]"
   ]
  },
  {
   "cell_type": "markdown",
   "metadata": {},
   "source": [
    "POP()"
   ]
  },
  {
   "cell_type": "code",
   "execution_count": 49,
   "metadata": {},
   "outputs": [
    {
     "name": "stdout",
     "output_type": "stream",
     "text": [
      "True\n",
      "apple\n"
     ]
    }
   ],
   "source": [
    "#                  0         1         2        3       4\n",
    "a : list[Any] = [\"apple\", 1234567, \"orange\", \"peach\", True]\n",
    "#                 -5        -4        -3       -2      -1\n",
    "\n",
    "# del a[1] deleted from memory due to which variable cannot find it once deleted.\n",
    "# a\n",
    "\n",
    "popping: str = a.pop() # deletes last element of list\n",
    "print(popping) # pop() return method\n",
    "print(a.pop(0)) #can remove particular element through index"
   ]
  },
  {
   "cell_type": "markdown",
   "metadata": {},
   "source": [
    "APPEND()"
   ]
  },
  {
   "cell_type": "code",
   "execution_count": 50,
   "metadata": {},
   "outputs": [
    {
     "name": "stdout",
     "output_type": "stream",
     "text": [
      "['Sir Zia', 'Sir Qasim', 'Students']\n"
     ]
    }
   ],
   "source": [
    "a : list[str] = []\n",
    "\n",
    "a.append(\"Sir Zia\")\n",
    "a.append(\"Sir Qasim\")\n",
    "a.append(\"Students\") #adds elements in the end of list\n",
    "\n",
    "print(a)"
   ]
  },
  {
   "cell_type": "markdown",
   "metadata": {},
   "source": [
    "INSERT()"
   ]
  },
  {
   "cell_type": "code",
   "execution_count": 52,
   "metadata": {},
   "outputs": [
    {
     "name": "stdout",
     "output_type": "stream",
     "text": [
      "['A', 'B', 'C']\n",
      "['A', 'remove element and then insert new element', 'B', 'C']\n"
     ]
    }
   ],
   "source": [
    "a : list[str] = [\"A\",\"B\",\"C\"]\n",
    "print(a)\n",
    "\n",
    "a.insert(1, \"wow\") # inserts new element on defined index\n",
    "print(a)"
   ]
  },
  {
   "cell_type": "markdown",
   "metadata": {},
   "source": [
    "CLEAR()"
   ]
  },
  {
   "cell_type": "code",
   "execution_count": 54,
   "metadata": {},
   "outputs": [
    {
     "name": "stdout",
     "output_type": "stream",
     "text": [
      "[]\n"
     ]
    }
   ],
   "source": [
    "del a[0] # object deleted from memory.\n",
    "a\n",
    "\n",
    "a : list[int] = [1, 2, 3]\n",
    "a.clear() #removes all elements of list but object remains.\n",
    "print(a)"
   ]
  },
  {
   "cell_type": "markdown",
   "metadata": {},
   "source": [
    "COPY()"
   ]
  },
  {
   "cell_type": "code",
   "execution_count": 57,
   "metadata": {},
   "outputs": [
    {
     "name": "stdout",
     "output_type": "stream",
     "text": [
      "['a', 'b', 'c']\n",
      "['a', 'b', 'c']\n",
      "['change', 'b', 'c']\n",
      "['a', 'b', 'c']\n"
     ]
    }
   ],
   "source": [
    "a : list[str] = [\"a\",\"b\",\"c\"]\n",
    "# b = a #SHALLOW COPY\n",
    "b = a.copy() # DEEP COPY makes/returns a copy of variable so change in new copy doesn't affect old variable.\n",
    "\n",
    "print(a)\n",
    "print(b)\n",
    "\n",
    "b[0] = \"change\"\n",
    "print(b)\n",
    "print(a)"
   ]
  },
  {
   "cell_type": "markdown",
   "metadata": {},
   "source": [
    "COUNT()"
   ]
  },
  {
   "cell_type": "code",
   "execution_count": 58,
   "metadata": {},
   "outputs": [
    {
     "name": "stdout",
     "output_type": "stream",
     "text": [
      "4\n"
     ]
    }
   ],
   "source": [
    "a : list[int] = [1,2,2,4,2,6,2,8]\n",
    "print(a.count(2)) #counts number of times an element is repeated in the list"
   ]
  },
  {
   "cell_type": "markdown",
   "metadata": {},
   "source": [
    "EXTEND()"
   ]
  },
  {
   "cell_type": "code",
   "execution_count": 62,
   "metadata": {},
   "outputs": [
    {
     "name": "stdout",
     "output_type": "stream",
     "text": [
      "['Sir Zia']\n",
      "['Sir Zia', 'Sir Qasim']\n"
     ]
    }
   ],
   "source": [
    "faculty : list[str] = [\"Sir Zia\"]\n",
    "print(faculty)\n",
    "\n",
    "new_faculty : list[str] = [\"Sir Qasim\"]\n",
    "\n",
    "faculty.extend(new_faculty)\n",
    "print(faculty)"
   ]
  },
  {
   "cell_type": "markdown",
   "metadata": {},
   "source": [
    "REMOVE()"
   ]
  },
  {
   "cell_type": "code",
   "execution_count": 72,
   "metadata": {},
   "outputs": [
    {
     "data": {
      "text/plain": [
       "['Qasim Bhai']"
      ]
     },
     "execution_count": 72,
     "metadata": {},
     "output_type": "execute_result"
    }
   ],
   "source": [
    "faculty : list[str] = [\"Sir Zia\", \"Qasim Bhai\"]\n",
    "faculty.remove(\"Sir Zia\") #removes through text\n",
    "faculty\n"
   ]
  },
  {
   "cell_type": "markdown",
   "metadata": {},
   "source": [
    "INDEX()"
   ]
  },
  {
   "cell_type": "code",
   "execution_count": 80,
   "metadata": {},
   "outputs": [
    {
     "data": {
      "text/plain": [
       "2"
      ]
     },
     "execution_count": 80,
     "metadata": {},
     "output_type": "execute_result"
    }
   ],
   "source": [
    "initial : list[str] = [\"Sir Zia\", \"Qasim Bhai\", \"Sir Zia\"]\n",
    "# initial.index(\"Sir Zia\") # always prints index which comes first as seen in example.\n",
    "initial.index(\"Sir Zia\", 1) # insert index-number after element to find index with same value in second occurrence. "
   ]
  },
  {
   "cell_type": "markdown",
   "metadata": {},
   "source": [
    "REVERSE()"
   ]
  },
  {
   "cell_type": "code",
   "execution_count": 88,
   "metadata": {},
   "outputs": [
    {
     "name": "stdout",
     "output_type": "stream",
     "text": [
      "['A', 'B', 'C', 'D', 'E', 'F']\n",
      "['F', 'E', 'D', 'C', 'B', 'A']\n"
     ]
    }
   ],
   "source": [
    "initial : list[str] = list(\"ABCDEF\")\n",
    "print(initial)\n",
    "\n",
    "initial.reverse() #in-memory : changes real data\n",
    "print(initial)"
   ]
  },
  {
   "cell_type": "markdown",
   "metadata": {},
   "source": [
    "SORT()"
   ]
  },
  {
   "cell_type": "code",
   "execution_count": 90,
   "metadata": {},
   "outputs": [
    {
     "name": "stdout",
     "output_type": "stream",
     "text": [
      "['A', 'C', 'B', 'E', 'D', 'F']\n",
      "['A', 'B', 'C', 'D', 'E', 'F']\n",
      "['F', 'E', 'D', 'C', 'B', 'A']\n"
     ]
    }
   ],
   "source": [
    "initial : list[str] = list(\"ACBEDF\")\n",
    "print(initial)\n",
    "\n",
    "initial.sort() #in-memory : changes in physical/real data sort\n",
    "print(initial)\n",
    "\n",
    "\n",
    "initial.sort(reverse=True) #in-memory : desending order\n",
    "print(initial)"
   ]
  }
 ],
 "metadata": {
  "kernelspec": {
   "display_name": "python11",
   "language": "python",
   "name": "python3"
  },
  "language_info": {
   "codemirror_mode": {
    "name": "ipython",
    "version": 3
   },
   "file_extension": ".py",
   "mimetype": "text/x-python",
   "name": "python",
   "nbconvert_exporter": "python",
   "pygments_lexer": "ipython3",
   "version": "3.12.0"
  }
 },
 "nbformat": 4,
 "nbformat_minor": 2
}
