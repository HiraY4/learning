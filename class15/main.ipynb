{
 "cells": [
  {
   "cell_type": "code",
   "execution_count": 3,
   "metadata": {},
   "outputs": [
    {
     "name": "stdout",
     "output_type": "stream",
     "text": [
      "<class 'type'>\n"
     ]
    }
   ],
   "source": [
    "class SampleClass():\n",
    "  def method(self, param:type)->None:\n",
    "    print()\n",
    "\n",
    "print(type(SampleClass))"
   ]
  },
  {
   "cell_type": "code",
   "execution_count": 5,
   "metadata": {},
   "outputs": [
    {
     "data": {
      "text/plain": [
       "['__abstractmethods__',\n",
       " '__annotations__',\n",
       " '__base__',\n",
       " '__bases__',\n",
       " '__basicsize__',\n",
       " '__call__',\n",
       " '__class__',\n",
       " '__delattr__',\n",
       " '__dict__',\n",
       " '__dictoffset__',\n",
       " '__dir__',\n",
       " '__doc__',\n",
       " '__eq__',\n",
       " '__flags__',\n",
       " '__format__',\n",
       " '__ge__',\n",
       " '__getattribute__',\n",
       " '__getstate__',\n",
       " '__gt__',\n",
       " '__hash__',\n",
       " '__init__',\n",
       " '__init_subclass__',\n",
       " '__instancecheck__',\n",
       " '__itemsize__',\n",
       " '__le__',\n",
       " '__lt__',\n",
       " '__module__',\n",
       " '__mro__',\n",
       " '__name__',\n",
       " '__ne__',\n",
       " '__new__',\n",
       " '__or__',\n",
       " '__prepare__',\n",
       " '__qualname__',\n",
       " '__reduce__',\n",
       " '__reduce_ex__',\n",
       " '__repr__',\n",
       " '__ror__',\n",
       " '__setattr__',\n",
       " '__sizeof__',\n",
       " '__str__',\n",
       " '__subclasscheck__',\n",
       " '__subclasses__',\n",
       " '__subclasshook__',\n",
       " '__text_signature__',\n",
       " '__type_params__',\n",
       " '__weakrefoffset__',\n",
       " 'mro']"
      ]
     },
     "execution_count": 5,
     "metadata": {},
     "output_type": "execute_result"
    }
   ],
   "source": [
    "dir(type)"
   ]
  },
  {
   "cell_type": "code",
   "execution_count": 4,
   "metadata": {},
   "outputs": [
    {
     "data": {
      "text/plain": [
       "['__call__',\n",
       " '__class__',\n",
       " '__delattr__',\n",
       " '__dir__',\n",
       " '__doc__',\n",
       " '__eq__',\n",
       " '__format__',\n",
       " '__func__',\n",
       " '__ge__',\n",
       " '__getattribute__',\n",
       " '__getstate__',\n",
       " '__gt__',\n",
       " '__hash__',\n",
       " '__init__',\n",
       " '__init_subclass__',\n",
       " '__le__',\n",
       " '__lt__',\n",
       " '__ne__',\n",
       " '__new__',\n",
       " '__reduce__',\n",
       " '__reduce_ex__',\n",
       " '__repr__',\n",
       " '__self__',\n",
       " '__setattr__',\n",
       " '__sizeof__',\n",
       " '__str__',\n",
       " '__subclasshook__']"
      ]
     },
     "execution_count": 4,
     "metadata": {},
     "output_type": "execute_result"
    }
   ],
   "source": [
    "sample_instance = SampleClass()\n",
    "dir(sample_instance.method)"
   ]
  },
  {
   "cell_type": "code",
   "execution_count": 6,
   "metadata": {},
   "outputs": [
    {
     "data": {
      "text/plain": [
       "True"
      ]
     },
     "execution_count": 6,
     "metadata": {},
     "output_type": "execute_result"
    }
   ],
   "source": [
    "from typing import Any\n",
    "\n",
    "\n",
    "class NonCallable():\n",
    "  def __call__(self, *args: Any, **kwds: Any) -> Any:\n",
    "    raise TypeError(\"error\")\n",
    "\n",
    "instance : NonCallable = NonCallable()\n",
    "callable(instance)"
   ]
  },
  {
   "cell_type": "code",
   "execution_count": 7,
   "metadata": {},
   "outputs": [
    {
     "ename": "TypeError",
     "evalue": "error",
     "output_type": "error",
     "traceback": [
      "\u001b[1;31m---------------------------------------------------------------------------\u001b[0m",
      "\u001b[1;31mTypeError\u001b[0m                                 Traceback (most recent call last)",
      "\u001b[1;32md:\\python\\modern_python\\class15\\main.ipynb Cell 5\u001b[0m line \u001b[0;36m1\n\u001b[1;32m----> <a href='vscode-notebook-cell:/d%3A/python/modern_python/class15/main.ipynb#X10sZmlsZQ%3D%3D?line=0'>1</a>\u001b[0m instance()\n",
      "\u001b[1;32md:\\python\\modern_python\\class15\\main.ipynb Cell 5\u001b[0m line \u001b[0;36m6\n\u001b[0;32m      <a href='vscode-notebook-cell:/d%3A/python/modern_python/class15/main.ipynb#X10sZmlsZQ%3D%3D?line=4'>5</a>\u001b[0m \u001b[39mdef\u001b[39;00m \u001b[39m__call__\u001b[39m(\u001b[39mself\u001b[39m, \u001b[39m*\u001b[39margs: Any, \u001b[39m*\u001b[39m\u001b[39m*\u001b[39mkwds: Any) \u001b[39m-\u001b[39m\u001b[39m>\u001b[39m Any:\n\u001b[1;32m----> <a href='vscode-notebook-cell:/d%3A/python/modern_python/class15/main.ipynb#X10sZmlsZQ%3D%3D?line=5'>6</a>\u001b[0m   \u001b[39mraise\u001b[39;00m \u001b[39mTypeError\u001b[39;00m(\u001b[39m\"\u001b[39m\u001b[39merror\u001b[39m\u001b[39m\"\u001b[39m)\n",
      "\u001b[1;31mTypeError\u001b[0m: error"
     ]
    }
   ],
   "source": [
    "instance()"
   ]
  },
  {
   "cell_type": "code",
   "execution_count": 9,
   "metadata": {},
   "outputs": [
    {
     "data": {
      "text/plain": [
       "9"
      ]
     },
     "execution_count": 9,
     "metadata": {},
     "output_type": "execute_result"
    }
   ],
   "source": [
    "from typing import Any\n",
    "\n",
    "\n",
    "class PowerFactory:\n",
    "  def __init__(self, exponent:int=2):\n",
    "    self.exponent = exponent\n",
    "  \n",
    "  def __call__(self, base):\n",
    "    return base**self.exponent\n",
    "\n",
    "a : PowerFactory = PowerFactory()\n",
    "a.exponent"
   ]
  },
  {
   "cell_type": "code",
   "execution_count": 10,
   "metadata": {},
   "outputs": [
    {
     "data": {
      "text/plain": [
       "9"
      ]
     },
     "execution_count": 10,
     "metadata": {},
     "output_type": "execute_result"
    }
   ],
   "source": [
    "a(3)"
   ]
  },
  {
   "cell_type": "code",
   "execution_count": 13,
   "metadata": {},
   "outputs": [],
   "source": [
    "from typing import Any\n",
    "\n",
    "\n",
    "class CumulativeAverage:\n",
    "  def __init__(self):\n",
    "    self.data = []\n",
    "  \n",
    "  def __call__(self, new_value):\n",
    "    self.data.append(new_value)\n",
    "    print(self.data)\n",
    "    return sum(self.data) / len(self.data)"
   ]
  },
  {
   "cell_type": "code",
   "execution_count": 15,
   "metadata": {},
   "outputs": [
    {
     "name": "stdout",
     "output_type": "stream",
     "text": [
      "[12]\n",
      "12.0\n",
      "[12, 13]\n",
      "12.5\n",
      "[12, 13, 11]\n",
      "12.0\n"
     ]
    }
   ],
   "source": [
    "stream_average = CumulativeAverage() # __init__\n",
    "# data = []\n",
    "print(stream_average(12)) # data = [12] (12/1'length')\n",
    "print(stream_average(13)) # data = [12,13] (12+13/2)\n",
    "print(stream_average(11))\n"
   ]
  },
  {
   "cell_type": "code",
   "execution_count": 19,
   "metadata": {},
   "outputs": [],
   "source": [
    "#factorial.py\n",
    "from typing import Any\n",
    "\n",
    "\n",
    "class Factorial:\n",
    "  def __init__(self):\n",
    "    self.cache = {0: 1, 1: 1}\n",
    "  \n",
    "  def __call__(self, number):\n",
    "    if number not in self.cache:\n",
    "      self.cache[number] = number*self(number-1)\n",
    "    return self.cache[number]"
   ]
  },
  {
   "cell_type": "code",
   "execution_count": 22,
   "metadata": {},
   "outputs": [
    {
     "data": {
      "text/plain": [
       "{0: 1, 1: 1, 2: 2, 3: 6, 4: 24, 5: 120, 6: 720}"
      ]
     },
     "execution_count": 22,
     "metadata": {},
     "output_type": "execute_result"
    }
   ],
   "source": [
    "factorial_of = Factorial()\n",
    "\n",
    "factorial_of(4)\n",
    "factorial_of(5)\n",
    "factorial_of(6)\n",
    "\n",
    "factorial_of.cache\n"
   ]
  },
  {
   "cell_type": "code",
   "execution_count": 40,
   "metadata": {},
   "outputs": [
    {
     "name": "stdout",
     "output_type": "stream",
     "text": [
      "I am studying Python\n"
     ]
    }
   ],
   "source": [
    "# for package generation\n",
    "\n",
    "from piaic.genai import ExecutionTime\n",
    "from piaic.zee.mycode import MyCode\n",
    "from piaic.zee.mycode import * # for importing whole code \n",
    "\n",
    "abc : MyCode = MyCode()\n"
   ]
  },
  {
   "cell_type": "markdown",
   "metadata": {},
   "source": [
    "* https://www.turing.com/kb/how-to-create-pypi-packages"
   ]
  },
  {
   "cell_type": "code",
   "execution_count": 39,
   "metadata": {},
   "outputs": [
    {
     "name": "stdout",
     "output_type": "stream",
     "text": [
      "squarenumber() took 0.0049 ms\n"
     ]
    },
    {
     "data": {
      "text/plain": [
       "[0, 1, 4, 9, 16, 25, 36, 49, 64, 81]"
      ]
     },
     "execution_count": 39,
     "metadata": {},
     "output_type": "execute_result"
    }
   ],
   "source": [
    "@ExecutionTime\n",
    "def squarenumber(numbers):\n",
    "  return [number**2 for number in numbers]\n",
    "\n",
    "# squarenumber(list(range(10)))"
   ]
  },
  {
   "cell_type": "markdown",
   "metadata": {},
   "source": [
    "## Python Access Modifier\n",
    "* Public -> inheritance is achieved\n",
    "* Private -> Encapsulation -> setter getter to update \n",
    "* Protected"
   ]
  },
  {
   "cell_type": "code",
   "execution_count": 70,
   "metadata": {},
   "outputs": [
    {
     "data": {
      "text/plain": [
       "'zee'"
      ]
     },
     "execution_count": 70,
     "metadata": {},
     "output_type": "execute_result"
    }
   ],
   "source": [
    "class Piaic():\n",
    "  def __init__(self) -> None:\n",
    "    self.name : str = \"zee\" #self.name is pulic\n",
    "    self.__password : str = \"blabla\" # self.__password is private\n",
    "    self._testannouncement : str = \"15 November 2023\" # _dunder for protected\n",
    "\n",
    "zee : Piaic = Piaic()\n",
    "zee.name "
   ]
  },
  {
   "cell_type": "code",
   "execution_count": 71,
   "metadata": {},
   "outputs": [
    {
     "data": {
      "text/plain": [
       "'blabla'"
      ]
     },
     "execution_count": 71,
     "metadata": {},
     "output_type": "execute_result"
    }
   ],
   "source": [
    "# zee._Piaic__password # not working properly because python does not have pure OOP"
   ]
  },
  {
   "cell_type": "code",
   "execution_count": 63,
   "metadata": {},
   "outputs": [
    {
     "data": {
      "text/plain": [
       "'15 November 2023'"
      ]
     },
     "execution_count": 63,
     "metadata": {},
     "output_type": "execute_result"
    }
   ],
   "source": [
    "zee._testannouncement # private"
   ]
  },
  {
   "cell_type": "markdown",
   "metadata": {},
   "source": [
    "# Encapsulation"
   ]
  },
  {
   "cell_type": "code",
   "execution_count": 109,
   "metadata": {},
   "outputs": [],
   "source": [
    "# returned value can be stored in other variables\n",
    "class StudentLogin():\n",
    "  def __init__(self) -> None:\n",
    "    self.__username : str = \"Admin\" # private object\n",
    "    self.__password : str = \"Admin\" # private object\n",
    "  def __dbconnectivity(self, user:str, pwd:str):\n",
    "    print(\"Successfully connected\")\n",
    "    # if user == \"Admin\" and pwd == \"Admin\":\n",
    "    if user == self.__username and pwd == self.__password:\n",
    "      return \"Valid user\"\n",
    "    else:\n",
    "      return \"Invalid user\"\n",
    "  def update_password(self, password:str):\n",
    "    self.__password = password\n",
    "  def student_login(self, user:str, pwd1:str):\n",
    "    message : str = self.__dbconnectivity(user,pwd1)\n",
    "    print(message)\n",
    "  def student_details(self):\n",
    "     print(f\"Hello, {self.__username} has logged in with {self.__password} password\")\n",
    "\n",
    "zee : StudentLogin = StudentLogin()"
   ]
  },
  {
   "cell_type": "code",
   "execution_count": 113,
   "metadata": {},
   "outputs": [
    {
     "name": "stdout",
     "output_type": "stream",
     "text": [
      "Hello, Admin has logged in with Admin password\n"
     ]
    }
   ],
   "source": [
    "zee.student_details()"
   ]
  },
  {
   "cell_type": "code",
   "execution_count": 111,
   "metadata": {},
   "outputs": [
    {
     "name": "stdout",
     "output_type": "stream",
     "text": [
      "Successfully connected\n",
      "Valid user\n"
     ]
    }
   ],
   "source": [
    "zee.student_login(\"Admin\", \"Admin\") # valid user\n",
    "zee.student_login(\"pao\", \"123\") # invalid user"
   ]
  },
  {
   "cell_type": "code",
   "execution_count": 115,
   "metadata": {},
   "outputs": [
    {
     "name": "stdout",
     "output_type": "stream",
     "text": [
      "Successfully connected\n",
      "Valid user\n"
     ]
    }
   ],
   "source": [
    "zee.update_password(\"newpassword\")\n",
    "zee.student_login(\"Admin\", \"newpassword\") # password updated"
   ]
  },
  {
   "cell_type": "markdown",
   "metadata": {},
   "source": [
    "## __str__"
   ]
  },
  {
   "cell_type": "code",
   "execution_count": 120,
   "metadata": {},
   "outputs": [
    {
     "name": "stdout",
     "output_type": "stream",
     "text": [
      "sir Zia is our Teacher\n"
     ]
    }
   ],
   "source": [
    "class Teacher():\n",
    "  # def __init__(self, name:str) -> None:\n",
    "  #   self.name = name\n",
    "  def __str__(self) -> str:\n",
    "    return \"sir Zia is our Teacher\"\n",
    "\n",
    "sir_zia : Teacher = Teacher()\n",
    "print(sir_zia)"
   ]
  },
  {
   "cell_type": "markdown",
   "metadata": {},
   "source": [
    "## Abstract Class\n",
    "* class through which an object cannot be achieved/generated directly\n",
    "* general method written in parent class which is then passed/implemented in child class\n",
    "* ABC -> abstract base class\n",
    "* abstractmethod is imported to make abstract class"
   ]
  },
  {
   "cell_type": "code",
   "execution_count": 125,
   "metadata": {},
   "outputs": [
    {
     "name": "stdout",
     "output_type": "stream",
     "text": [
      "Cat is eating mouse\n"
     ]
    }
   ],
   "source": [
    "from abc import ABC, abstractmethod\n",
    "\n",
    "class Animal(ABC):\n",
    "  @abstractmethod\n",
    "  def __init__(self) -> None:\n",
    "    super().__init__()\n",
    "    self.living : bool = True\n",
    "\n",
    "# zee : Animal = Animal()\n",
    "  @abstractmethod\n",
    "  def eat(self, food:str):\n",
    "    ...\n",
    "\n",
    "class Cat(Animal):\n",
    "  def __init__(self) -> None:\n",
    "    super().__init__()\n",
    "  \n",
    "  def eat(self, food: str):\n",
    "    return f\"Cat is eating {food}\"\n",
    "\n",
    "zee : Cat = Cat()\n",
    "# meow : Animal = Cat()\n",
    "print(zee.eat(\"mouse\"))\n"
   ]
  },
  {
   "cell_type": "markdown",
   "metadata": {},
   "source": [
    "## Duck Typing\n",
    "* https://ioflood.com/blog/duck-typing/\n"
   ]
  },
  {
   "cell_type": "code",
   "execution_count": 132,
   "metadata": {},
   "outputs": [
    {
     "name": "stdout",
     "output_type": "stream",
     "text": [
      "Quack\n",
      "Quacking like a Duck\n"
     ]
    }
   ],
   "source": [
    "class Duck():\n",
    "  def quack(self) -> str:\n",
    "    return \"Quack\"\n",
    "class Person():\n",
    "  def quack(self) -> str:\n",
    "    return \"Quacking like a Duck\"\n",
    "\n",
    "def forest(zee):\n",
    "  print(zee.quack())\n",
    "\n",
    "donald : Duck = Duck()\n",
    "john : Person = Person()\n",
    "\n",
    "forest(donald)\n",
    "forest(john)\n"
   ]
  }
 ],
 "metadata": {
  "kernelspec": {
   "display_name": "python11",
   "language": "python",
   "name": "python3"
  },
  "language_info": {
   "codemirror_mode": {
    "name": "ipython",
    "version": 3
   },
   "file_extension": ".py",
   "mimetype": "text/x-python",
   "name": "python",
   "nbconvert_exporter": "python",
   "pygments_lexer": "ipython3",
   "version": "3.12.0"
  }
 },
 "nbformat": 4,
 "nbformat_minor": 2
}
