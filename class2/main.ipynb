{
 "cells": [
  {
   "cell_type": "markdown",
   "metadata": {},
   "source": [
    "# STRING DATA TYPE IN PYTHON"
   ]
  },
  {
   "cell_type": "code",
   "execution_count": 9,
   "metadata": {},
   "outputs": [
    {
     "name": "stdout",
     "output_type": "stream",
     "text": [
      "Hira\n",
      "Yousuf\n",
      "Hira Yousuf\n"
     ]
    }
   ],
   "source": [
    "#bounderies\n",
    "#'name',\"name\",'''name'''\n",
    "\n",
    "fname: str = 'Hira'\n",
    "lname: str = \"Yousuf\"\n",
    "fullname: str = '''Hira Yousuf'''\n",
    "print(fname)\n",
    "print(lname)\n",
    "print(fullname)"
   ]
  },
  {
   "cell_type": "code",
   "execution_count": 12,
   "metadata": {},
   "outputs": [
    {
     "name": "stdout",
     "output_type": "stream",
     "text": [
      "Student Card\n",
      "Student Name: {zee}\n",
      "Age: {12}\n",
      "Course: {True}\n"
     ]
    }
   ],
   "source": [
    "name: str = \"zee\"\n",
    "age: int = 12\n",
    "course: bool = True\n",
    "\n",
    "card: str = \"Student Card\\nStudent Name: {zee}\\nAge: {12}\\nCourse: {True}\"\n",
    "print(card)"
   ]
  },
  {
   "cell_type": "code",
   "execution_count": 13,
   "metadata": {},
   "outputs": [
    {
     "name": "stdout",
     "output_type": "stream",
     "text": [
      "student card\n",
      "Name:zee\n"
     ]
    }
   ],
   "source": [
    "name: str = \"zee\"\n",
    "age: int = 12\n",
    "course: bool = True\n",
    "\n",
    "card: str = \"student card\\nName:\" + name\n",
    "print(card)"
   ]
  },
  {
   "cell_type": "code",
   "execution_count": 14,
   "metadata": {},
   "outputs": [
    {
     "name": "stdout",
     "output_type": "stream",
     "text": [
      "17\n"
     ]
    }
   ],
   "source": [
    "# backslash is used in the end of a line which developer wants to continue in processing, for example;\n",
    "\n",
    "print(7 + \\\n",
    "      8 + \\\n",
    "        2)  "
   ]
  },
  {
   "cell_type": "code",
   "execution_count": 19,
   "metadata": {},
   "outputs": [
    {
     "name": "stdout",
     "output_type": "stream",
     "text": [
      "student card\n",
      "Name:zee\n",
      "Age:12\n",
      "Course:True\n"
     ]
    }
   ],
   "source": [
    "name: str = \"zee\"\n",
    "age: int = 12\n",
    "course: bool = True\n",
    "\n",
    "card: str = \"student card\\nName:\" + name + \\\n",
    "\"\\nAge:\" + str(age) + \"\\n\" + \\\n",
    "\"Course:\" + str(course)\n",
    "print(card)"
   ]
  },
  {
   "cell_type": "code",
   "execution_count": 22,
   "metadata": {},
   "outputs": [
    {
     "name": "stdout",
     "output_type": "stream",
     "text": [
      "\n",
      "Student's Details\n",
      "Name: ...\n",
      "Age: ...\n",
      "Course: ...\n",
      "\n"
     ]
    }
   ],
   "source": [
    "name: str = \"zee\"\n",
    "age: int = 12\n",
    "course: bool = True \n",
    "\n",
    "card: str = \"\"\"\n",
    "Student's Details\n",
    "Name: ...\n",
    "Age: ...\n",
    "Course: ...\n",
    "\"\"\"\n",
    "\n",
    "print(card)"
   ]
  },
  {
   "cell_type": "markdown",
   "metadata": {},
   "source": [
    "# F-String "
   ]
  },
  {
   "cell_type": "code",
   "execution_count": 25,
   "metadata": {},
   "outputs": [
    {
     "name": "stdout",
     "output_type": "stream",
     "text": [
      "\n",
      "8\n",
      "\n",
      "\n",
      "Student's Details\n",
      "Name: Sauleh\n",
      "Age: 11\n",
      "Course: Python\n",
      "\n"
     ]
    }
   ],
   "source": [
    "# user can use single quotes as well as double quotes before f string;\n",
    "# f string is useful because;\n",
    "# it works as a placeholder.\n",
    "# runs numericals functions and expressions.\n",
    "\n",
    "anumb: str = f'''\n",
    "{5 + 5 - 2}\n",
    "'''\n",
    "print(anumb)\n",
    "\n",
    "# ---\n",
    "\n",
    "name: str = \"Sauleh\"\n",
    "age: int = 11\n",
    "course: str = \"Python\" \n",
    "\n",
    "card: str = f\"\"\"\n",
    "Student's Details\n",
    "Name: {name}\n",
    "Age: {age}\n",
    "Course: {course}\n",
    "\"\"\"\n",
    "\n",
    "print(card)"
   ]
  },
  {
   "cell_type": "markdown",
   "metadata": {},
   "source": [
    "# Jinja Style"
   ]
  },
  {
   "cell_type": "code",
   "execution_count": null,
   "metadata": {},
   "outputs": [],
   "source": [
    "# double curly brackets are used in it.\n",
    "\n",
    "f\"\"\"\n",
    "{{name}}\n",
    "\"\"\""
   ]
  },
  {
   "cell_type": "code",
   "execution_count": 27,
   "metadata": {},
   "outputs": [
    {
     "name": "stdout",
     "output_type": "stream",
     "text": [
      "\n",
      "Student's Details\n",
      "Name: Sauleh \n",
      "Age: 11\n",
      "Course: Python \n",
      "\n"
     ]
    }
   ],
   "source": [
    "# %d means number and %s means string\n",
    "\n",
    "name: str = \"Sauleh\"\n",
    "age: int = 11\n",
    "course: str = \"Python\" \n",
    "\n",
    "card: str = f\"\"\"\n",
    "Student's Details\n",
    "Name: %s \n",
    "Age: %d\n",
    "Course: %s \n",
    "\"\"\" %(name, age, course)\n",
    "\n",
    "print(card)"
   ]
  },
  {
   "cell_type": "code",
   "execution_count": 50,
   "metadata": {},
   "outputs": [
    {
     "name": "stdout",
     "output_type": "stream",
     "text": [
      "True\n"
     ]
    }
   ],
   "source": [
    "name: str = \"ABC123\"\n",
    "print(name.isalnum())"
   ]
  },
  {
   "cell_type": "code",
   "execution_count": 51,
   "metadata": {},
   "outputs": [
    {
     "data": {
      "text/plain": [
       "'value a: 7 and value b: 8'"
      ]
     },
     "execution_count": 51,
     "metadata": {},
     "output_type": "execute_result"
    }
   ],
   "source": [
    "# {} is a placeholder\n",
    "\n",
    "a = 7\n",
    "b = 8\n",
    "\n",
    "\"value a: {} and value b: {}\".format(a,b)"
   ]
  },
  {
   "cell_type": "code",
   "execution_count": 52,
   "metadata": {},
   "outputs": [
    {
     "name": "stdout",
     "output_type": "stream",
     "text": [
      "\n",
      "Student's Details\n",
      "Name: Sauleh\n",
      "Course: Python\n",
      "Age: 11 \n",
      "\n"
     ]
    }
   ],
   "source": [
    "# in placeholder, mention the index number to assign accurate values of variables.\n",
    "\n",
    "name: str = \"Sauleh\"\n",
    "age: int = 11\n",
    "course: str = \"Python\" \n",
    "\n",
    "card: str = \"\"\"\n",
    "Student's Details\n",
    "Name: {0}\n",
    "Course: {2}\n",
    "Age: {1} \n",
    "\"\"\".format(name, age, course)\n",
    "\n",
    "print(card)"
   ]
  },
  {
   "cell_type": "code",
   "execution_count": 53,
   "metadata": {},
   "outputs": [
    {
     "name": "stdout",
     "output_type": "stream",
     "text": [
      "\n",
      "Student's Details\n",
      "Name: Sauleh\n",
      "Course: Python\n",
      "Age: 11 \n",
      "\n"
     ]
    }
   ],
   "source": [
    "# in placeholder, mention the index number to assign accurate values of variables.\n",
    "# langchain uses the following '.format()'method to process;\n",
    "name: str = \"Sauleh\"\n",
    "age: int = 11\n",
    "course: str = \"Python\" \n",
    "\n",
    "card: str = \"\"\"\n",
    "Student's Details\n",
    "Name: {a}\n",
    "Course: {b}\n",
    "Age: {c} \n",
    "\"\"\".format(a=name, c=age, b=course)\n",
    "\n",
    "print(card)"
   ]
  },
  {
   "cell_type": "code",
   "execution_count": 61,
   "metadata": {},
   "outputs": [
    {
     "name": "stdout",
     "output_type": "stream",
     "text": [
      "Student Name is Hira Yousuf\n",
      "7\n"
     ]
    }
   ],
   "source": [
    "studentscode: str = \"\"\"\n",
    "print(\"Student Name is Hira Yousuf\")\n",
    "a: int = 4\n",
    "b: int = 3\n",
    "print(a + b)\n",
    "\"\"\"\n",
    "exec(studentscode)"
   ]
  },
  {
   "cell_type": "code",
   "execution_count": null,
   "metadata": {},
   "outputs": [],
   "source": [
    "#provides attributes and methods of specific class. str is a class in here.\n",
    "# [i for i in dir(str) if \"__\" not in i]\n",
    "\n",
    "a: list[str] = [i for i in dir(str) if \"__\" not in i]\n",
    "print(a)\n",
    "print(len(a))"
   ]
  },
  {
   "cell_type": "code",
   "execution_count": 75,
   "metadata": {},
   "outputs": [
    {
     "data": {
      "text/plain": [
       "'    Hira   Yousuf     '"
      ]
     },
     "metadata": {},
     "output_type": "display_data"
    },
    {
     "data": {
      "text/plain": [
       "' Hira Yousuf '"
      ]
     },
     "metadata": {},
     "output_type": "display_data"
    },
    {
     "data": {
      "text/plain": [
       "'Hira Yousuf'"
      ]
     },
     "metadata": {},
     "output_type": "display_data"
    }
   ],
   "source": [
    "# display=>makes special formatting(list, dictionary, str)print beautifully(especially in jupytor notebook).\n",
    "# display=>prints data frame according to the HTML integrated system  \n",
    "# print=>converts the code in string when printing the results in terminal. \n",
    "\n",
    "import re\n",
    "# re \"regular expression\"\n",
    "\n",
    "name: str = \"    Hira   Yousuf     \"\n",
    "display(name)\n",
    "\n",
    "corrected: str = re.sub(' {2,100}',' ' , name)\n",
    "# sub=>pattern, replacement and variable name\n",
    "display(corrected)\n",
    "\n",
    "finalcorrection: str = re.sub(' {2,100}',' ' , name).strip()\n",
    "# strip removes spaces from right and left in str\n",
    "display(finalcorrection)"
   ]
  },
  {
   "cell_type": "markdown",
   "metadata": {},
   "source": [
    "# stripping whitespace"
   ]
  },
  {
   "cell_type": "code",
   "execution_count": 77,
   "metadata": {},
   "outputs": [
    {
     "name": "stdout",
     "output_type": "stream",
     "text": [
      "All students must complete projects on time\n",
      "I hope it is understood.\tThanks!\n",
      "printing \"Student Card\" for all members.\n"
     ]
    }
   ],
   "source": [
    "# \\n to change line.\n",
    "# \\t works as tab.\n",
    "# \\b works as backspace.\n",
    "# quotes are special meaning characters and to convert them into simple (simple put \\ before the character.)\n",
    "\n",
    "message: str = \"All students must complete projects on time\\nI hope it is understood.\\tThanks!\"\n",
    "print(message)\n",
    "\n",
    "card: str = 'printing \"Student Card\" for all members \\b.'\n",
    "print(card)"
   ]
  },
  {
   "cell_type": "code",
   "execution_count": 82,
   "metadata": {},
   "outputs": [
    {
     "data": {
      "text/plain": [
       "'example.com'"
      ]
     },
     "execution_count": 82,
     "metadata": {},
     "output_type": "execute_result"
    }
   ],
   "source": [
    "# prefix removes from start\n",
    "\n",
    "example: str = 'https://example.com'\n",
    "example.removeprefix('https://')\n"
   ]
  },
  {
   "cell_type": "code",
   "execution_count": 84,
   "metadata": {},
   "outputs": [
    {
     "data": {
      "text/plain": [
       "'https://'"
      ]
     },
     "execution_count": 84,
     "metadata": {},
     "output_type": "execute_result"
    }
   ],
   "source": [
    "# suffix removes from last\n",
    "\n",
    "example2: str = 'https://example.com'\n",
    "example2.removesuffix('example.com')\n"
   ]
  }
 ],
 "metadata": {
  "kernelspec": {
   "display_name": "python11",
   "language": "python",
   "name": "python3"
  },
  "language_info": {
   "codemirror_mode": {
    "name": "ipython",
    "version": 3
   },
   "file_extension": ".py",
   "mimetype": "text/x-python",
   "name": "python",
   "nbconvert_exporter": "python",
   "pygments_lexer": "ipython3",
   "version": "3.12.0"
  }
 },
 "nbformat": 4,
 "nbformat_minor": 2
}
