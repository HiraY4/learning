{
 "cells": [
  {
   "cell_type": "markdown",
   "metadata": {},
   "source": [
    "if-else elif statement\n",
    "```\n",
    "if logic:\n",
    "  True_block\n",
    "else:\n",
    "  False_block\n",
    "```\n",
    "comprehensive style\n",
    "```\n",
    "True_block if logic else False_block\n",
    "```"
   ]
  },
  {
   "cell_type": "code",
   "execution_count": 1,
   "metadata": {},
   "outputs": [
    {
     "name": "stdout",
     "output_type": "stream",
     "text": [
      "Pakistan\n"
     ]
    }
   ],
   "source": [
    "if True:\n",
    "  print(\"Pakistan\")\n",
    "else:\n",
    "  print(\"Hello World\")"
   ]
  },
  {
   "cell_type": "code",
   "execution_count": 2,
   "metadata": {},
   "outputs": [
    {
     "name": "stdout",
     "output_type": "stream",
     "text": [
      "Hello World\n"
     ]
    }
   ],
   "source": [
    "if False:\n",
    "  print(\"Pakistan\")\n",
    "else:\n",
    "  print(\"Hello World\")"
   ]
  },
  {
   "cell_type": "code",
   "execution_count": 4,
   "metadata": {},
   "outputs": [
    {
     "data": {
      "text/plain": [
       "['Hello World']"
      ]
     },
     "execution_count": 4,
     "metadata": {},
     "output_type": "execute_result"
    }
   ],
   "source": [
    "# [\"Pakistan\" if True else \"Hello World\"]\n",
    "[\"Pakistan\" if False else \"Hello World\"]"
   ]
  },
  {
   "cell_type": "code",
   "execution_count": 5,
   "metadata": {},
   "outputs": [
    {
     "name": "stdout",
     "output_type": "stream",
     "text": [
      "logic2\n"
     ]
    }
   ],
   "source": [
    "# this chain will run only 1 statement\n",
    "if False:\n",
    "  print(\"Pakistan\")\n",
    "elif False:\n",
    "  print(\"logic1\")\n",
    "elif True:\n",
    "  print(\"logic2\")\n",
    "elif False:\n",
    "  print(\"logic3\")\n",
    "else:\n",
    "  print(\"otherwise\")"
   ]
  },
  {
   "cell_type": "markdown",
   "metadata": {},
   "source": [
    "# GRADING SYSTEM"
   ]
  },
  {
   "cell_type": "code",
   "execution_count": 9,
   "metadata": {},
   "outputs": [
    {
     "name": "stdout",
     "output_type": "stream",
     "text": [
      "C\n"
     ]
    }
   ],
   "source": [
    "from typing import Union\n",
    "\n",
    "grade : Union[int, float] = 68\n",
    "\n",
    "if grade >= 80:\n",
    "  print(\"A\")\n",
    "elif grade >= 70:\n",
    "  print(\"B\")\n",
    "elif grade >= 60:\n",
    "  print(\"C\")\n",
    "elif grade >= 50:\n",
    "  print(\"D\")\n",
    "else:\n",
    "  print(\"Fail\")"
   ]
  },
  {
   "cell_type": "code",
   "execution_count": 13,
   "metadata": {},
   "outputs": [
    {
     "name": "stdout",
     "output_type": "stream",
     "text": [
      "Dear student, your percentage is 70\n",
      "now your calculated grade is B\n"
     ]
    }
   ],
   "source": [
    "per : Union[int,float] = int(input(\"Enter your percentage:\")) #dynamic type casting\n",
    "# per : int | float = int\n",
    "# per : Optional[str] = None  # because Optional is by default None\n",
    "grade : str = None\n",
    "\n",
    "if per >= 80:\n",
    "  grade = \"A\"\n",
    "elif per >= 70:\n",
    "  grade = \"B\"\n",
    "elif per >= 60:\n",
    "  grade = \"C\"\n",
    "elif per >= 50:\n",
    "  grade = \"D\"\n",
    "else:\n",
    "  print(\"Fail\")\n",
    "\n",
    "print(f\"Dear student, your percentage is {per}\\nnow your calculated grade is {grade}\")"
   ]
  },
  {
   "cell_type": "code",
   "execution_count": 14,
   "metadata": {},
   "outputs": [
    {
     "name": "stdout",
     "output_type": "stream",
     "text": [
      "Dear student, your percentage is 99\n",
      "now your calculated grade is Fail\n"
     ]
    }
   ],
   "source": [
    "per : Union[int,float] = int(input(\"Enter your percentage:\")) \n",
    "grade : str = None\n",
    "\n",
    "if per >= 0: # here student will fail due to logical error, to correct it use 'and' as seen in next example\n",
    "  grade = \"Fail\"\n",
    "elif per >= 70:\n",
    "  grade = \"B\"\n",
    "elif per >= 60:\n",
    "  grade = \"C\"\n",
    "elif per >= 50:\n",
    "  grade = \"D\"\n",
    "else:\n",
    "  print(\"Pass\")\n",
    "\n",
    "print(f\"Dear student, your percentage is {per}\\nnow your calculated grade is {grade}\")"
   ]
  },
  {
   "cell_type": "markdown",
   "metadata": {},
   "source": [
    "TYPES OF ERRORS\n",
    "* development time error (operator, funtion or syntax error)\n",
    "* runtime error (due to client/user wrong input)\n",
    "* TCR (Logical error) which can only be checked by testing "
   ]
  },
  {
   "cell_type": "code",
   "execution_count": 18,
   "metadata": {},
   "outputs": [
    {
     "name": "stdout",
     "output_type": "stream",
     "text": [
      "Dear student, your percentage is 80\n",
      "now your calculated grade is A+\n"
     ]
    }
   ],
   "source": [
    "per : Union[int,float] = float(input(\"Enter your percentage:\")) \n",
    "grade : str = None\n",
    "\n",
    "if per >= 0 and per < 30:\n",
    "  grade = \"Fail\"\n",
    "elif per >= 30 and per < 40:\n",
    "  grade = \"D\"\n",
    "elif per >= 40 and per < 50:\n",
    "  grade = \"C\"\n",
    "elif per >= 50 and per < 60:\n",
    "  grade = \"B\"\n",
    "elif per >= 60 and per < 70:\n",
    "  grade = \"A\"\n",
    "elif per >= 70 and per <= 100:\n",
    "  grade = \"A+\"\n",
    "\n",
    "print(f\"Dear student, your percentage is {per}\\nnow your calculated grade is {grade}\")"
   ]
  },
  {
   "cell_type": "code",
   "execution_count": 39,
   "metadata": {},
   "outputs": [
    {
     "name": "stdout",
     "output_type": "stream",
     "text": [
      "[88, 99.9, 50, 51, 65, 70]\n",
      "['A+', 'A+', 'B', 'B', 'A', 'A+']\n"
     ]
    },
    {
     "data": {
      "text/plain": [
       "[(0, 88, 'A+'),\n",
       " (1, 99.9, 'A+'),\n",
       " (2, 50, 'B'),\n",
       " (3, 51, 'B'),\n",
       " (4, 65, 'A'),\n",
       " (5, 70, 'A+')]"
      ]
     },
     "metadata": {},
     "output_type": "display_data"
    },
    {
     "data": {
      "text/plain": [
       "[(0, 88, 'A+'),\n",
       " (1, 99.9, 'A+'),\n",
       " (2, 50, 'B'),\n",
       " (3, 51, 'B'),\n",
       " (4, 65, 'A'),\n",
       " (5, 70, 'A+')]"
      ]
     },
     "execution_count": 39,
     "metadata": {},
     "output_type": "execute_result"
    }
   ],
   "source": [
    "PerType = Union[float, int] # ALIASES\n",
    "\n",
    "percentages : [PerType] = [88, 99.9, 50, 51, 65, 70]\n",
    "grades : list[str] = []\n",
    "\n",
    "for per in percentages:\n",
    "  grade : str = \"\"\n",
    "\n",
    "  if per >= 0 and per < 30:\n",
    "    grade = \"Fail\"\n",
    "  elif per >= 30 and per < 40:\n",
    "    grade = \"D\"\n",
    "  elif per >= 40 and per < 50:\n",
    "    grade = \"C\"\n",
    "  elif per >= 50 and per < 60:\n",
    "    grade = \"B\"\n",
    "  elif per >= 60 and per < 70:\n",
    "    grade = \"A\"\n",
    "  elif per >= 70 and per <= 100:\n",
    "    grade = \"A+\"\n",
    "\n",
    "  grades.append(grade)\n",
    "\n",
    "roll_no : list[int] = list(range(len(percentages)))\n",
    "roll_no\n",
    "\n",
    "# seat_no : list[int] = list(range(len(percentages)))\n",
    "# seat_no\n",
    "\n",
    "print(percentages)\n",
    "print(grades)\n",
    "zip(percentages, grades) #generative function runs by performing iteration on zip through 'list' or 'loop'\n",
    "list(zip(percentages, grades))\n",
    "list(zip(roll_no, percentages, grades)) #seat_no))\n",
    "\n",
    "data_base = (list(zip(roll_no, percentages, grades)))\n",
    "display(data_base)\n",
    "sorted(data_base) # sorted is global function"
   ]
  },
  {
   "cell_type": "code",
   "execution_count": 43,
   "metadata": {},
   "outputs": [],
   "source": [
    "data_base = (list(zip(roll_no, percentages, grades)))\n",
    "# display(data_base)\n",
    "# sorted(data_base)\n",
    "sorted(data_base, key=lambda x:x[1],reverse=True) #sorted has 'key' parameter which takes a function as seen <=\n"
   ]
  },
  {
   "cell_type": "code",
   "execution_count": 44,
   "metadata": {},
   "outputs": [
    {
     "name": "stdout",
     "output_type": "stream",
     "text": [
      "Audi\n",
      "Toyota\n",
      "Subaru\n",
      "BMW\n"
     ]
    }
   ],
   "source": [
    "cars : list[str] = [\"audi\", \"toyota\", \"subaru\" , \"bmw\"]\n",
    "for car in cars:\n",
    "  if car == \"bmw\":\n",
    "    print(car.upper())\n",
    "  else:\n",
    "    print(car.title())"
   ]
  },
  {
   "cell_type": "code",
   "execution_count": 52,
   "metadata": {},
   "outputs": [
    {
     "data": {
      "text/plain": [
       "['Audi', 'Toyota', 'Subaru', 'BMW']"
      ]
     },
     "execution_count": 52,
     "metadata": {},
     "output_type": "execute_result"
    }
   ],
   "source": [
    "cars : list[str] = [\"audi\", \"toyota\", \"subaru\" , \"bmw\"]\n",
    "[car.upper() if car == \"bmw\" else car.title() for car in cars]"
   ]
  },
  {
   "cell_type": "code",
   "execution_count": 57,
   "metadata": {},
   "outputs": [
    {
     "name": "stdout",
     "output_type": "stream",
     "text": [
      "Audi\n",
      "Toyota\n",
      "Subaru\n",
      "BMW\n"
     ]
    }
   ],
   "source": [
    "cars : list[str] = [\"audi\", \"toyota\", \"subaru\" , \"bmw\"]\n",
    "for car in cars:\n",
    "  if car != \"bmw\":\n",
    "    print(car.title())\n",
    "  else:\n",
    "    print(car.upper())"
   ]
  },
  {
   "cell_type": "markdown",
   "metadata": {},
   "source": [
    "'in' Operator\n",
    "* LOOP => extracts elements from iterated data type\n",
    "* Comparison outside loop => if value found: 'True' - if value not found: 'False' "
   ]
  },
  {
   "cell_type": "code",
   "execution_count": 59,
   "metadata": {},
   "outputs": [
    {
     "name": "stdout",
     "output_type": "stream",
     "text": [
      "generated number is 1\n",
      "generated number is 11\n",
      "generated number is 111\n"
     ]
    }
   ],
   "source": [
    "answers : list[int] = [1, 11, 111, 1111]\n",
    "for answer in answers: #'in operator' extracts elements from iterated data type [in loop]\n",
    "  if answer != 1111:  \n",
    "    print(f'generated number is {answer}')"
   ]
  },
  {
   "cell_type": "code",
   "execution_count": 62,
   "metadata": {},
   "outputs": [
    {
     "data": {
      "text/plain": [
       "False"
      ]
     },
     "execution_count": 62,
     "metadata": {},
     "output_type": "execute_result"
    }
   ],
   "source": [
    "find = [22, 44, 55]\n",
    "33 in find"
   ]
  },
  {
   "cell_type": "code",
   "execution_count": 63,
   "metadata": {},
   "outputs": [
    {
     "data": {
      "text/plain": [
       "True"
      ]
     },
     "execution_count": 63,
     "metadata": {},
     "output_type": "execute_result"
    }
   ],
   "source": [
    "find = [22, 44, 55]\n",
    "22 in find"
   ]
  },
  {
   "cell_type": "code",
   "execution_count": 61,
   "metadata": {},
   "outputs": [
    {
     "name": "stdout",
     "output_type": "stream",
     "text": [
      "True\n"
     ]
    }
   ],
   "source": [
    "answers = 17\n",
    "if answers != 19:\n",
    "  print(\"True\") "
   ]
  },
  {
   "cell_type": "markdown",
   "metadata": {},
   "source": [
    "'not in' Operator "
   ]
  },
  {
   "cell_type": "code",
   "execution_count": 65,
   "metadata": {},
   "outputs": [
    {
     "name": "stdout",
     "output_type": "stream",
     "text": [
      "True\n",
      "Sonia is allowed to login\n"
     ]
    }
   ],
   "source": [
    "banned : list[str] = [\"david\", \"carolina\"]\n",
    "user : str = \"Sonia\"\n",
    "\n",
    "print(user not in banned)\n",
    "if user not in banned:\n",
    "  print(f'{user} is allowed to login')"
   ]
  },
  {
   "cell_type": "code",
   "execution_count": 68,
   "metadata": {},
   "outputs": [
    {
     "name": "stdout",
     "output_type": "stream",
     "text": [
      "chesse fries are here\n",
      "extra chessy burger is here\n",
      "\n",
      "ENJOY!!\n"
     ]
    }
   ],
   "source": [
    "topping : list[str] = [\"cheese\", \"burger\"]\n",
    "if \"cheese\" in topping:\n",
    "  print(\"chesse fries are here\")\n",
    "if \"extra cheese\" in topping:\n",
    "  print(\"extra chessy\")\n",
    "if \"burger\" in topping:\n",
    "  print(\"extra chessy burger is here\")\n",
    "print('\\nENJOY!!')"
   ]
  },
  {
   "cell_type": "code",
   "execution_count": 72,
   "metadata": {},
   "outputs": [
    {
     "name": "stdout",
     "output_type": "stream",
     "text": [
      "please add request\n"
     ]
    }
   ],
   "source": [
    "requests = []\n",
    "\n",
    "if requests:\n",
    "  for request in requests:\n",
    "    print(f'the requested order is {request}')\n",
    "  print(\"Finished making the meal\")\n",
    "else:\n",
    "  print(\"please add request\")"
   ]
  },
  {
   "cell_type": "code",
   "execution_count": 76,
   "metadata": {},
   "outputs": [
    {
     "name": "stdout",
     "output_type": "stream",
     "text": [
      "Your order ['ice-cream'] will take 7 minutes\n",
      "\n",
      "Your order is ready\n"
     ]
    }
   ],
   "source": [
    "menu : list[str] = [\"burger\",\"fries\",\"drink\", \"ice-cream\"]\n",
    "orders : list[str] = [\"ice-cream\"]\n",
    "\n",
    "for order in orders:\n",
    "  if order in menu:\n",
    "    print(f\"Your order {orders} will take 7 minutes\")\n",
    "  else:\n",
    "    print(\"Kindly order or let others in\")\n",
    "print(\"\\nYour order is ready\")"
   ]
  },
  {
   "cell_type": "code",
   "execution_count": 95,
   "metadata": {},
   "outputs": [
    {
     "name": "stdout",
     "output_type": "stream",
     "text": [
      "Your ['burer'] will take 7 minutes\n",
      "\n",
      "Have a great time!\n"
     ]
    }
   ],
   "source": [
    "# menu : list[str] = [\"burger\",\"fries\",\"drink\"]\n",
    "orders = input(\"Please place order here ',' \").split(\",\")\n",
    "\n",
    "for ord in orders:\n",
    "  if order:\n",
    "    print(f\"Your {orders} will take 7 minutes\")\n",
    "  else:\n",
    "    print(\"Kindly order or let others in\")\n",
    "print(\"\\nHave a great time!\")"
   ]
  },
  {
   "cell_type": "code",
   "execution_count": 96,
   "metadata": {},
   "outputs": [
    {
     "name": "stdout",
     "output_type": "stream",
     "text": [
      "enter OPT\n",
      "You have logged in\n"
     ]
    }
   ],
   "source": [
    "user_id : str = input(\"enter id\")\n",
    "user_pwd : str = input(\"enter password\")\n",
    "\n",
    "if user_id == \"zee\" and user_pwd == \"123\":\n",
    "  print(\"enter OPT\")\n",
    "  otp : str = input(\"enter OTP for registration\")\n",
    "if otp == \"19283740\":\n",
    "  print(\"You have logged in\")\n",
    "else:\n",
    "  print(\"Invaid entry\")"
   ]
  }
 ],
 "metadata": {
  "kernelspec": {
   "display_name": "python11",
   "language": "python",
   "name": "python3"
  },
  "language_info": {
   "codemirror_mode": {
    "name": "ipython",
    "version": 3
   },
   "file_extension": ".py",
   "mimetype": "text/x-python",
   "name": "python",
   "nbconvert_exporter": "python",
   "pygments_lexer": "ipython3",
   "version": "3.12.0"
  }
 },
 "nbformat": 4,
 "nbformat_minor": 2
}
