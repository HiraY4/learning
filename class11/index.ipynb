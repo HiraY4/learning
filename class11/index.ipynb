{
 "cells": [
  {
   "cell_type": "markdown",
   "metadata": {},
   "source": [
    "### Mutable objects can be modified after creation \n",
    "* list dict, sets, class object"
   ]
  },
  {
   "cell_type": "code",
   "execution_count": 22,
   "metadata": {},
   "outputs": [
    {
     "data": {
      "text/plain": [
       "[1, 2, 3, 4]"
      ]
     },
     "execution_count": 22,
     "metadata": {},
     "output_type": "execute_result"
    }
   ],
   "source": [
    "from builtins import list\n",
    "\n",
    "a : list[int] = [1,2,3]\n",
    "b = a\n",
    "a.append(4)\n",
    "a\n"
   ]
  },
  {
   "cell_type": "markdown",
   "metadata": {},
   "source": [
    "### Immutable objects cannot be modified after creation \n",
    "* int, float, str, tuple"
   ]
  },
  {
   "cell_type": "code",
   "execution_count": 7,
   "metadata": {},
   "outputs": [
    {
     "name": "stdout",
     "output_type": "stream",
     "text": [
      "5\n"
     ]
    }
   ],
   "source": [
    "a : int = 5\n",
    "b = a\n",
    "a += 1\n",
    "print(b)"
   ]
  },
  {
   "cell_type": "markdown",
   "metadata": {},
   "source": [
    "### addressing changes without function calls"
   ]
  },
  {
   "cell_type": "code",
   "execution_count": 8,
   "metadata": {},
   "outputs": [
    {
     "name": "stdout",
     "output_type": "stream",
     "text": [
      "before modification:  140707034647256\n",
      "after modification:  140707034647288\n"
     ]
    }
   ],
   "source": [
    "x = 10\n",
    "print(\"before modification: \", id(x))\n",
    "x += 1\n",
    "print(\"after modification: \", id(x))"
   ]
  },
  {
   "cell_type": "code",
   "execution_count": 20,
   "metadata": {},
   "outputs": [
    {
     "name": "stdout",
     "output_type": "stream",
     "text": [
      "First assignment: 140707034647096\n",
      "num1 value before copy is: 5, address: 140707034647096\n",
      "num1 value is: 6, address: 140707034647128\n",
      "Original assignment is returning: 5, address same as first assignment: 140707034647096\n"
     ]
    }
   ],
   "source": [
    "a : int = 5 # immutable data type (value cannot change)\n",
    "print(f\"First assignment: {id(a)}\")\n",
    "def abc(num1:int) -> None:\n",
    "    print(f\"num1 value before copy is: {num1}, address: {id(num1)}\")\n",
    "    num1 = 6 # copy # new object\n",
    "    print(f\"num1 value is: {num1}, address: {id(num1)}\") #address change\n",
    "abc(a) # pass by value/copy example\n",
    "print(f\"Original assignment is returning: {a}, address same as first assignment: {id(a)}\") "
   ]
  },
  {
   "cell_type": "code",
   "execution_count": 28,
   "metadata": {},
   "outputs": [
    {
     "name": "stdout",
     "output_type": "stream",
     "text": [
      "2217931648768\n",
      "function abc display -> [1, 3, 5, 200], address 2217931648768\n",
      "a display -> [1, 3, 5, 200], address: 2217931648768\n",
      "2217931648768\n"
     ]
    }
   ],
   "source": [
    "a : list[int] = [1,3,5] # global scope \n",
    "print(id(a))\n",
    "# mutable data type (a and num1 will target same list..)\n",
    "# calls(main object)with a nickname(num1)->thus changes occur in both the objects locally and globally\n",
    "def abc(num1:list[int]) -> None: # local scope\n",
    "  num1.append(200) # value updated by reference(object remains same but keep it as refernce )\n",
    "  print(f\"function abc display -> {num1}, address {id(num1)}\")\n",
    "\n",
    "abc(a) # pass by reference\n",
    "print(f\"a display -> {a}, address: {id(a)}\")\n",
    "print(id(a)) # changes in value but no change in id because of python's memory efficiency"
   ]
  },
  {
   "cell_type": "markdown",
   "metadata": {},
   "source": [
    "## python is memory efficient"
   ]
  },
  {
   "cell_type": "code",
   "execution_count": 25,
   "metadata": {},
   "outputs": [
    {
     "name": "stdout",
     "output_type": "stream",
     "text": [
      "7, 140707034647160\n",
      "b variable 7, original 140707034647160\n",
      "7, 140707034647160\n",
      "b variable 200, modified address 140707034653336\n"
     ]
    }
   ],
   "source": [
    "# immutable data type -> int\n",
    "x : int = 7 # different variable_names for calling but in backend, stored in same object  \n",
    "b : int = 7 # x and b both objects will have same id\n",
    "\n",
    "print(f\"x variabke {x}, original address {id(x)}\")\n",
    "print(f\"b variable {b}, original address {id(b)}\")\n",
    "\n",
    "b = 200 # updated value, updated address\n",
    "\n",
    "print(f\"{x}, {id(x)}\") # no change in x variable\n",
    "print(f\"b variable {b}, modified address {id(b)}\") # modification in b variable\n"
   ]
  },
  {
   "cell_type": "code",
   "execution_count": 36,
   "metadata": {},
   "outputs": [
    {
     "name": "stdout",
     "output_type": "stream",
     "text": [
      "[1, 2, 3] address 2217931533632\n",
      "[1, 2, 3], address 2217931533632\n",
      "[7, 4], address 2217931424896\n"
     ]
    }
   ],
   "source": [
    "a : list[int] = [1,2,3]\n",
    "print(f\"{a} address {id(a)}\")\n",
    "def abc(num1: list[int]) -> None:\n",
    "  num1 = [7]\n",
    "  num1.append(4)\n",
    "  print(f\"{num1}, address {id(num1)}\")\n",
    "print(f\"{a}, address {id(a)}\")\n",
    "abc(a)\n"
   ]
  }
 ],
 "metadata": {
  "kernelspec": {
   "display_name": "python11",
   "language": "python",
   "name": "python3"
  },
  "language_info": {
   "codemirror_mode": {
    "name": "ipython",
    "version": 3
   },
   "file_extension": ".py",
   "mimetype": "text/x-python",
   "name": "python",
   "nbconvert_exporter": "python",
   "pygments_lexer": "ipython3",
   "version": "3.12.0"
  }
 },
 "nbformat": 4,
 "nbformat_minor": 2
}
