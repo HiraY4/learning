{
 "cells": [
  {
   "cell_type": "markdown",
   "metadata": {},
   "source": [
    "* class method attributes can only be applied in class\n",
    "### OBJECT\n",
    "a variable which represents methods and attributes of a class is an object \n",
    "### OBJECT ORIENTED PROGRAMMING\n",
    "* class\n",
    "  * method\n",
    "      * first arg must be (self, this, or anything else)\n",
    "  * attributes -> connects with individual object and no action is performed -> self.variable name : type = None\n",
    "  * class varable\n",
    "  * constructor\n",
    "```\n",
    "def __init__(self, arg1, arg2,...)\n",
    "```\n",
    "### syntax of class\n",
    "```\n",
    "class Class name(): # class name must start with capitol letter\n",
    "  pass\n",
    "```\n"
   ]
  },
  {
   "cell_type": "code",
   "execution_count": 63,
   "metadata": {},
   "outputs": [],
   "source": [
    "# # class\n",
    "# class Teacher():\n",
    "#   def __int__(self, teacher_id:str, teacher_name:str)->None:\n",
    "#     pass"
   ]
  },
  {
   "cell_type": "markdown",
   "metadata": {},
   "source": [
    "### class components\n",
    "* attributes self, parament:type\n",
    "* methods -> are functions\n",
    "* __init__ magic method\n"
   ]
  },
  {
   "cell_type": "code",
   "execution_count": 107,
   "metadata": {},
   "outputs": [],
   "source": [
    "class Teacher():\n",
    "  def __init__(self, teacher_id:int, teacher_name:str) -> None: # INSIDE BRACKETS (args or attributes)\n",
    "    self.teacher_id:int = teacher_id\n",
    "    self.teacher_name:str = teacher_name\n",
    "    self.organization_name:str = \"PIAIC\"\n",
    "    \n",
    "  def speaker(self, words:str) -> None: # additional attributes # method\n",
    "    # self.words:str = words\n",
    "    print(f\"{self.teacher_name} is speaking {words}\")\n",
    "  \n",
    "  def teaching(self, subject:str) -> None: # method\n",
    "    print(f\"{self.teacher_name} is teaching {subject}\")\n"
   ]
  },
  {
   "cell_type": "markdown",
   "metadata": {},
   "source": [
    "* object initialization through 'Teacher(\"\")'\n",
    "* intelicense automatically shows attributes\n",
    "* constructor is called in object"
   ]
  },
  {
   "cell_type": "code",
   "execution_count": 21,
   "metadata": {},
   "outputs": [],
   "source": [
    "obj1 = Teacher(1,\"sir Zia\") # object->class(teacher class instance)->initialize\n",
    "obj2 = Teacher(2, \"sir Qasim\") # obj2 is instance of class 'Teacher'"
   ]
  },
  {
   "cell_type": "code",
   "execution_count": 115,
   "metadata": {},
   "outputs": [
    {
     "name": "stdout",
     "output_type": "stream",
     "text": [
      "PIAIC\n",
      "Sir Zia\n",
      "sir Qaim\n",
      "1\n",
      "2\n",
      "PIAIC\n",
      "Sir Zia is speaking about the future of Gen A.I\n",
      "Sir Zia is teaching Gen A.I\n"
     ]
    }
   ],
   "source": [
    "print(obj1.organization_name)\n",
    "print(obj1.teacher_name)\n",
    "print(obj2.teacher_name)\n",
    "print(obj1.teacher_id)\n",
    "print(obj2.teacher_id)\n",
    "print(obj2.organization_name)\n",
    "obj1.speaker(\"about the future of Gen A.I\")\n",
    "obj1.teaching(\"Gen A.I\")"
   ]
  },
  {
   "cell_type": "code",
   "execution_count": 27,
   "metadata": {},
   "outputs": [
    {
     "data": {
      "text/plain": [
       "['__class__',\n",
       " '__delattr__',\n",
       " '__dict__',\n",
       " '__dir__',\n",
       " '__doc__',\n",
       " '__eq__',\n",
       " '__format__',\n",
       " '__ge__',\n",
       " '__getattribute__',\n",
       " '__getstate__',\n",
       " '__gt__',\n",
       " '__hash__',\n",
       " '__init__',\n",
       " '__init_subclass__',\n",
       " '__le__',\n",
       " '__lt__',\n",
       " '__module__',\n",
       " '__ne__',\n",
       " '__new__',\n",
       " '__reduce__',\n",
       " '__reduce_ex__',\n",
       " '__repr__',\n",
       " '__setattr__',\n",
       " '__sizeof__',\n",
       " '__str__',\n",
       " '__subclasshook__',\n",
       " '__weakref__',\n",
       " 'organization_name',\n",
       " 'speaker',\n",
       " 'subject',\n",
       " 'teacher_id',\n",
       " 'teacher_name',\n",
       " 'teaching']"
      ]
     },
     "execution_count": 27,
     "metadata": {},
     "output_type": "execute_result"
    }
   ],
   "source": [
    "dir(obj1)"
   ]
  },
  {
   "cell_type": "markdown",
   "metadata": {},
   "source": [
    "```\n",
    "'speaker',\n",
    " 'subject',\n",
    " 'teacher_id',\n",
    " 'teacher_name',\n",
    " 'teaching'\n",
    "```\n",
    "all above are properties of class"
   ]
  },
  {
   "cell_type": "markdown",
   "metadata": {},
   "source": [
    "### Class Variable\n",
    "### syntax of class\n",
    "```\n",
    "class Class name(): # class name must start with capitol letter\n",
    "  pass\n",
    "```\n",
    "### 2 types of Variables\n",
    "* dynamic -> dynamic var changes the behavior of objects and used in functions such as magic function as attributes and used with self, this etc. \n",
    "* static -> static var is used in class variables and passed throughout the object\n",
    "### class varaible\n",
    "* this value is used for all classes\n",
    "```\n",
    "* Class_name.class_variable\n",
    "* object_name.class_variable\n",
    "class Classname():\n",
    "  class_variable : type = Value\n",
    "```"
   ]
  },
  {
   "cell_type": "code",
   "execution_count": 136,
   "metadata": {},
   "outputs": [],
   "source": [
    "class Teacher():\n",
    "  counter : int = 0 # class variable1\n",
    "  helpline : str = (\"0321098765\") # class variable2\n",
    "  def __init__(self, teacher_id:int, teacher_name:str) -> None:\n",
    "    self.teacher_id:int = teacher_id\n",
    "    self.teacher_name:str = teacher_name\n",
    "    self.organization_name:str = \"PIAIC\"\n",
    "    Teacher.counter += 1 # will display the number of objects created\n",
    "    \n",
    "  def speaker(self, words:str) -> None:\n",
    "    print(f\"{self.teacher_name} is speaking {words}\")\n",
    "  \n",
    "  def teaching(self, subject:str) -> None: # method\n",
    "    print(f\"{self.teacher_name} is teaching {subject}\")\n",
    "  \n",
    "  def details(self) -> None:\n",
    "    information : str = f\"\"\"\n",
    "Teacher name is {self.teacher_name}\n",
    "Our helpline number is {self.helpline}\n",
    "\"\"\"\n",
    "    print(information)\n",
    "\n",
    "obj1 = Teacher(1,\"sir Zia\")\n",
    "obj2 = Teacher(2, \"sir Qasim\")\n",
    "obj3 = Teacher(2, \"sir Okasha\")"
   ]
  },
  {
   "cell_type": "code",
   "execution_count": 123,
   "metadata": {},
   "outputs": [
    {
     "name": "stdout",
     "output_type": "stream",
     "text": [
      "0\n",
      "0321098765\n",
      "0\n",
      "0321098765\n",
      "0321098765\n",
      "\n",
      "Teacher name is sir Zia\n",
      "Our helpline number is 0321098765\n",
      "\n"
     ]
    }
   ],
   "source": [
    "print(obj1.counter)\n",
    "print(obj1.helpline)\n",
    "\n",
    "print(obj2.counter)\n",
    "print(obj2.helpline)\n",
    "\n",
    "print(Teacher.helpline)\n",
    "obj1.details()"
   ]
  },
  {
   "cell_type": "code",
   "execution_count": 138,
   "metadata": {},
   "outputs": [
    {
     "name": "stdout",
     "output_type": "stream",
     "text": [
      "3 3\n",
      "3 3\n",
      "3 3\n"
     ]
    }
   ],
   "source": [
    "print(Teacher.counter, obj1.counter) # 3 objects have been created by far\n",
    "print(Teacher.counter, obj2.counter)\n",
    "print(Teacher.counter, obj3.counter)"
   ]
  },
  {
   "cell_type": "markdown",
   "metadata": {},
   "source": [
    "<img src=\"https://www.imaginarycloud.com/blog/content/images/2021/07/OOP_4p.png\">"
   ]
  },
  {
   "cell_type": "markdown",
   "metadata": {},
   "source": [
    "## Inheritance"
   ]
  },
  {
   "cell_type": "code",
   "execution_count": 142,
   "metadata": {},
   "outputs": [],
   "source": [
    "class Parent():\n",
    "  def __init__(self) -> None:\n",
    "    self.eye_color : str = \"Brown\"\n",
    "    self.hair_color: str = \"black\"\n",
    "\n",
    "  def speak(self, words:str) -> None:\n",
    "    print(f\"Parent method speaks {words}\")\n",
    "  \n",
    "  def watch(self, object_name:str) -> None:\n",
    "      print(f\"You are looking {object_name}\")\n",
    "\n",
    "class Child(Parent):\n",
    "  pass\n"
   ]
  },
  {
   "cell_type": "code",
   "execution_count": 145,
   "metadata": {},
   "outputs": [
    {
     "name": "stdout",
     "output_type": "stream",
     "text": [
      "Brown\n",
      "Parent method speaks Pakistan zindabad\n",
      "You are looking TV\n"
     ]
    }
   ],
   "source": [
    "# parent object \n",
    "obj1 : Parent = Parent()\n",
    "print(obj1.eye_color)\n",
    "obj1.speak(\"Pakistan zindabad\")\n",
    "obj1.watch(\"TV\")"
   ]
  },
  {
   "cell_type": "code",
   "execution_count": 146,
   "metadata": {},
   "outputs": [
    {
     "name": "stdout",
     "output_type": "stream",
     "text": [
      "Brown\n",
      "black\n",
      "Parent method speaks Spanish\n",
      "You are looking Movies\n"
     ]
    }
   ],
   "source": [
    "# child object\n",
    "obj2 : Child = Child()\n",
    "print(obj2.eye_color)\n",
    "print(obj2.hair_color)\n",
    "obj2.speak(\"Spanish\")\n",
    "obj2.watch(\"Movies\")"
   ]
  },
  {
   "cell_type": "code",
   "execution_count": 151,
   "metadata": {},
   "outputs": [
    {
     "name": "stdout",
     "output_type": "stream",
     "text": [
      "Brown\n",
      "black\n",
      "Parent method speaks Spanish\n",
      "You are looking Movies\n",
      "Child method for teachingPython\n"
     ]
    }
   ],
   "source": [
    "class Parent():\n",
    "  def __init__(self) -> None:\n",
    "    self.eye_color : str = \"Brown\"\n",
    "    self.hair_color: str = \"black\"\n",
    "\n",
    "  def speak(self, words:str) -> None:\n",
    "    print(f\"Parent method speaks {words}\")\n",
    "  \n",
    "  def watch(self, object_name:str) -> None:\n",
    "      print(f\"You are looking {object_name}\")\n",
    "\n",
    "class Child(Parent):\n",
    "  def teaching(self, subject:str) -> None:\n",
    "    print(f\"Child method for teaching{subject}\")\n",
    "\n",
    "# parent object \n",
    "obj1 : Parent = Parent()\n",
    "print(obj1.eye_color)\n",
    "obj1.speak(\"Pakistan zindabad\")\n",
    "obj1.watch(\"TV\")\n",
    "\n",
    "# child object\n",
    "obj2 : Child = Child()\n",
    "print(obj2.eye_color)\n",
    "print(obj2.hair_color)\n",
    "obj2.speak(\"Spanish\")\n",
    "obj2.watch(\"Movies\")\n",
    "obj2.teaching(\"Python\")"
   ]
  },
  {
   "cell_type": "code",
   "execution_count": 158,
   "metadata": {},
   "outputs": [
    {
     "name": "stdout",
     "output_type": "stream",
     "text": [
      "sir Zia\n",
      "AI\n"
     ]
    }
   ],
   "source": [
    "from builtins import list\n",
    "\n",
    "\n",
    "class Employee():\n",
    "  def __init__(self, name:str) -> None:\n",
    "    self.name : str = name\n",
    "    self.education : str = \"Generative AI expert\"\n",
    "    self.department : str = \"AI\"\n",
    "\n",
    "class Designer(Employee):\n",
    "  def __init__(self, name:str, title:str) -> None:\n",
    "    super().__init__(name)\n",
    "    self.title : str = title\n",
    "\n",
    "class Developer(Employee):\n",
    "  def __init__(self, name:str, title:str) -> None:\n",
    "    super().__init__(name)\n",
    "    self.title = title\n",
    "    self.programminglang_skills : list[str] = []\n",
    "\n",
    "dev_1 : Developer = Developer(\"sir Zia\", \"Generative A I developer\")\n",
    "dev_desig : Designer = Designer(\"sir Qasim\", \"Animation Artist\")\n",
    "\n",
    "print(dev_1.name)\n",
    "print(dev_desig.department)"
   ]
  }
 ],
 "metadata": {
  "kernelspec": {
   "display_name": "python11",
   "language": "python",
   "name": "python3"
  },
  "language_info": {
   "codemirror_mode": {
    "name": "ipython",
    "version": 3
   },
   "file_extension": ".py",
   "mimetype": "text/x-python",
   "name": "python",
   "nbconvert_exporter": "python",
   "pygments_lexer": "ipython3",
   "version": "3.12.0"
  }
 },
 "nbformat": 4,
 "nbformat_minor": 2
}
