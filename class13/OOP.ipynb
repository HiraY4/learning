{
 "cells": [
  {
   "cell_type": "markdown",
   "metadata": {},
   "source": [
    "* class method attributes can only be applied in class\n",
    "### OBJECT\n",
    "a variable which represents methods and attributes of a class is an object \n",
    "### OBJECT ORIENTED PROGRAMMING\n",
    "* class\n",
    "  * method\n",
    "      * first arg must be (self, this, or anything else)\n",
    "  * attributes -> no action is performed -> self.variable name : type = None\n",
    "  * class varable\n",
    "  * constructor\n",
    "```\n",
    "def __init__(self, arg1, arg2,...)\n",
    "```\n",
    "### syntax of class\n",
    "```\n",
    "class Class name(): # class name must start with capitol letter\n",
    "  pass\n",
    "```"
   ]
  },
  {
   "cell_type": "code",
   "execution_count": null,
   "metadata": {},
   "outputs": [],
   "source": [
    "# class\n",
    "class Teacher():\n",
    "  def __int__(self, teacher_id:str, teacher_name:str)->None:\n",
    "    pass"
   ]
  },
  {
   "cell_type": "code",
   "execution_count": 19,
   "metadata": {},
   "outputs": [],
   "source": [
    "class Teacher():\n",
    "  def __init__(self, teacher_id:int, teacher_name:str) -> None: # INSIDE BRACKETS (args or attributes)\n",
    "    self.teacher_id:int = teacher_id\n",
    "    self.teacher_name:str = teacher_name\n",
    "    self.organization_name:str = \"PIAIC\"\n",
    "\n",
    "  def speaker(self, words:str) -> None: # additional attributes\n",
    "    # self.words:str = words\n",
    "    print(f\"{self.teacher_name} is speaking {words}\")\n",
    "  def teaching(self, subject:str) -> None:\n",
    "    # self.subject:str = subject\n",
    "    print()"
   ]
  },
  {
   "cell_type": "markdown",
   "metadata": {},
   "source": [
    "* object initialization through 'Teacher(\"\")'\n",
    "* intelicense automatically shows attributes\n",
    "* constructor is called in object"
   ]
  },
  {
   "cell_type": "code",
   "execution_count": 21,
   "metadata": {},
   "outputs": [],
   "source": [
    "obj1 : Teacher = Teacher(1,\"sir Zia\") \n",
    "obj2 : Teacher = Teacher(2, \"sir Qaim\")"
   ]
  },
  {
   "cell_type": "code",
   "execution_count": 23,
   "metadata": {},
   "outputs": [
    {
     "name": "stdout",
     "output_type": "stream",
     "text": [
      "PIAIC\n",
      "sir Zia\n"
     ]
    }
   ],
   "source": [
    "print(obj1.organization_name)\n",
    "print(obj1.teacher_name)\n",
    "obj1.teaching(\"Gen A.I\")"
   ]
  }
 ],
 "metadata": {
  "kernelspec": {
   "display_name": "python11",
   "language": "python",
   "name": "python3"
  },
  "language_info": {
   "codemirror_mode": {
    "name": "ipython",
    "version": 3
   },
   "file_extension": ".py",
   "mimetype": "text/x-python",
   "name": "python",
   "nbconvert_exporter": "python",
   "pygments_lexer": "ipython3",
   "version": "3.12.0"
  }
 },
 "nbformat": 4,
 "nbformat_minor": 2
}
