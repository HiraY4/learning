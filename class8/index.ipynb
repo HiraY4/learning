{
 "cells": [
  {
   "cell_type": "code",
   "execution_count": 2,
   "metadata": {},
   "outputs": [
    {
     "name": "stdout",
     "output_type": "stream",
     "text": [
      "before {'fname': 'Sauleh', 'khala_name': 'Yousuf khala', 'age': 11}\n",
      "after {'fname': 'Sauleh', 'khala_name': 'Yousuf khala', 'age': 11}\n",
      "['clear', 'copy', 'fromkeys', 'get', 'items', 'keys', 'pop', 'popitem', 'setdefault', 'update', 'values']\n"
     ]
    }
   ],
   "source": [
    "from typing import Dict, Union, Optional\n",
    "import pprint\n",
    "\n",
    "Key = Union[str,int]\n",
    "Value = Union[str,int,list, dict,tuple,set]\n",
    "data : Dict[Key,Value] = {\n",
    "                        \"fname\":\"Sauleh\", # colon is used as seperater\n",
    "                        \"khala_name\":\"Yousuf khala\",\n",
    "                        \"age\":11,\n",
    "                        }\n",
    "print(\"before\", data)\n",
    "print(\"after\", data)\n",
    "\n",
    "methods : list[str] = [m for m in dir(data) if \"__\" not in m]\n",
    "print(methods)\n",
    "# pop.data -> removes last item\n",
    "# popitem.data -> removes last item\n",
    "# del.data -> deletes objects permanently\n",
    "# clear.data -> clear all pervious data\n",
    "# data.get('Pak', NA) -? does not let error pop instead sends a defined msg/ADDS NEW VALUE\n",
    "# data.update(data1)\n"
   ]
  },
  {
   "cell_type": "code",
   "execution_count": 3,
   "metadata": {},
   "outputs": [
    {
     "name": "stdout",
     "output_type": "stream",
     "text": [
      "{'fname': 'Sauleh', 'khala_name': 'Yousuf khala', 'age': 17, 'khala': 'Hira'}\n"
     ]
    }
   ],
   "source": [
    "data : Dict[Key,Value] = {\n",
    "                        \"fname\":\"Sauleh\", # colon is used as seperater\n",
    "                        \"khala_name\":\"Yousuf khala\",\n",
    "                        \"age\":11,\n",
    "                        }\n",
    "data1 : Dict[Key,Value] = {\n",
    "                        \"fname\":\"Sauleh\", # colon is used as seperater\n",
    "                        \"khala\":\"Hira\",\n",
    "                        \"age\":17,\n",
    "                        }\n",
    "data.update(data1)\n",
    "print(data)"
   ]
  },
  {
   "cell_type": "code",
   "execution_count": 1,
   "metadata": {},
   "outputs": [
    {
     "data": {
      "text/html": [
       "<div>\n",
       "<style scoped>\n",
       "    .dataframe tbody tr th:only-of-type {\n",
       "        vertical-align: middle;\n",
       "    }\n",
       "\n",
       "    .dataframe tbody tr th {\n",
       "        vertical-align: top;\n",
       "    }\n",
       "\n",
       "    .dataframe thead th {\n",
       "        text-align: right;\n",
       "    }\n",
       "</style>\n",
       "<table border=\"1\" class=\"dataframe\">\n",
       "  <thead>\n",
       "    <tr style=\"text-align: right;\">\n",
       "      <th></th>\n",
       "      <th>roll_no</th>\n",
       "      <th>name</th>\n",
       "    </tr>\n",
       "  </thead>\n",
       "  <tbody>\n",
       "    <tr>\n",
       "      <th>0</th>\n",
       "      <td>1</td>\n",
       "      <td>david</td>\n",
       "    </tr>\n",
       "    <tr>\n",
       "      <th>1</th>\n",
       "      <td>2</td>\n",
       "      <td>Sauleh</td>\n",
       "    </tr>\n",
       "    <tr>\n",
       "      <th>2</th>\n",
       "      <td>3</td>\n",
       "      <td>Qasim</td>\n",
       "    </tr>\n",
       "  </tbody>\n",
       "</table>\n",
       "</div>"
      ],
      "text/plain": [
       "   roll_no    name\n",
       "0        1   david\n",
       "1        2  Sauleh\n",
       "2        3   Qasim"
      ]
     },
     "execution_count": 1,
     "metadata": {},
     "output_type": "execute_result"
    }
   ],
   "source": [
    "import pandas as pd\n",
    "from typing import Any, Dict\n",
    "\n",
    "student_data : Dict[str, list[Any]] = {\n",
    "  \"roll_no\":[1, 2, 3],\n",
    "  \"name\":[\"david\", \"Sauleh\", \"Qasim\"],\n",
    "  }\n",
    "df : pd.DataFrame = pd.DataFrame(student_data)\n",
    "df"
   ]
  },
  {
   "cell_type": "code",
   "execution_count": 12,
   "metadata": {},
   "outputs": [
    {
     "name": "stdout",
     "output_type": "stream",
     "text": [
      "green\n",
      "you have gained 5 point\n"
     ]
    }
   ],
   "source": [
    "alien_0 : Dict[str, int] = {\"color\":\"green\",\"points\":5}\n",
    "print(alien_0[\"color\"]) # extract element with variable's name (not value) \n",
    "print(f\"you have gained {alien_0[\"points\"]} point\")"
   ]
  },
  {
   "cell_type": "code",
   "execution_count": 22,
   "metadata": {},
   "outputs": [
    {
     "name": "stdout",
     "output_type": "stream",
     "text": [
      "{'color': 'green', 'points': 5}\n",
      "{'color': 'green', 'points': 5, 'x_position': 24}\n"
     ]
    }
   ],
   "source": [
    "alien_0 : Dict[str, int] = {\"color\":\"green\",\"points\":5}\n",
    "print(alien_0)\n",
    "\n",
    "alien_0[\"x_position\"] = 24 # added a new element in Dict\n",
    "print(alien_0)\n"
   ]
  },
  {
   "cell_type": "code",
   "execution_count": 23,
   "metadata": {},
   "outputs": [
    {
     "name": "stdout",
     "output_type": "stream",
     "text": [
      "{'color': 'green', 'points': 5}\n"
     ]
    }
   ],
   "source": [
    "Type_alienU = Union[str,int,set,dict,list]\n",
    "\n",
    "alien_0 : dict[Type_alienU] = { # assigning values\n",
    "  \"color\":\"green\",\n",
    "  \"points\":5\n",
    "}\n",
    "print(alien_0)"
   ]
  },
  {
   "cell_type": "code",
   "execution_count": 27,
   "metadata": {},
   "outputs": [
    {
     "name": "stdout",
     "output_type": "stream",
     "text": [
      "modified color is yellow which was green earlier\n"
     ]
    }
   ],
   "source": [
    "Type_alienU = Union[str,int,set,dict,list]\n",
    "\n",
    "alien_0 : dict[Type_alienU] = {\"color\":\"green\"} \n",
    "alien_0[\"color\"] = \"yellow\" # modify value in dict\n",
    "\n",
    "print(f\"modified color is {alien_0['color']} which was green earlier\")\n"
   ]
  },
  {
   "cell_type": "code",
   "execution_count": 43,
   "metadata": {},
   "outputs": [
    {
     "name": "stdout",
     "output_type": "stream",
     "text": [
      "Original position is 0\n",
      "(New position is 23)\n"
     ]
    }
   ],
   "source": [
    "Type_Alien = Union[str,int,list,set]\n",
    "\n",
    "alien_speed : dict[Type_Alien] = {\"x_position\":0,\n",
    "                                  \"y_position\":25, # key is always unique\n",
    "                                  \"speed\":\"fast\",\n",
    "                                  \"y_position\":23} # if same key is repeated, then only last one will print \n",
    "\n",
    "print(f\"Original position is {alien_speed['x_position']}\")\n",
    "\n",
    "if alien_speed[\"speed\"] == \"slow\":\n",
    "  x_increment = 1\n",
    "elif alien_speed[\"speed\"] == \"medium\":\n",
    "  x_increment = 2\n",
    "else:\n",
    "  x_increment = 3\n",
    "\n",
    "alien_speed[\"x_position\"] += x_increment\n",
    "print(f\"(New position is {alien_speed['x_position']})\")\n",
    "# print(f\"(New position is {alien_speed['y_position']})\") # value of last 'y_position' is printed here '23'not'25'\n",
    "# del alien_speed[\"speed\"] # this will permanently delete the 'speed' object"
   ]
  },
  {
   "cell_type": "code",
   "execution_count": 52,
   "metadata": {},
   "outputs": [
    {
     "name": "stdout",
     "output_type": "stream",
     "text": [
      "sauleh's favorite language is TSC\n",
      "waseh's favorite language is Python\n",
      "No vale is Assigned\n"
     ]
    }
   ],
   "source": [
    "fav_lang : dict[Type_Alien] = {\"waseh\":\"python\",\n",
    "                               \"sauleh\":\"tsc\"}\n",
    "print(f\"sauleh's favorite language is {fav_lang['sauleh'].upper()}\")\n",
    "print(f\"waseh's favorite language is {fav_lang['waseh'].title()}\")\n",
    "print(fav_lang.get(\"C++\", \"No value is Assigned\"))"
   ]
  },
  {
   "cell_type": "code",
   "execution_count": 59,
   "metadata": {},
   "outputs": [
    {
     "name": "stdout",
     "output_type": "stream",
     "text": [
      "dict_items([('waseh', 'python'), ('sauleh', 'tsc')])\n",
      "\n",
      "dict_keys(['waseh', 'sauleh'])\n",
      "dict_values(['python', 'tsc'])\n"
     ]
    }
   ],
   "source": [
    "fav_lang : dict[Type_Alien] = {\"waseh\":\"python\",\n",
    "                               \"sauleh\":\"tsc\"}\n",
    "print(fav_lang.items())\n",
    "print(f'\\n{fav_lang.keys()}')\n",
    "print(fav_lang.values())"
   ]
  },
  {
   "cell_type": "code",
   "execution_count": 63,
   "metadata": {},
   "outputs": [
    {
     "name": "stdout",
     "output_type": "stream",
     "text": [
      "waseh python\n",
      "sauleh tsc\n"
     ]
    }
   ],
   "source": [
    "for k, v in fav_lang.items():\n",
    "  print(k,v)\n",
    "  print(v)"
   ]
  },
  {
   "cell_type": "code",
   "execution_count": 68,
   "metadata": {},
   "outputs": [
    {
     "name": "stdout",
     "output_type": "stream",
     "text": [
      "Hi waseh\n",
      "\twaseh, I see you love Python\n",
      "Hi sauleh\n",
      "\tsauleh, I see you love Tsc\n"
     ]
    }
   ],
   "source": [
    "fav_lang : dict[Type_Alien] = {\"waseh\":\"python\",\n",
    "                               \"sauleh\":\"tsc\"}\n",
    "friends_key: list[str] = [\"waseh\",\"sauleh\"]\n",
    "\n",
    "for name in fav_lang.keys():\n",
    "  print(f\"Hi {name}\")\n",
    "  if name in friends_key:\n",
    "    lang = fav_lang[name].title()\n",
    "    print(f\"\\t{name}, I see you love {lang}\")"
   ]
  },
  {
   "cell_type": "code",
   "execution_count": 73,
   "metadata": {},
   "outputs": [
    {
     "data": {
      "text/plain": [
       "False"
      ]
     },
     "execution_count": 73,
     "metadata": {},
     "output_type": "execute_result"
    }
   ],
   "source": [
    "\"erin\" in fav_lang.keys()"
   ]
  },
  {
   "cell_type": "code",
   "execution_count": 74,
   "metadata": {},
   "outputs": [
    {
     "data": {
      "text/plain": [
       "True"
      ]
     },
     "execution_count": 74,
     "metadata": {},
     "output_type": "execute_result"
    }
   ],
   "source": [
    "\"erin\" not in fav_lang.keys()"
   ]
  },
  {
   "cell_type": "code",
   "execution_count": 76,
   "metadata": {},
   "outputs": [
    {
     "name": "stdout",
     "output_type": "stream",
     "text": [
      "NA\n"
     ]
    }
   ],
   "source": [
    "if \"erin\" not in fav_lang.keys():\n",
    "  print(\"NA\")"
   ]
  },
  {
   "cell_type": "code",
   "execution_count": 79,
   "metadata": {},
   "outputs": [
    {
     "name": "stdout",
     "output_type": "stream",
     "text": [
      "Sauleh\tthank you!\n",
      "Waseh\tthank you!\n"
     ]
    }
   ],
   "source": [
    "for name in sorted(fav_lang.keys()):\n",
    "  print(f\"{name.title()}\\tthank you!\")"
   ]
  },
  {
   "cell_type": "code",
   "execution_count": 80,
   "metadata": {},
   "outputs": [
    {
     "name": "stdout",
     "output_type": "stream",
     "text": [
      "Python\n",
      "Tsc\n"
     ]
    }
   ],
   "source": [
    "for lang in fav_lang.values():\n",
    "  print(lang.title())"
   ]
  },
  {
   "cell_type": "code",
   "execution_count": 87,
   "metadata": {},
   "outputs": [
    {
     "data": {
      "text/plain": [
       "{'C++', 'java', 'python'}"
      ]
     },
     "metadata": {},
     "output_type": "display_data"
    }
   ],
   "source": [
    "language: set = {\"python\",\"java\",\"C++\", \"java\"} # set -> helps avoid duplication\n",
    "display(language) # displays unique values\n",
    "\n",
    "# set has no key-value pairs\n",
    "# set has braces"
   ]
  },
  {
   "cell_type": "code",
   "execution_count": 94,
   "metadata": {},
   "outputs": [
    {
     "name": "stdout",
     "output_type": "stream",
     "text": [
      "{'color': 'green', 'points': 5}\n",
      "{'color': 'yellow', 'points': 10}\n",
      "{'color': 'red', 'points': 15}\n"
     ]
    }
   ],
   "source": [
    "alien_0 : list[Key, Value] = {\"color\":\"green\",\"points\":5}\n",
    "alien_1 : list[Key, Value] = {\"color\":\"yellow\",\"points\":10}\n",
    "alien_2 : list[Key, Value] = {\"color\":\"red\",\"points\":15}\n",
    "\n",
    "aliens : list[Dict[str,str]] = [alien_0, alien_1, alien_2]\n",
    "\n",
    "for alien in aliens:\n",
    "  print(alien)\n"
   ]
  },
  {
   "cell_type": "code",
   "execution_count": 116,
   "metadata": {},
   "outputs": [
    {
     "name": "stdout",
     "output_type": "stream",
     "text": [
      "[]\n",
      "[{'color': 'red', 'points': 15, 'speed': 'fast'},\n",
      " {'color': 'red', 'points': 15, 'speed': 'fast'},\n",
      " {'color': 'red', 'points': 15, 'speed': 'fast'},\n",
      " {'color': 'red', 'points': 15, 'speed': 'fast'},\n",
      " {'color': 'red', 'points': 15, 'speed': 'fast'}]\n"
     ]
    }
   ],
   "source": [
    "aliens : list[Dict[str,str]] = [] # empty list\n",
    "print(aliens)\n",
    "\n",
    "for alien_num in range(30): # loop\n",
    "  new_alien = {\"color\":\"red\",\"points\":15, \"speed\":\"fast\"} # new variable \n",
    "  aliens.append(new_alien) # append\n",
    "pprint.pprint(aliens[:5]) # slicing\n",
    "    "
   ]
  },
  {
   "cell_type": "code",
   "execution_count": 118,
   "metadata": {},
   "outputs": [
    {
     "name": "stdout",
     "output_type": "stream",
     "text": [
      "[{'color': 'red', 'points': 15, 'speed': 'fast'}, {'color': 'red', 'points': 15, 'speed': 'fast'}, {'color': 'red', 'points': 15, 'speed': 'fast'}, {'color': 'red', 'points': 15, 'speed': 'fast'}, {'color': 'red', 'points': 15, 'speed': 'fast'}, {'color': 'red', 'points': 15, 'speed': 'fast'}, {'color': 'red', 'points': 15, 'speed': 'fast'}, {'color': 'red', 'points': 15, 'speed': 'fast'}, {'color': 'red', 'points': 15, 'speed': 'fast'}, {'color': 'red', 'points': 15, 'speed': 'fast'}, {'color': 'red', 'points': 15, 'speed': 'fast'}, {'color': 'red', 'points': 15, 'speed': 'fast'}, {'color': 'red', 'points': 15, 'speed': 'fast'}, {'color': 'red', 'points': 15, 'speed': 'fast'}, {'color': 'red', 'points': 15, 'speed': 'fast'}, {'color': 'red', 'points': 15, 'speed': 'fast'}, {'color': 'red', 'points': 15, 'speed': 'fast'}, {'color': 'red', 'points': 15, 'speed': 'fast'}, {'color': 'red', 'points': 15, 'speed': 'fast'}, {'color': 'red', 'points': 15, 'speed': 'fast'}, {'color': 'red', 'points': 15, 'speed': 'fast'}, {'color': 'red', 'points': 15, 'speed': 'fast'}, {'color': 'red', 'points': 15, 'speed': 'fast'}, {'color': 'red', 'points': 15, 'speed': 'fast'}, {'color': 'red', 'points': 15, 'speed': 'fast'}, {'color': 'red', 'points': 15, 'speed': 'fast'}, {'color': 'red', 'points': 15, 'speed': 'fast'}, {'color': 'red', 'points': 15, 'speed': 'fast'}, {'color': 'red', 'points': 15, 'speed': 'fast'}, {'color': 'red', 'points': 15, 'speed': 'fast'}]\n"
     ]
    }
   ],
   "source": [
    "for alien in aliens[:3]:\n",
    "  if alien == \"green\":\n",
    "    alien['color'] = \"yellow\"\n",
    "    alien['points'] = 10\n",
    "    alien['speed'] = \"medium\"\n",
    "\n",
    "print(aliens)"
   ]
  },
  {
   "cell_type": "code",
   "execution_count": 119,
   "metadata": {},
   "outputs": [
    {
     "data": {
      "text/plain": [
       "True"
      ]
     },
     "execution_count": 119,
     "metadata": {},
     "output_type": "execute_result"
    }
   ],
   "source": [
    "# in operator for content serach\n",
    "# Natural language processing (NLP)\n",
    "# regex(re=>regular expression) is important to survive in NLP as it helps build logic\n",
    "\"Qasim\" in \"\"\"Sir Muhammad Qasim is my mentor for Python and Gen A.I\"\"\""
   ]
  },
  {
   "cell_type": "code",
   "execution_count": 132,
   "metadata": {},
   "outputs": [
    {
     "name": "stdout",
     "output_type": "stream",
     "text": [
      "{'color': {'dull': 'black', 'dark': 'red'}, 'points': 5}\n"
     ]
    }
   ],
   "source": [
    "dic_dic : dict[Type_alienU] = {\"color\":{\"dull\":\"black\",\n",
    "                                    \"dark\":\"red\"},\n",
    "                           \"points\":5}\n",
    "print(dic_dic)"
   ]
  },
  {
   "cell_type": "code",
   "execution_count": 140,
   "metadata": {},
   "outputs": [
    {
     "name": "stdout",
     "output_type": "stream",
     "text": [
      "{'fname': 'Sauleh', 'khala_name': 'Yousuf khala', 'age': 11}\n",
      "<class 'dict'>\n"
     ]
    }
   ],
   "source": [
    "Key = Union[str,int]\n",
    "Value = Union[str,int,list, dict,tuple,set]\n",
    "data : Dict[Key,Value] = {\n",
    "                        \"fname\":\"Sauleh\", # colon is used as seperater\n",
    "                        \"khala_name\":\"Yousuf khala\",\n",
    "                        \"age\":11,\n",
    "                        }\n",
    "print(data)\n",
    "print(type(data))"
   ]
  },
  {
   "cell_type": "code",
   "execution_count": 141,
   "metadata": {},
   "outputs": [
    {
     "name": "stdout",
     "output_type": "stream",
     "text": [
      "{\n",
      "    \"fname\": \"Sauleh\",\n",
      "    \"khala_name\": \"Yousuf khala\",\n",
      "    \"age\": 11\n",
      "}\n",
      "<class 'str'>\n"
     ]
    }
   ],
   "source": [
    "import json\n",
    "# json format is similar to python's dictionary\n",
    "# json format is represented in string\n",
    "# convert py dict to json by json.dumps(variable_name, with indent if needed)\n",
    "\n",
    "new_data = json.dumps(data, indent=4)\n",
    "print(new_data)\n",
    "print(type(str(new_data)))"
   ]
  }
 ],
 "metadata": {
  "kernelspec": {
   "display_name": "python11",
   "language": "python",
   "name": "python3"
  },
  "language_info": {
   "codemirror_mode": {
    "name": "ipython",
    "version": 3
   },
   "file_extension": ".py",
   "mimetype": "text/x-python",
   "name": "python",
   "nbconvert_exporter": "python",
   "pygments_lexer": "ipython3",
   "version": "3.12.0"
  }
 },
 "nbformat": 4,
 "nbformat_minor": 2
}
