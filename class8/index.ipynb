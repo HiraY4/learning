{
 "cells": [
  {
   "cell_type": "code",
   "execution_count": 2,
   "metadata": {},
   "outputs": [
    {
     "name": "stdout",
     "output_type": "stream",
     "text": [
      "before {'fname': 'Sauleh', 'khala_name': 'Yousuf khala', 'age': 11}\n",
      "after {'fname': 'Sauleh', 'khala_name': 'Yousuf khala', 'age': 11}\n",
      "['clear', 'copy', 'fromkeys', 'get', 'items', 'keys', 'pop', 'popitem', 'setdefault', 'update', 'values']\n"
     ]
    }
   ],
   "source": [
    "from typing import Dict, Union, Optional\n",
    "import pprint\n",
    "\n",
    "Key = Union[str,int]\n",
    "Value = Union[str,int,list, dict,tuple,set]\n",
    "data : Dict[Key,Value] = {\n",
    "                        \"fname\":\"Sauleh\", # colon is used as seperater\n",
    "                        \"khala_name\":\"Yousuf khala\",\n",
    "                        \"age\":11,\n",
    "                        }\n",
    "print(\"before\", data)\n",
    "print(\"after\", data)\n",
    "\n",
    "methods : list[str] = [m for m in dir(data) if \"__\" not in m]\n",
    "print(methods)\n",
    "# pop.data -> removes last item\n",
    "# popitem.data -> removes last item\n",
    "# del.data -> deletes objects permanently\n",
    "# clear.data -> clear all pervious data\n",
    "# data.get('Pak', NA) -? does not let error pop instead sends a defined msg/ADDS NEW VALUE\n",
    "# data.update(data1)\n"
   ]
  },
  {
   "cell_type": "code",
   "execution_count": 3,
   "metadata": {},
   "outputs": [
    {
     "name": "stdout",
     "output_type": "stream",
     "text": [
      "{'fname': 'Sauleh', 'khala_name': 'Yousuf khala', 'age': 17, 'khala': 'Hira'}\n"
     ]
    }
   ],
   "source": [
    "data : Dict[Key,Value] = {\n",
    "                        \"fname\":\"Sauleh\", # colon is used as seperater\n",
    "                        \"khala_name\":\"Yousuf khala\",\n",
    "                        \"age\":11,\n",
    "                        }\n",
    "data1 : Dict[Key,Value] = {\n",
    "                        \"fname\":\"Sauleh\", # colon is used as seperater\n",
    "                        \"khala\":\"Hira\",\n",
    "                        \"age\":17,\n",
    "                        }\n",
    "data.update(data1)\n",
    "print(data)"
   ]
  },
  {
   "cell_type": "code",
   "execution_count": 9,
   "metadata": {},
   "outputs": [
    {
     "data": {
      "text/html": [
       "<div>\n",
       "<style scoped>\n",
       "    .dataframe tbody tr th:only-of-type {\n",
       "        vertical-align: middle;\n",
       "    }\n",
       "\n",
       "    .dataframe tbody tr th {\n",
       "        vertical-align: top;\n",
       "    }\n",
       "\n",
       "    .dataframe thead th {\n",
       "        text-align: right;\n",
       "    }\n",
       "</style>\n",
       "<table border=\"1\" class=\"dataframe\">\n",
       "  <thead>\n",
       "    <tr style=\"text-align: right;\">\n",
       "      <th></th>\n",
       "      <th>roll_no</th>\n",
       "      <th>name</th>\n",
       "    </tr>\n",
       "  </thead>\n",
       "  <tbody>\n",
       "    <tr>\n",
       "      <th>0</th>\n",
       "      <td>1</td>\n",
       "      <td>Hira</td>\n",
       "    </tr>\n",
       "    <tr>\n",
       "      <th>1</th>\n",
       "      <td>2</td>\n",
       "      <td>Sauleh</td>\n",
       "    </tr>\n",
       "    <tr>\n",
       "      <th>2</th>\n",
       "      <td>3</td>\n",
       "      <td>Qasim</td>\n",
       "    </tr>\n",
       "  </tbody>\n",
       "</table>\n",
       "</div>"
      ],
      "text/plain": [
       "   roll_no    name\n",
       "0        1    Hira\n",
       "1        2  Sauleh\n",
       "2        3   Qasim"
      ]
     },
     "execution_count": 9,
     "metadata": {},
     "output_type": "execute_result"
    }
   ],
   "source": [
    "import pandas as pd\n",
    "from typing import Any, Dict\n",
    "\n",
    "student_data : Dict[str, list[Any]] = {\n",
    "  \"roll_no\":[1, 2, 3],\n",
    "  \"name\":[\"Hira\", \"Sauleh\", \"Qasim\"],\n",
    "  }\n",
    "df : pd.DataFrame = pd.DataFrame(student_data)\n",
    "df"
   ]
  }
 ],
 "metadata": {
  "kernelspec": {
   "display_name": "python11",
   "language": "python",
   "name": "python3"
  },
  "language_info": {
   "codemirror_mode": {
    "name": "ipython",
    "version": 3
   },
   "file_extension": ".py",
   "mimetype": "text/x-python",
   "name": "python",
   "nbconvert_exporter": "python",
   "pygments_lexer": "ipython3",
   "version": "3.12.0"
  }
 },
 "nbformat": 4,
 "nbformat_minor": 2
}
