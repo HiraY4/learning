{
 "cells": [
  {
   "cell_type": "markdown",
   "metadata": {},
   "source": [
    "# Loop & Input from User\n",
    "* while\n",
    "* for\n",
    "* control\n",
    "  * break\n",
    "  * continue\n",
    "  * pass\n",
    "* input with input function\n",
    "* input from console\n",
    "* Loop working on iterative types -> List, Dict, Tuple, Str"
   ]
  },
  {
   "cell_type": "markdown",
   "metadata": {},
   "source": [
    "* pip is package manager\n",
    "* \\ -> line continue"
   ]
  },
  {
   "cell_type": "code",
   "execution_count": 4,
   "metadata": {},
   "outputs": [
    {
     "name": "stdout",
     "output_type": "stream",
     "text": [
      "current number is: 1\n",
      "current number is: 2\n",
      "current number is: 3\n",
      "current number is: 4\n",
      "current number is: 5\n",
      "current number is: 6\n",
      "current number is: 7\n"
     ]
    }
   ],
   "source": [
    "# iteration on list\n",
    "\n",
    "l1 : list[int] = [1,2,3,4,5,6,7] # performs interation by taking every element one by one\n",
    "\n",
    "for n in l1: # for n=1,2,3,4,5,6,7 (one by one) in [1,2,...]\n",
    "  # print(n)   # print(n=1,2,3,4...) one by one\n",
    "  print(f\"current number is: {n}\")\n"
   ]
  },
  {
   "cell_type": "code",
   "execution_count": 5,
   "metadata": {},
   "outputs": [
    {
     "name": "stdout",
     "output_type": "stream",
     "text": [
      "current number is: 1\n",
      "current number is: 2\n",
      "current number is: 3\n",
      "current number is: 4\n",
      "current number is: 5\n",
      "current number is: 6\n",
      "current number is: 7\n"
     ]
    }
   ],
   "source": [
    "# iteration on tuple\n",
    "\n",
    "# iteration on list\n",
    "l1 : list[int] = list({1,2,3,4,5,6,7}) # performs interation by taking every element one by one\n",
    "\n",
    "for n in l1: # for n=1,2,3,4,5,6,7 (one by one) in [1,2,...]\n",
    "  # print(n)   # print(n=1,2,3,4...) one by one\n",
    "  print(f\"current number is: {n}\")\n"
   ]
  },
  {
   "cell_type": "code",
   "execution_count": 7,
   "metadata": {},
   "outputs": [
    {
     "name": "stdout",
     "output_type": "stream",
     "text": [
      "current letter is: P\n",
      "current letter is: a\n",
      "current letter is: k\n",
      "current letter is: i\n",
      "current letter is: s\n",
      "current letter is: t\n",
      "current letter is: a\n",
      "current letter is: n\n"
     ]
    }
   ],
   "source": [
    "# iteration on str\n",
    "\n",
    "l1 : str = \"Pakistan\" # performs interation by taking every element one by one\n",
    "\n",
    "for c in l1: # for c=P,a,k,i,s,t,a (one by one) in [P,a,...]\n",
    "  # print(n)   # print(n=P,a,k,i...) one by one\n",
    "  print(f\"current letter is: {c}\")\n"
   ]
  },
  {
   "cell_type": "code",
   "execution_count": 9,
   "metadata": {},
   "outputs": [
    {
     "name": "stdout",
     "output_type": "stream",
     "text": [
      "name: Qasim\n",
      "age: 11\n"
     ]
    }
   ],
   "source": [
    "# iteration in Dict\n",
    "\n",
    "l1 : dict[str,str] = {\"name\":\"Qasim\",\"age\":\"11\"}\n",
    "for key in l1:\n",
    "  print(f\"{key}: {l1[key]}\")"
   ]
  },
  {
   "cell_type": "code",
   "execution_count": 5,
   "metadata": {},
   "outputs": [
    {
     "name": "stdout",
     "output_type": "stream",
     "text": [
      "values from list of set is iterated: 1\n",
      "values from list of set is iterated: 2\n",
      "values from list of set is iterated: 3\n",
      "values from list of set is iterated: 4\n",
      "values from list of set is iterated: 5\n"
     ]
    }
   ],
   "source": [
    "# iteration on set\n",
    "l1 : set = {1,3,5,2,3,4,3} # unique value from set\n",
    "for l in l1:\n",
    "  print(f\"values from list of set is iterated: {l}\")"
   ]
  },
  {
   "cell_type": "code",
   "execution_count": 48,
   "metadata": {},
   "outputs": [
    {
     "name": "stdout",
     "output_type": "stream",
     "text": [
      "values from list of set is iterated: 1\n",
      "values from list of set is iterated: 2\n",
      "values from list of set is iterated: 3\n",
      "values from list of set is iterated: 4\n",
      "values from list of set is iterated: 5\n"
     ]
    }
   ],
   "source": [
    "# to perform iteration on set data, we need to convert it to list, as seen below\n",
    "# type casting is required\n",
    "\n",
    "# l1 : list[set[int]] = list({1,3,5,2,3,4,3}) # unique value from set\n",
    "for l in l1:\n",
    "  print(f\"values from list of set is iterated: {l}\")"
   ]
  },
  {
   "cell_type": "markdown",
   "metadata": {},
   "source": [
    "* str is immutable so it cannot be changed"
   ]
  },
  {
   "cell_type": "markdown",
   "metadata": {},
   "source": [
    "# input from user\n",
    "* input function\n",
    "  * default type = str\n",
    "* sys.argv (for console input in abc.py file)\n",
    "  * default type = object\n",
    "  * argv receive objects passed through console and then iterated."
   ]
  },
  {
   "cell_type": "code",
   "execution_count": null,
   "metadata": {},
   "outputs": [],
   "source": [
    "name : str = input(\"name please: \")\n",
    "print(name)\n",
    "print(type(name))"
   ]
  },
  {
   "cell_type": "code",
   "execution_count": 15,
   "metadata": {},
   "outputs": [
    {
     "name": "stdout",
     "output_type": "stream",
     "text": [
      "line1\n",
      "line2\n",
      "['c:\\\\Users\\\\LAPTOP WORLD\\\\anaconda3\\\\envs\\\\python11\\\\Lib\\\\site-packages\\\\ipykernel_launcher.py', '--ip=127.0.0.1', '--stdin=9018', '--control=9016', '--hb=9015', '--Session.signature_scheme=\"hmac-sha256\"', '--Session.key=b\"ea06d879-bdac-4254-9ee4-cbfbfe28db13\"', '--shell=9017', '--transport=\"tcp\"', '--iopub=9019', '--f=\"c:\\\\Users\\\\LAPTOP WORLD\\\\AppData\\\\Roaming\\\\jupyter\\\\runtime\\\\kernel-v2-4020GCK4tr4uzhnr.json\"']\n"
     ]
    }
   ],
   "source": [
    "import sys\n",
    "\n",
    "print(\"line1\")\n",
    "print(\"line2\")\n",
    "\n",
    "print(sys.argv) # iterative data type"
   ]
  },
  {
   "cell_type": "code",
   "execution_count": 32,
   "metadata": {},
   "outputs": [
    {
     "name": "stdout",
     "output_type": "stream",
     "text": [
      "welcome a, s/o x Age is 11\n",
      "welcome b, s/o y Age is 12\n",
      "welcome c, s/o z Age is 13\n"
     ]
    }
   ],
   "source": [
    "fname : list[str] = ['a', 'b','c']\n",
    "lname : list[str] = ['x', 'y', 'z']\n",
    "age : list[int] = [11, 12, 13]\n",
    "\n",
    "list(zip(fname,lname,age))\n",
    "\n",
    "for f, l, a in zip(fname, lname, age):\n",
    "  print(f\"welcome {f}, s/o {l} Age is {a}\")\n",
    "  "
   ]
  },
  {
   "cell_type": "markdown",
   "metadata": {},
   "source": [
    "# while loop\n",
    "```\n",
    "  while logic True or False\n",
    "    loop_body\n",
    "```"
   ]
  },
  {
   "cell_type": "code",
   "execution_count": 40,
   "metadata": {},
   "outputs": [
    {
     "name": "stdout",
     "output_type": "stream",
     "text": [
      "Its True: 2\n",
      "Its True: 3\n",
      "Its True: 4\n",
      "Its True: 5\n"
     ]
    }
   ],
   "source": [
    "flag : bool = True\n",
    "\n",
    "last_flag : int = 2\n",
    "\n",
    "while flag:\n",
    "  print(f\"Its True: {last_flag}\")\n",
    "  last_flag += 1\n",
    "\n",
    "  if last_flag == 6:\n",
    "    break"
   ]
  },
  {
   "cell_type": "code",
   "execution_count": 49,
   "metadata": {},
   "outputs": [
    {
     "name": "stdout",
     "output_type": "stream",
     "text": [
      "index is 0 and value is 100\n",
      "index is 1 and value is 200\n",
      "index is 2 and value is 300\n"
     ]
    }
   ],
   "source": [
    "l1 : list[int] = [100,200,300]\n",
    "\n",
    "index = 0\n",
    "\n",
    "while index < len(l1):\n",
    "  print(f\"index is {index} and value is {l1[index]}\")\n",
    "  index += 1"
   ]
  },
  {
   "cell_type": "code",
   "execution_count": 52,
   "metadata": {},
   "outputs": [
    {
     "name": "stdout",
     "output_type": "stream",
     "text": [
      "would you like to give response or exit/stop:\n"
     ]
    },
    {
     "data": {
      "text/plain": [
       "[{'name': 'zee', 'course': 'pee'}]"
      ]
     },
     "metadata": {},
     "output_type": "display_data"
    },
    {
     "name": "stdout",
     "output_type": "stream",
     "text": [
      "would you like to give response or exit/stop:\n",
      "thanks for the response!\n"
     ]
    }
   ],
   "source": [
    "data : list[dict[str,str]] = []\n",
    "\n",
    "flag : bool = True\n",
    "\n",
    "while flag:\n",
    "  print(\"would you like to give response or exit/stop:\")\n",
    "  name: str = input(\"Name please\")\n",
    "  course: str = input(\"Course please\")\n",
    "  if name in [\"exit\",\"stop\"] or course in [\"exit\",\"stop\"]:\n",
    "    flag = False\n",
    "    print(\"thanks for the response!\")\n",
    "    break\n",
    "  data.append({\"name\": name,\n",
    "               \"course\":course})\n",
    "  display(data)"
   ]
  },
  {
   "cell_type": "markdown",
   "metadata": {},
   "source": [
    "* controls\n",
    "  * break\n",
    "  * continue\n",
    "  * pass"
   ]
  },
  {
   "cell_type": "code",
   "execution_count": 53,
   "metadata": {},
   "outputs": [
    {
     "name": "stdout",
     "output_type": "stream",
     "text": [
      "1\n",
      "2\n",
      "3\n",
      "4\n",
      "5\n"
     ]
    }
   ],
   "source": [
    "for i in range(1,11):\n",
    "  print(i)\n",
    "  if i == 5:\n",
    "    break"
   ]
  },
  {
   "cell_type": "code",
   "execution_count": 56,
   "metadata": {},
   "outputs": [
    {
     "name": "stdout",
     "output_type": "stream",
     "text": [
      "2 x 1 = 2\n",
      "2 x 2 = 4\n",
      "2 x 3 = 6\n",
      "2 x 4 = 8\n",
      "2 x 5 = 10\n",
      "2 x 6 = 12\n",
      "2 x 7 = 14\n",
      "2 x 8 = 16\n",
      "2 x 9 = 18\n",
      "2 x 10 = 20\n"
     ]
    }
   ],
   "source": [
    "for i in range(1,11):\n",
    "  print(f\"2 x {i} = {i*2}\")\n",
    "  # break first test with break and then remove it to finalize"
   ]
  },
  {
   "cell_type": "code",
   "execution_count": 57,
   "metadata": {},
   "outputs": [
    {
     "name": "stdout",
     "output_type": "stream",
     "text": [
      "1\n",
      "2\n",
      "3\n",
      "4\n",
      "6\n",
      "7\n",
      "8\n",
      "9\n",
      "10\n"
     ]
    }
   ],
   "source": [
    "for i in range(1,11):\n",
    "  if i == 5:\n",
    "    continue # skips iteration at 5 and the ocntinue on 6 till 11\n",
    "  print(i)\n"
   ]
  },
  {
   "cell_type": "code",
   "execution_count": 59,
   "metadata": {},
   "outputs": [],
   "source": [
    "# pass helps avoid error\n",
    "\n",
    "for i in range(1,1000):\n",
    "  pass # pass -> to write logic later"
   ]
  },
  {
   "cell_type": "code",
   "execution_count": 64,
   "metadata": {},
   "outputs": [],
   "source": [
    "def abc(a:int, b:int):\n",
    "  pass\n",
    "# print(a) "
   ]
  },
  {
   "cell_type": "code",
   "execution_count": 66,
   "metadata": {},
   "outputs": [
    {
     "data": {
      "text/plain": [
       "False"
      ]
     },
     "execution_count": 66,
     "metadata": {},
     "output_type": "execute_result"
    }
   ],
   "source": [
    "a : int = int(input(\"enter a number:\")) # type_casting\n",
    "a >= 11 #returns boolean"
   ]
  },
  {
   "cell_type": "code",
   "execution_count": 68,
   "metadata": {},
   "outputs": [
    {
     "data": {
      "text/plain": [
       "[2, 4, 8, 18]"
      ]
     },
     "execution_count": 68,
     "metadata": {},
     "output_type": "execute_result"
    }
   ],
   "source": [
    "data : list[int] = [1,2,4,7,8,11,18]\n",
    "[i for i in data if i%2==0] #extract even numbers"
   ]
  },
  {
   "cell_type": "code",
   "execution_count": 67,
   "metadata": {},
   "outputs": [
    {
     "data": {
      "text/plain": [
       "[1, 7, 11]"
      ]
     },
     "execution_count": 67,
     "metadata": {},
     "output_type": "execute_result"
    }
   ],
   "source": [
    "data : list[int] = [1,2,4,7,8,11,18]\n",
    "[i for i in data if i%2 != 0] #extract odd numbers"
   ]
  },
  {
   "cell_type": "code",
   "execution_count": null,
   "metadata": {},
   "outputs": [],
   "source": [
    "prompt : str = \"\\nplease mention your name:/\"\n",
    "# prompt += \"\\nage:\"\n",
    "\n",
    "loop = True\n",
    "while loop:\n",
    "  message = input(prompt)\n",
    "  if message == \"quit\":\n",
    "    print(\"Thanks for response\")\n",
    "    loop = False\n",
    "  else:\n",
    "    print(message)"
   ]
  },
  {
   "cell_type": "code",
   "execution_count": 71,
   "metadata": {},
   "outputs": [
    {
     "name": "stdout",
     "output_type": "stream",
     "text": [
      "1\n",
      "3\n",
      "5\n",
      "7\n",
      "9\n"
     ]
    }
   ],
   "source": [
    "cnum : int = 0\n",
    "while cnum < 10:\n",
    "  cnum += 1\n",
    "  if cnum % 2 == 0:\n",
    "    continue\n",
    "  print(cnum)"
   ]
  },
  {
   "cell_type": "code",
   "execution_count": 72,
   "metadata": {},
   "outputs": [
    {
     "name": "stdout",
     "output_type": "stream",
     "text": [
      "The following users are confirmed\n",
      "Abraham\n",
      "David\n",
      "Alice\n"
     ]
    }
   ],
   "source": [
    "# while is unpredictable loop\n",
    "# for is predictable loop\n",
    "\n",
    "confirmed_users : list[str] = [\"abraham\",\"david\",\"alice\"] \n",
    "un_confirmed_users : list[str] = []\n",
    "\n",
    "while un_confirmed_users:\n",
    "  new_users = un_confirmed_users.pop()\n",
    "  confirmed_users.append(new_users)\n",
    "\n",
    "print(\"The following users are confirmed\")\n",
    "for confirmed_user in confirmed_users:\n",
    "  print(confirmed_user.title())"
   ]
  },
  {
   "cell_type": "code",
   "execution_count": 75,
   "metadata": {},
   "outputs": [
    {
     "name": "stdout",
     "output_type": "stream",
     "text": [
      "3\n",
      "2\n",
      "1\n"
     ]
    }
   ],
   "source": [
    "data : list[int] = [1,2,3]\n",
    "new_data : list[int] = []\n",
    "while data:\n",
    "  n : int = data.pop()\n",
    "  new_data.append(n)\n",
    "  print(n)"
   ]
  },
  {
   "cell_type": "code",
   "execution_count": 78,
   "metadata": {},
   "outputs": [
    {
     "name": "stdout",
     "output_type": "stream",
     "text": [
      "['dog', 'fish', 'cat', 'cat']\n",
      "['dog', 'fish', 'cat']\n",
      "['dog', 'fish']\n"
     ]
    }
   ],
   "source": [
    "pet : list[str] = [\"dog\", \"cat\", \"fish\", \"cat\", \"cat\"]\n",
    "\n",
    "while \"cat\" in pet:\n",
    "  pet.remove(\"cat\")\n",
    "  print(pet)"
   ]
  }
 ],
 "metadata": {
  "kernelspec": {
   "display_name": "python11",
   "language": "python",
   "name": "python3"
  },
  "language_info": {
   "codemirror_mode": {
    "name": "ipython",
    "version": 3
   },
   "file_extension": ".py",
   "mimetype": "text/x-python",
   "name": "python",
   "nbconvert_exporter": "python",
   "pygments_lexer": "ipython3",
   "version": "3.12.0"
  }
 },
 "nbformat": 4,
 "nbformat_minor": 2
}
