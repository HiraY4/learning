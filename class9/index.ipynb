{
 "cells": [
  {
   "cell_type": "markdown",
   "metadata": {},
   "source": [
    "# Loop & Input from User\n",
    "* while\n",
    "* for\n",
    "* control\n",
    "  * break\n",
    "  * continue\n",
    "  * pass\n",
    "* input with input function\n",
    "* input from console\n",
    "* Loop working on iterative types -> List, Dict, Tuple, Str"
   ]
  },
  {
   "cell_type": "code",
   "execution_count": 4,
   "metadata": {},
   "outputs": [
    {
     "name": "stdout",
     "output_type": "stream",
     "text": [
      "current number is: 1\n",
      "current number is: 2\n",
      "current number is: 3\n",
      "current number is: 4\n",
      "current number is: 5\n",
      "current number is: 6\n",
      "current number is: 7\n"
     ]
    }
   ],
   "source": [
    "# iteration on list\n",
    "\n",
    "l1 : list[int] = [1,2,3,4,5,6,7] # performs interation by taking every element one by one\n",
    "\n",
    "for n in l1: # for n=1,2,3,4,5,6,7 (one by one) in [1,2,...]\n",
    "  # print(n)   # print(n=1,2,3,4...) one by one\n",
    "  print(f\"current number is: {n}\")\n"
   ]
  },
  {
   "cell_type": "code",
   "execution_count": 5,
   "metadata": {},
   "outputs": [
    {
     "name": "stdout",
     "output_type": "stream",
     "text": [
      "current number is: 1\n",
      "current number is: 2\n",
      "current number is: 3\n",
      "current number is: 4\n",
      "current number is: 5\n",
      "current number is: 6\n",
      "current number is: 7\n"
     ]
    }
   ],
   "source": [
    "# iteration on tuple\n",
    "\n",
    "# iteration on list\n",
    "l1 : list[int] = {1,2,3,4,5,6,7} # performs interation by taking every element one by one\n",
    "\n",
    "for n in l1: # for n=1,2,3,4,5,6,7 (one by one) in [1,2,...]\n",
    "  # print(n)   # print(n=1,2,3,4...) one by one\n",
    "  print(f\"current number is: {n}\")\n"
   ]
  },
  {
   "cell_type": "code",
   "execution_count": 7,
   "metadata": {},
   "outputs": [
    {
     "name": "stdout",
     "output_type": "stream",
     "text": [
      "current letter is: P\n",
      "current letter is: a\n",
      "current letter is: k\n",
      "current letter is: i\n",
      "current letter is: s\n",
      "current letter is: t\n",
      "current letter is: a\n",
      "current letter is: n\n"
     ]
    }
   ],
   "source": [
    "# iteration on str\n",
    "\n",
    "l1 : str = \"Pakistan\" # performs interation by taking every element one by one\n",
    "\n",
    "for c in l1: # for c=P,a,k,i,s,t,a (one by one) in [P,a,...]\n",
    "  # print(n)   # print(n=P,a,k,i...) one by one\n",
    "  print(f\"current letter is: {c}\")\n"
   ]
  },
  {
   "cell_type": "code",
   "execution_count": 9,
   "metadata": {},
   "outputs": [
    {
     "name": "stdout",
     "output_type": "stream",
     "text": [
      "name: Qasim\n",
      "age: 11\n"
     ]
    }
   ],
   "source": [
    "# iteration in Dict\n",
    "\n",
    "l1 : dict[str,str] = {\"name\":\"Qasim\",\"age\":\"11\"}\n",
    "for key in l1:\n",
    "  print(f\"{key}: {l1[key]}\")"
   ]
  },
  {
   "cell_type": "code",
   "execution_count": 14,
   "metadata": {},
   "outputs": [
    {
     "name": "stdout",
     "output_type": "stream",
     "text": [
      "values from list of set is iterated: 1\n",
      "values from list of set is iterated: 2\n",
      "values from list of set is iterated: 3\n",
      "values from list of set is iterated: 4\n",
      "values from list of set is iterated: 5\n"
     ]
    }
   ],
   "source": [
    "# to perform iteration on set data, we need to convert it to list, as seen below\n",
    "# type casting is required\n",
    "\n",
    "l1 : list[set[int]] = list({1,3,5,2,3,4,3}) #unique value from set\n",
    "for l in l1:\n",
    "  print(f\"values from list of set is iterated: {l}\")"
   ]
  },
  {
   "cell_type": "markdown",
   "metadata": {},
   "source": [
    "* str is immutable so it cannot be changed"
   ]
  },
  {
   "cell_type": "markdown",
   "metadata": {},
   "source": [
    "# input from user\n",
    "* input function\n",
    "  * default type = str\n",
    "* sys.argv (for console input in abc.py file)\n",
    "  * default type = object\n",
    "  * argv receive objects passed through console and then iterated."
   ]
  },
  {
   "cell_type": "code",
   "execution_count": null,
   "metadata": {},
   "outputs": [],
   "source": [
    "name : str = input(\"name please: \")\n",
    "print(name)\n",
    "print(type(name))"
   ]
  },
  {
   "cell_type": "code",
   "execution_count": 15,
   "metadata": {},
   "outputs": [
    {
     "name": "stdout",
     "output_type": "stream",
     "text": [
      "line1\n",
      "line2\n",
      "['c:\\\\Users\\\\LAPTOP WORLD\\\\anaconda3\\\\envs\\\\python11\\\\Lib\\\\site-packages\\\\ipykernel_launcher.py', '--ip=127.0.0.1', '--stdin=9018', '--control=9016', '--hb=9015', '--Session.signature_scheme=\"hmac-sha256\"', '--Session.key=b\"ea06d879-bdac-4254-9ee4-cbfbfe28db13\"', '--shell=9017', '--transport=\"tcp\"', '--iopub=9019', '--f=\"c:\\\\Users\\\\LAPTOP WORLD\\\\AppData\\\\Roaming\\\\jupyter\\\\runtime\\\\kernel-v2-4020GCK4tr4uzhnr.json\"']\n"
     ]
    }
   ],
   "source": [
    "import sys\n",
    "\n",
    "print(\"line1\")\n",
    "print(\"line2\")\n",
    "\n",
    "print(sys.argv) # iterative data type"
   ]
  }
 ],
 "metadata": {
  "kernelspec": {
   "display_name": "python11",
   "language": "python",
   "name": "python3"
  },
  "language_info": {
   "codemirror_mode": {
    "name": "ipython",
    "version": 3
   },
   "file_extension": ".py",
   "mimetype": "text/x-python",
   "name": "python",
   "nbconvert_exporter": "python",
   "pygments_lexer": "ipython3",
   "version": "3.12.0"
  }
 },
 "nbformat": 4,
 "nbformat_minor": 2
}
