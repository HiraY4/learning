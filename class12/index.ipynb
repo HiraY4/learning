{
 "cells": [
  {
   "cell_type": "markdown",
   "metadata": {},
   "source": [
    "# Error Generation"
   ]
  },
  {
   "cell_type": "code",
   "execution_count": 8,
   "metadata": {},
   "outputs": [
    {
     "ename": "StudentAgeError",
     "evalue": "You are not eligible for this project!",
     "output_type": "error",
     "traceback": [
      "\u001b[1;31m---------------------------------------------------------------------------\u001b[0m",
      "\u001b[1;31mStudentAgeError\u001b[0m                           Traceback (most recent call last)",
      "\u001b[1;32md:\\python\\modern_python\\class12\\index.ipynb Cell 2\u001b[0m line \u001b[0;36m1\n\u001b[0;32m      <a href='vscode-notebook-cell:/d%3A/python/modern_python/class12/index.ipynb#W4sZmlsZQ%3D%3D?line=8'>9</a>\u001b[0m \u001b[39mclass\u001b[39;00m \u001b[39mStudentAgeError\u001b[39;00m(\u001b[39mException\u001b[39;00m): \u001b[39m# custom error class\u001b[39;00m\n\u001b[0;32m     <a href='vscode-notebook-cell:/d%3A/python/modern_python/class12/index.ipynb#W4sZmlsZQ%3D%3D?line=9'>10</a>\u001b[0m   \u001b[39mpass\u001b[39;00m\n\u001b[1;32m---> <a href='vscode-notebook-cell:/d%3A/python/modern_python/class12/index.ipynb#W4sZmlsZQ%3D%3D?line=11'>12</a>\u001b[0m student1 \u001b[39m=\u001b[39m StudentCard(\u001b[39m\"\u001b[39;49m\u001b[39mzee\u001b[39;49m\u001b[39m\"\u001b[39;49m, \u001b[39m10001\u001b[39;49m, \u001b[39m62\u001b[39;49m)\n\u001b[0;32m     <a href='vscode-notebook-cell:/d%3A/python/modern_python/class12/index.ipynb#W4sZmlsZQ%3D%3D?line=12'>13</a>\u001b[0m \u001b[39mprint\u001b[39m(student1\u001b[39m.\u001b[39mname, student1\u001b[39m.\u001b[39mroll_no, student1\u001b[39m.\u001b[39mage)\n",
      "\u001b[1;32md:\\python\\modern_python\\class12\\index.ipynb Cell 2\u001b[0m line \u001b[0;36m4\n\u001b[0;32m      <a href='vscode-notebook-cell:/d%3A/python/modern_python/class12/index.ipynb#W4sZmlsZQ%3D%3D?line=1'>2</a>\u001b[0m \u001b[39mdef\u001b[39;00m \u001b[39m__init__\u001b[39m(\u001b[39mself\u001b[39m, name:\u001b[39mstr\u001b[39m, roll_no:\u001b[39mint\u001b[39m, age:\u001b[39mint\u001b[39m) \u001b[39m-\u001b[39m\u001b[39m>\u001b[39m \u001b[39mNone\u001b[39;00m:\n\u001b[0;32m      <a href='vscode-notebook-cell:/d%3A/python/modern_python/class12/index.ipynb#W4sZmlsZQ%3D%3D?line=2'>3</a>\u001b[0m   \u001b[39mif\u001b[39;00m age \u001b[39m<\u001b[39m \u001b[39m16\u001b[39m \u001b[39mor\u001b[39;00m age \u001b[39m>\u001b[39m \u001b[39m61\u001b[39m:\n\u001b[1;32m----> <a href='vscode-notebook-cell:/d%3A/python/modern_python/class12/index.ipynb#W4sZmlsZQ%3D%3D?line=3'>4</a>\u001b[0m     \u001b[39mraise\u001b[39;00m StudentAgeError(\u001b[39m\"\u001b[39m\u001b[39mYou are not eligible for this project!\u001b[39m\u001b[39m\"\u001b[39m)\n\u001b[0;32m      <a href='vscode-notebook-cell:/d%3A/python/modern_python/class12/index.ipynb#W4sZmlsZQ%3D%3D?line=4'>5</a>\u001b[0m   \u001b[39mself\u001b[39m\u001b[39m.\u001b[39mname \u001b[39m=\u001b[39m name\n\u001b[0;32m      <a href='vscode-notebook-cell:/d%3A/python/modern_python/class12/index.ipynb#W4sZmlsZQ%3D%3D?line=5'>6</a>\u001b[0m   \u001b[39mself\u001b[39m\u001b[39m.\u001b[39mroll_no \u001b[39m=\u001b[39m roll_no\n",
      "\u001b[1;31mStudentAgeError\u001b[0m: You are not eligible for this project!"
     ]
    }
   ],
   "source": [
    "class StudentCard():\n",
    "  def __init__(self, name:str, roll_no:int, age:int) -> None:\n",
    "    if age < 16 or age > 61:\n",
    "      raise StudentAgeError(\"You are not eligible for this project!\")\n",
    "    self.name = name\n",
    "    self.roll_no = roll_no\n",
    "    self.age = age \n",
    "\n",
    "class StudentAgeError(Exception): # custom error class\n",
    "  pass\n",
    "\n",
    "student1 = StudentCard(\"zee\", 10001, 62) # age is beyond limit\n",
    "print(student1.name, student1.roll_no, student1.age)"
   ]
  },
  {
   "cell_type": "markdown",
   "metadata": {},
   "source": [
    "# File Handling\n",
    "* https://www.geeksforgeeks.org/reading-writing-text-files-python/\n",
    "* ACCESS MODOFIER\n",
    "\n",
    "    <img src=\"data:image/png;base64,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\">"
   ]
  },
  {
   "cell_type": "code",
   "execution_count": 11,
   "metadata": {},
   "outputs": [
    {
     "data": {
      "text/plain": [
       "_io.TextIOWrapper"
      ]
     },
     "execution_count": 11,
     "metadata": {},
     "output_type": "execute_result"
    }
   ],
   "source": [
    "data = open(\"./abc.txt\")\n",
    "type(data)"
   ]
  },
  {
   "cell_type": "code",
   "execution_count": null,
   "metadata": {},
   "outputs": [],
   "source": [
    "[i for i in dir(data) if \"__\" not in i]"
   ]
  },
  {
   "cell_type": "code",
   "execution_count": 14,
   "metadata": {},
   "outputs": [
    {
     "data": {
      "text/plain": [
       "<_io.TextIOWrapper name='./abc.txt' mode='r' encoding='utf-8'>"
      ]
     },
     "execution_count": 14,
     "metadata": {},
     "output_type": "execute_result"
    }
   ],
   "source": [
    "from typing import TextIO\n",
    "data : TextIO = open(\"./abc.txt\")\n",
    "data"
   ]
  },
  {
   "cell_type": "code",
   "execution_count": 16,
   "metadata": {},
   "outputs": [
    {
     "name": "stdout",
     "output_type": "stream",
     "text": [
      "line_1\n",
      "line_2\n"
     ]
    }
   ],
   "source": [
    "from typing import TextIO\n",
    "data : TextIO = open(\"./abc.txt\") # connectivity -> connects with abc.txt file which needs to be closed\n",
    "print(data.read())\n",
    "# print(data.close())"
   ]
  },
  {
   "cell_type": "code",
   "execution_count": 19,
   "metadata": {},
   "outputs": [
    {
     "name": "stdout",
     "output_type": "stream",
     "text": [
      "line_1\n",
      "line_2\n",
      "<class '_io.TextIOWrapper'>\n",
      "Pakistan Zindabad\n"
     ]
    }
   ],
   "source": [
    "with open(\"./abc.txt\") as file:\n",
    "  print(file.read()) # reads whole file in one go\n",
    "  print(type(file))\n",
    "print(\"Pakistan Zindabad\")"
   ]
  },
  {
   "cell_type": "code",
   "execution_count": 24,
   "metadata": {},
   "outputs": [
    {
     "name": "stdout",
     "output_type": "stream",
     "text": [
      "line_1\n",
      "\n",
      "line_2\n",
      "\n"
     ]
    }
   ],
   "source": [
    "with open(\"./abc.txt\") as file:\n",
    "  print(file.readline()) # one by one line readings\n",
    "  print(file.readline()) # works like generator func"
   ]
  },
  {
   "cell_type": "code",
   "execution_count": null,
   "metadata": {},
   "outputs": [],
   "source": [
    "with open(\"./abc.txt\") as file:\n",
    "  print(file.readline(), end=\"\") # to remove backslash in display of readline, just add end to it\n",
    "  print(file.readline(), end=\"\")  # python prints end/last parameter from code"
   ]
  },
  {
   "cell_type": "code",
   "execution_count": 23,
   "metadata": {},
   "outputs": [
    {
     "name": "stdout",
     "output_type": "stream",
     "text": [
      "['line_1\\n', 'line_2\\n', 'line_3\\n']\n"
     ]
    }
   ],
   "source": [
    "with open(\"./abc.txt\") as file:\n",
    "  print(file.readlines()[:3]) # reads altogther (benefit -> slices can be applied)"
   ]
  },
  {
   "cell_type": "markdown",
   "metadata": {},
   "source": [
    "### MODE\n",
    "* 'file' default mode -> 'r' -> read\n",
    "* 'r' -> read only\n",
    "* 'w' -> write only\n",
    "* 'w' -> write only\n"
   ]
  },
  {
   "cell_type": "code",
   "execution_count": 30,
   "metadata": {},
   "outputs": [
    {
     "name": "stdout",
     "output_type": "stream",
     "text": [
      "will raise error\n"
     ]
    }
   ],
   "source": [
    "with open(\"./abc.txt\", 'r') as file: # type -> TextIO\n",
    "  print(file.read())\n",
    "  # file.write(\"will raise error\") # error  "
   ]
  },
  {
   "cell_type": "code",
   "execution_count": 27,
   "metadata": {},
   "outputs": [],
   "source": [
    "with open(\"./abc.txt\", 'w') as file: # type -> TextIO\n",
    "  # print(file.read()) # 'w' write only mode so error raises\n",
    "  file.write(\"will raise error\")"
   ]
  },
  {
   "cell_type": "code",
   "execution_count": 29,
   "metadata": {},
   "outputs": [],
   "source": [
    "with open(\"./xyz.txt\", 'w') as file: # type -> TextIO\n",
    "  # print(file.read()) # 'w' write only mode so error raises\n",
    "  file.write(\"this new function on object removed all previous data from xyz.txt file when write only\")"
   ]
  },
  {
   "cell_type": "code",
   "execution_count": 45,
   "metadata": {},
   "outputs": [
    {
     "name": "stdout",
     "output_type": "stream",
     "text": [
      "\n"
     ]
    }
   ],
   "source": [
    "with open(\"./xyz.txt\", 'r+') as file: # type -> TextIO (r+ -> read and write)\n",
    "  print(file.read()) # 'r+' read and write both mode so no error raises\n",
    "  file.write(\"it works\")"
   ]
  },
  {
   "cell_type": "code",
   "execution_count": 49,
   "metadata": {},
   "outputs": [
    {
     "name": "stdout",
     "output_type": "stream",
     "text": [
      "\n",
      "\n",
      "after it works\n"
     ]
    }
   ],
   "source": [
    "with open(\"./xyz.txt\", 'r+') as file: # type -> TextIO (r+ -> read and write)\n",
    "  print(file.read()) # read() -> cursor position comes to the last letter of the file\n",
    "  file.write(\"it works\") # nothing prints once read func is processed\n",
    "  \n",
    "  print(file.read()) # this will come blank # cursor error\n",
    "  file.seek(0) # seeking 0 index position keeps cursor in the beginning so that all data is read\n",
    "\n",
    "  print(\"after\", file.read()) # it will read complete file now\n",
    "  "
   ]
  },
  {
   "cell_type": "code",
   "execution_count": 50,
   "metadata": {},
   "outputs": [
    {
     "ename": "FileNotFoundError",
     "evalue": "[Errno 2] No such file or directory: './new_file.txt'",
     "output_type": "error",
     "traceback": [
      "\u001b[1;31m---------------------------------------------------------------------------\u001b[0m",
      "\u001b[1;31mFileNotFoundError\u001b[0m                         Traceback (most recent call last)",
      "\u001b[1;32md:\\python\\modern_python\\class12\\index.ipynb Cell 18\u001b[0m line \u001b[0;36m1\n\u001b[1;32m----> <a href='vscode-notebook-cell:/d%3A/python/modern_python/class12/index.ipynb#X32sZmlsZQ%3D%3D?line=0'>1</a>\u001b[0m \u001b[39mwith\u001b[39;00m \u001b[39mopen\u001b[39;49m(\u001b[39m\"\u001b[39;49m\u001b[39m./new_file.txt\u001b[39;49m\u001b[39m\"\u001b[39;49m, \u001b[39m'\u001b[39;49m\u001b[39mr\u001b[39;49m\u001b[39m'\u001b[39;49m) \u001b[39mas\u001b[39;00m file:\n\u001b[0;32m      <a href='vscode-notebook-cell:/d%3A/python/modern_python/class12/index.ipynb#X32sZmlsZQ%3D%3D?line=1'>2</a>\u001b[0m   \u001b[39mprint\u001b[39m(file\u001b[39m.\u001b[39mread()) \u001b[39m# error because nothing to read\u001b[39;00m\n",
      "File \u001b[1;32mc:\\Users\\LAPTOP WORLD\\anaconda3\\envs\\python11\\Lib\\site-packages\\IPython\\core\\interactiveshell.py:286\u001b[0m, in \u001b[0;36m_modified_open\u001b[1;34m(file, *args, **kwargs)\u001b[0m\n\u001b[0;32m    279\u001b[0m \u001b[39mif\u001b[39;00m file \u001b[39min\u001b[39;00m {\u001b[39m0\u001b[39m, \u001b[39m1\u001b[39m, \u001b[39m2\u001b[39m}:\n\u001b[0;32m    280\u001b[0m     \u001b[39mraise\u001b[39;00m \u001b[39mValueError\u001b[39;00m(\n\u001b[0;32m    281\u001b[0m         \u001b[39mf\u001b[39m\u001b[39m\"\u001b[39m\u001b[39mIPython won\u001b[39m\u001b[39m'\u001b[39m\u001b[39mt let you open fd=\u001b[39m\u001b[39m{\u001b[39;00mfile\u001b[39m}\u001b[39;00m\u001b[39m by default \u001b[39m\u001b[39m\"\u001b[39m\n\u001b[0;32m    282\u001b[0m         \u001b[39m\"\u001b[39m\u001b[39mas it is likely to crash IPython. If you know what you are doing, \u001b[39m\u001b[39m\"\u001b[39m\n\u001b[0;32m    283\u001b[0m         \u001b[39m\"\u001b[39m\u001b[39myou can use builtins\u001b[39m\u001b[39m'\u001b[39m\u001b[39m open.\u001b[39m\u001b[39m\"\u001b[39m\n\u001b[0;32m    284\u001b[0m     )\n\u001b[1;32m--> 286\u001b[0m \u001b[39mreturn\u001b[39;00m io_open(file, \u001b[39m*\u001b[39;49margs, \u001b[39m*\u001b[39;49m\u001b[39m*\u001b[39;49mkwargs)\n",
      "\u001b[1;31mFileNotFoundError\u001b[0m: [Errno 2] No such file or directory: './new_file.txt'"
     ]
    }
   ],
   "source": [
    "with open(\"./new_file.txt\", 'r') as file:\n",
    "  print(file.read()) # error because nothing to read"
   ]
  },
  {
   "cell_type": "code",
   "execution_count": 53,
   "metadata": {},
   "outputs": [
    {
     "ename": "UnsupportedOperation",
     "evalue": "not readable",
     "output_type": "error",
     "traceback": [
      "\u001b[1;31m---------------------------------------------------------------------------\u001b[0m",
      "\u001b[1;31mUnsupportedOperation\u001b[0m                      Traceback (most recent call last)",
      "\u001b[1;32md:\\python\\modern_python\\class12\\index.ipynb Cell 19\u001b[0m line \u001b[0;36m3\n\u001b[0;32m      <a href='vscode-notebook-cell:/d%3A/python/modern_python/class12/index.ipynb#X33sZmlsZQ%3D%3D?line=0'>1</a>\u001b[0m \u001b[39mwith\u001b[39;00m \u001b[39mopen\u001b[39m(\u001b[39m\"\u001b[39m\u001b[39m./new_file.txt\u001b[39m\u001b[39m\"\u001b[39m,\u001b[39m\"\u001b[39m\u001b[39mw\u001b[39m\u001b[39m\"\u001b[39m) \u001b[39mas\u001b[39;00m file:\n\u001b[0;32m      <a href='vscode-notebook-cell:/d%3A/python/modern_python/class12/index.ipynb#X33sZmlsZQ%3D%3D?line=1'>2</a>\u001b[0m   file\u001b[39m.\u001b[39mwrite(\u001b[39m\"\u001b[39m\u001b[39mI learned how to make a new file directly by naming it with \u001b[39m\u001b[39m'\u001b[39m\u001b[39mopen\u001b[39m\u001b[39m'\u001b[39m\u001b[39m\"\u001b[39m)\n\u001b[1;32m----> <a href='vscode-notebook-cell:/d%3A/python/modern_python/class12/index.ipynb#X33sZmlsZQ%3D%3D?line=2'>3</a>\u001b[0m   \u001b[39mprint\u001b[39m(file\u001b[39m.\u001b[39;49mread())\n",
      "\u001b[1;31mUnsupportedOperation\u001b[0m: not readable"
     ]
    }
   ],
   "source": [
    "with open(\"./new_file.txt\",\"w\") as file:\n",
    "  file.write(\"I learned how to make a new file directly by naming it with 'open'\")\n",
    "  # make a new file, if doesnt exist\n",
    "  # overwrites otherwise\n",
    "  # write on file"
   ]
  },
  {
   "cell_type": "code",
   "execution_count": 57,
   "metadata": {},
   "outputs": [
    {
     "name": "stdout",
     "output_type": "stream",
     "text": [
      "\n",
      "I learned how to make a new file directly by naming it with 'open'\n",
      "adding another sentence to see if 'seek' works\n"
     ]
    }
   ],
   "source": [
    "with open(\"./new_file.txt\",\"r+\") as file:\n",
    "  file.write(\"I learned how to make a new file directly by naming it with 'open'\")\n",
    "  print(file.read())\n",
    "\n",
    "  file.write(\"\\nadding another sentence to see if 'seek' works\")\n",
    "  file.seek(0)\n",
    "  print(file.read())"
   ]
  },
  {
   "cell_type": "code",
   "execution_count": 58,
   "metadata": {},
   "outputs": [],
   "source": [
    "with open(\"./append.txt\", \"a\") as file: # in new file\n",
    "  file.write(\"add new line with append mode\")"
   ]
  },
  {
   "cell_type": "code",
   "execution_count": 60,
   "metadata": {},
   "outputs": [],
   "source": [
    "with open(\"./new_file.txt\", \"a\") as file: # in old file\n",
    "  file.write(\"\\nadd new line with append mode and it works. WOW!!\")"
   ]
  },
  {
   "cell_type": "code",
   "execution_count": null,
   "metadata": {},
   "outputs": [],
   "source": []
  }
 ],
 "metadata": {
  "kernelspec": {
   "display_name": "python11",
   "language": "python",
   "name": "python3"
  },
  "language_info": {
   "codemirror_mode": {
    "name": "ipython",
    "version": 3
   },
   "file_extension": ".py",
   "mimetype": "text/x-python",
   "name": "python",
   "nbconvert_exporter": "python",
   "pygments_lexer": "ipython3",
   "version": "3.12.0"
  }
 },
 "nbformat": 4,
 "nbformat_minor": 2
}
