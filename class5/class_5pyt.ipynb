{
 "cells": [
  {
   "cell_type": "markdown",
   "id": "ddd79280-191f-42d3-a57f-de7bf171dfcc",
   "metadata": {},
   "source": [
    "# LIST\n",
    "* ITERATION OPERATION WITH LOOP\n",
    "* APPLY ANY OPERATION ON ELEMENT"
   ]
  },
  {
   "cell_type": "code",
   "execution_count": 9,
   "id": "95d2c394-c9e9-46a2-bf3e-8065d843e201",
   "metadata": {},
   "outputs": [
    {
     "name": "stdout",
     "output_type": "stream",
     "text": [
      "zia\n",
      "sauleh\n",
      "sarah\n"
     ]
    }
   ],
   "source": [
    "#old ways\n",
    "\n",
    "names: list[str] = [\"zia\",\"sauleh\",\"sarah\"]\n",
    "i: int = 0 #counter\n",
    "\n",
    "while i<len(names): #length is 3\n",
    "    print(names[i])\n",
    "    i += 1 \n",
    "\n",
    "'''\n",
    "names: list[str] = [\"zia\",\"sauleh\",\"sarah\"]\n",
    "    for (i=0; i < names.length; i++) {\n",
    "        names[i]\n",
    "    }\n",
    "'''"
   ]
  },
  {
   "cell_type": "code",
   "execution_count": 15,
   "id": "e6d292f1-942e-445a-9b4b-c27fc1d7b6cf",
   "metadata": {},
   "outputs": [
    {
     "name": "stdout",
     "output_type": "stream",
     "text": [
      "sir zia\n",
      "Qasim bhai\n",
      "Okasha\n"
     ]
    }
   ],
   "source": [
    " # new version of looping and iteration is easy and readable introduced by ADVANCED PYTHON\n",
    "\n",
    "names: list[str] = [\"sir zia\",\"qasim bhai\",\"okasha\"]\n",
    "for name in names:\n",
    "    print(name)"
   ]
  },
  {
   "cell_type": "markdown",
   "id": "d7a187c9-64ea-49d9-98e0-9ca5972567de",
   "metadata": {},
   "source": [
    "in html '< br >' is used as enter and '& nbsp;  ' is used as tab\n",
    "\n",
    "for name in names: <br> &nbsp; print(name)"
   ]
  },
  {
   "cell_type": "code",
   "execution_count": 21,
   "id": "8766078c-d6c6-4358-a0c5-07d9b299e6cd",
   "metadata": {},
   "outputs": [
    {
     "name": "stdout",
     "output_type": "stream",
     "text": [
      "Sir Zia is my mentor\n",
      "PIAIC Umbrella\n",
      "\n",
      "Qasim Bhai is my mentor\n",
      "PIAIC Umbrella\n",
      "\n",
      "Okasha is my mentor\n",
      "PIAIC Umbrella\n",
      "\n",
      "Pakistan\n"
     ]
    }
   ],
   "source": [
    "for name in names:\n",
    "    print(f'{name.title()} is my mentor')\n",
    "    print('PIAIC Umbrella\\n')\n",
    "print('Pakistan')"
   ]
  },
  {
   "cell_type": "code",
   "execution_count": 26,
   "id": "a6177ff8-50f5-4326-852e-9db4b85bb9a9",
   "metadata": {},
   "outputs": [
    {
     "name": "stdout",
     "output_type": "stream",
     "text": [
      "Okasha is my mentor\n",
      "Qasim Bhai is my mentor\n",
      "Sir Zia is my mentor\n"
     ]
    }
   ],
   "source": [
    "#slicing \n",
    "for name in names[:2]:\n",
    "    print(f'{name.title()} is my mentor')"
   ]
  },
  {
   "cell_type": "code",
   "execution_count": 27,
   "id": "833792a4-d644-4dcc-88f3-53d28ee32faa",
   "metadata": {},
   "outputs": [
    {
     "name": "stdout",
     "output_type": "stream",
     "text": [
      "Okasha is my mentor\n"
     ]
    }
   ],
   "source": [
    "for name in names[:-2:-1]:\n",
    "    print(f'{name.title()} is my mentor')"
   ]
  },
  {
   "cell_type": "code",
   "execution_count": 8,
   "id": "a1d6c734-dc40-4fcd-a146-9631fc69f76f",
   "metadata": {},
   "outputs": [
    {
     "name": "stdout",
     "output_type": "stream",
     "text": [
      "('hira', '123')\n",
      "('zia', '456')\n"
     ]
    }
   ],
   "source": [
    "#tuple is immutable: wont change in future\n",
    "data_base : list[tuple[str, str]] = [(\"hira\", \"123\"), \n",
    "                                    (\"zia\", \"456\")]\n",
    "for row in data_base:\n",
    "  print(row)"
   ]
  },
  {
   "cell_type": "code",
   "execution_count": 10,
   "id": "1aa89305",
   "metadata": {},
   "outputs": [
    {
     "name": "stdout",
     "output_type": "stream",
     "text": [
      "hira 123\n",
      "zia 456\n"
     ]
    }
   ],
   "source": [
    "#tuple is immutable: wont change in future\n",
    "data_base : list[tuple[str, str]] = [(\"hira\", \"123\"), \n",
    "                                    (\"zia\", \"456\")]\n",
    "for row in data_base:\n",
    "  user, password = row\n",
    "  print(user, password)"
   ]
  },
  {
   "cell_type": "code",
   "execution_count": 26,
   "id": "8e55906a",
   "metadata": {},
   "outputs": [
    {
     "name": "stdout",
     "output_type": "stream",
     "text": [
      "hira is Valid User!\n"
     ]
    }
   ],
   "source": [
    "data_base : list[tuple[str, str]] = [(\"hira\", \"123\"), \n",
    "                                     (\"zia\", \"456\"),\n",
    "                                     (\"qasim\", \"656\"),\n",
    "                                     (\"wasay\", \"1000\"),\n",
    "                                     (\"sauleh\", \"54321\")]\n",
    "\n",
    "user_ID : str = input(\"Your user_ID please:\")\n",
    "user_password : str = input(\"Your password please:\")\n",
    "\n",
    "for row in data_base:\n",
    "  user , password = row\n",
    "  if user_ID == user and user_password == password:\n",
    "    print(f\"{user} is Valid User!\")\n",
    "    break\n",
    "else: #only in python, 'else' can be used with 'for'\n",
    "  print(\"Invalid User!\")"
   ]
  },
  {
   "cell_type": "code",
   "execution_count": 36,
   "id": "17e0304c",
   "metadata": {},
   "outputs": [
    {
     "name": "stdout",
     "output_type": "stream",
     "text": [
      "Invalid User!\n"
     ]
    }
   ],
   "source": [
    "#if else statement small example;\n",
    "\n",
    "names : str = \"ccc\"\n",
    "if names == \"ccc\":\n",
    "    print(names)\n",
    "else:\n",
    "  print(\"wrong input\")"
   ]
  },
  {
   "cell_type": "code",
   "execution_count": 27,
   "id": "f6717293",
   "metadata": {},
   "outputs": [
    {
     "name": "stdout",
     "output_type": "stream",
     "text": [
      "ccc\n",
      "Pakistan\n"
     ]
    }
   ],
   "source": [
    "names : list[str] = [\"ccc\", \"bbb\", \"aaa\"]\n",
    "for name in names:\n",
    "  print(name)\n",
    "  break\n",
    "print(\"Pakistan\")"
   ]
  },
  {
   "cell_type": "code",
   "execution_count": 39,
   "id": "ac1b3523",
   "metadata": {},
   "outputs": [
    {
     "name": "stdout",
     "output_type": "stream",
     "text": [
      "ccc\n"
     ]
    }
   ],
   "source": [
    "names : list[str] = [\"ccc\", \"bbb\", \"aaa\"]\n",
    "for name in names:\n",
    "  print(name)\n",
    "  break\n",
    "else: \n",
    "  \"Pakistan\""
   ]
  },
  {
   "cell_type": "code",
   "execution_count": 51,
   "id": "76ff8054",
   "metadata": {},
   "outputs": [
    {
     "name": "stdout",
     "output_type": "stream",
     "text": [
      "Carolina is fake.\n",
      "\n",
      "David is fake.\n",
      "\n",
      "Alice is fake.\n",
      "\n",
      "Alice is fake.\n"
     ]
    }
   ],
   "source": [
    "magicians : list[str] = [\"carolina\", \"david\", \"alice\"]\n",
    "for magician in magicians:\n",
    "  print(f\"{magician.title()} is fake.\\n\") #local block \n",
    "print(f\"{magician.title()} is fake.\") # only in PYTHON even in global block, last iteration of list works in global scope.  "
   ]
  },
  {
   "cell_type": "code",
   "execution_count": null,
   "id": "0f14bb2f",
   "metadata": {},
   "outputs": [],
   "source": [
    "magicians = \"carolina\"\n",
    "#  print(magicians) # unnecessory indent or space will generate error"
   ]
  },
  {
   "cell_type": "markdown",
   "id": "a8d47aca",
   "metadata": {},
   "source": [
    "# Numbers in Loop\n",
    "* range(start:end:step/sequence).\n",
    "* range is a generative function which does not run with 1 input.\n",
    "* to run range => perdorm iteration on range through list function as seen in below example;"
   ]
  },
  {
   "cell_type": "code",
   "execution_count": 53,
   "id": "fcc298f2",
   "metadata": {},
   "outputs": [
    {
     "data": {
      "text/plain": [
       "[0, 1, 2, 3, 4, 5, 6, 7, 8, 9]"
      ]
     },
     "execution_count": 53,
     "metadata": {},
     "output_type": "execute_result"
    }
   ],
   "source": [
    "list(range(10)) #starts from 0 ends at n-1 which would be 9 in this case"
   ]
  },
  {
   "cell_type": "code",
   "execution_count": 54,
   "id": "a34da3fe",
   "metadata": {},
   "outputs": [
    {
     "data": {
      "text/plain": [
       "[2, 3, 4, 5, 6, 7, 8]"
      ]
     },
     "execution_count": 54,
     "metadata": {},
     "output_type": "execute_result"
    }
   ],
   "source": [
    "list(range(2,9)) #starts from 2 ends at n-1 which would be 8 in this case"
   ]
  },
  {
   "cell_type": "code",
   "execution_count": 55,
   "id": "1bbb6765",
   "metadata": {},
   "outputs": [
    {
     "data": {
      "text/plain": [
       "[1, 4, 7]"
      ]
     },
     "execution_count": 55,
     "metadata": {},
     "output_type": "execute_result"
    }
   ],
   "source": [
    "list(range(1,10,3)) #starts from 1 ends at 9 and sequence would be 3 in this case"
   ]
  },
  {
   "cell_type": "code",
   "execution_count": null,
   "id": "e1b2260e",
   "metadata": {},
   "outputs": [],
   "source": [
    "# IN TYPESCRIPT\n",
    "'''\n",
    "n = 0\n",
    "for (i=2, i<21, i+=1) {\n",
    "  console.log(n)\n",
    "}\n",
    "'''"
   ]
  },
  {
   "cell_type": "code",
   "execution_count": 57,
   "id": "a7fab996",
   "metadata": {},
   "outputs": [
    {
     "data": {
      "text/plain": [
       "[(0, 'hey'), (1, 'hi'), (2, 'hello')]"
      ]
     },
     "execution_count": 57,
     "metadata": {},
     "output_type": "execute_result"
    }
   ],
   "source": [
    "magicians : list[str] = [\"hey\", \"hi\", \"hello\"]\n",
    "list(enumerate(magicians))"
   ]
  },
  {
   "cell_type": "code",
   "execution_count": 61,
   "id": "81b6a920",
   "metadata": {},
   "outputs": [
    {
     "name": "stdout",
     "output_type": "stream",
     "text": [
      "0 hey\n",
      "1 hi\n",
      "2 hello\n"
     ]
    }
   ],
   "source": [
    "magicians : list[str] = [\"hey\", \"hi\", \"hello\"]\n",
    "for index, name in enumerate(magicians):\n",
    "  print(index, name)"
   ]
  },
  {
   "cell_type": "code",
   "execution_count": 63,
   "id": "b99ab297",
   "metadata": {},
   "outputs": [
    {
     "name": "stdout",
     "output_type": "stream",
     "text": [
      "2\n",
      "4\n",
      "6\n",
      "8\n",
      "10\n",
      "12\n",
      "14\n",
      "16\n",
      "18\n",
      "20\n"
     ]
    }
   ],
   "source": [
    "for n in range(2,21,2):\n",
    "  print(n)"
   ]
  },
  {
   "cell_type": "code",
   "execution_count": 64,
   "id": "5e4b593a",
   "metadata": {},
   "outputs": [
    {
     "name": "stdout",
     "output_type": "stream",
     "text": [
      "2 X 1 = 2\n",
      "2 X 2 = 4\n",
      "2 X 3 = 6\n",
      "2 X 4 = 8\n",
      "2 X 5 = 10\n",
      "2 X 6 = 12\n",
      "2 X 7 = 14\n",
      "2 X 8 = 16\n",
      "2 X 9 = 18\n",
      "2 X 10 = 20\n"
     ]
    }
   ],
   "source": [
    "for n in range(1, 11):\n",
    "  print(f\"2 X {n} = {n*2}\")"
   ]
  },
  {
   "cell_type": "code",
   "execution_count": 66,
   "id": "e25cd659",
   "metadata": {},
   "outputs": [
    {
     "name": "stdout",
     "output_type": "stream",
     "text": [
      "[1, 4, 9, 16, 25, 36, 49, 64, 81, 100]\n"
     ]
    }
   ],
   "source": [
    "squares : list[int] = []\n",
    "for value in range(1, 11):\n",
    "  square = value ** 2\n",
    "  squares.append(square)\n",
    "print(squares)"
   ]
  },
  {
   "cell_type": "markdown",
   "id": "2d10b730",
   "metadata": {},
   "source": [
    "# COMPREHENSIVE LIST\n",
    "\n",
    "* comprehensive style we write code in one like as seen below;\n",
    "* loop_body for item in items_list\n"
   ]
  },
  {
   "cell_type": "code",
   "execution_count": 71,
   "id": "af80ef87",
   "metadata": {},
   "outputs": [],
   "source": [
    "# for item in items_list:\n",
    "#   loop_body\n",
    "# print()\n",
    "\n",
    "# loop_body for item in items_list\n"
   ]
  },
  {
   "cell_type": "code",
   "execution_count": 73,
   "id": "0926ab6a",
   "metadata": {},
   "outputs": [
    {
     "data": {
      "text/plain": [
       "[1, 4, 9, 16, 25, 36, 49, 64, 81, 100]"
      ]
     },
     "execution_count": 73,
     "metadata": {},
     "output_type": "execute_result"
    }
   ],
   "source": [
    "# old style\n",
    "# for i in range(1, 11):\n",
    "#   print(i**2)\n",
    "\n",
    "#comprehensive style\n",
    "\n",
    "[i**2 for i in range(1,11)]"
   ]
  },
  {
   "cell_type": "code",
   "execution_count": 75,
   "id": "c37678d0",
   "metadata": {},
   "outputs": [
    {
     "name": "stdout",
     "output_type": "stream",
     "text": [
      "[1, 2, 3, 4, 5, 6, 7, 8, 0, 9]\n",
      "9\n",
      "0\n",
      "45\n"
     ]
    }
   ],
   "source": [
    "digits : list[int] = [1,2,3,4,5,6,7,8,0,9]\n",
    "print(digits)\n",
    "print(max(digits))\n",
    "print(min(digits))\n",
    "print(sum(digits))"
   ]
  },
  {
   "cell_type": "markdown",
   "id": "9c0f82b2",
   "metadata": {},
   "source": [
    "DEEP COPY"
   ]
  },
  {
   "cell_type": "code",
   "execution_count": 77,
   "id": "5c6bf3c7",
   "metadata": {},
   "outputs": [
    {
     "name": "stdout",
     "output_type": "stream",
     "text": [
      "['burger', 'pizza']\n",
      "['Tikka', 'pizza']\n"
     ]
    }
   ],
   "source": [
    "myfood = [\"burger\", \"pizza\"]\n",
    "yourfood = myfood[:] #deep copy \n",
    "\n",
    "yourfood[0] = \"Tikka\" #advantage of slicing\n",
    "\n",
    "print(myfood)\n",
    "print(yourfood)"
   ]
  },
  {
   "cell_type": "markdown",
   "id": "64a0e7f9",
   "metadata": {},
   "source": [
    "# Tuple\n",
    "* immutable\n",
    "* nothng can append because of its constant nature\n",
    "* elements can be assined to objects in tuple but it will have no effect on tuple itself\n",
    "* tuple ()\n",
    "* can be over-written, reinitialized but it can never change\n",
    "multiple values can be assigned"
   ]
  },
  {
   "cell_type": "code",
   "execution_count": 78,
   "id": "a6e3a590",
   "metadata": {},
   "outputs": [
    {
     "name": "stdout",
     "output_type": "stream",
     "text": [
      "['Pakistan', [1, 2, 3, 20], True]\n"
     ]
    }
   ],
   "source": [
    "from typing import Any\n",
    "data : tuple[Any] = [\"Pakistan\", [1,2,3], True]\n",
    "data[1].append(20)\n",
    "print(data)"
   ]
  }
 ],
 "metadata": {
  "kernelspec": {
   "display_name": "Python 3 (ipykernel)",
   "language": "python",
   "name": "python3"
  },
  "language_info": {
   "codemirror_mode": {
    "name": "ipython",
    "version": 3
   },
   "file_extension": ".py",
   "mimetype": "text/x-python",
   "name": "python",
   "nbconvert_exporter": "python",
   "pygments_lexer": "ipython3",
   "version": "3.12.0"
  }
 },
 "nbformat": 4,
 "nbformat_minor": 5
}
